{
  "cells": [
    {
      "cell_type": "markdown",
      "metadata": {
        "id": "view-in-github",
        "colab_type": "text"
      },
      "source": [
        "<a href=\"https://colab.research.google.com/github/ads-predict-early-alzheimers/project/blob/main/project_part_1_protection.ipynb\" target=\"_parent\"><img src=\"https://colab.research.google.com/assets/colab-badge.svg\" alt=\"Open In Colab\"/></a>"
      ]
    },
    {
      "cell_type": "markdown",
      "id": "1fa8d745",
      "metadata": {
        "papermill": {
          "duration": 0.033537,
          "end_time": "2021-09-14T05:44:51.594987",
          "exception": false,
          "start_time": "2021-09-14T05:44:51.561450",
          "status": "completed"
        },
        "tags": [],
        "id": "1fa8d745"
      },
      "source": [
        "# Alzheimer's prediction protection"
      ]
    },
    {
      "cell_type": "markdown",
      "id": "5c22fb1d",
      "metadata": {
        "papermill": {
          "duration": 0.030315,
          "end_time": "2021-09-14T05:44:51.656322",
          "exception": false,
          "start_time": "2021-09-14T05:44:51.626007",
          "status": "completed"
        },
        "tags": [],
        "id": "5c22fb1d"
      },
      "source": [
        "## What is Alzheimer's disease (AD)?"
      ]
    },
    {
      "cell_type": "markdown",
      "id": "22a31593",
      "metadata": {
        "papermill": {
          "duration": 0.03061,
          "end_time": "2021-09-14T05:44:51.778743",
          "exception": false,
          "start_time": "2021-09-14T05:44:51.748133",
          "status": "completed"
        },
        "tags": [],
        "id": "22a31593"
      },
      "source": [
        "Alzheimer's disease (AD) is a neurodegenerative disease that usually starts slowly and progressively worsens.It is the cause of 60–70% of cases of dementia.The most common early symptom is difficulty in remembering recent events. As the disease advances, symptoms can include problems with language, disorientation (including easily getting lost), mood swings, loss of motivation, self-neglect, and behavioral issues. As a person's condition declines, they often withdraw from family and society.Gradually, bodily functions are lost, ultimately leading to death. Although the speed of progression can vary, the typical life expectancy following diagnosis is three to nine years."
      ]
    },
    {
      "cell_type": "markdown",
      "id": "68737b89",
      "metadata": {
        "papermill": {
          "duration": 0.031837,
          "end_time": "2021-09-14T05:44:51.841039",
          "exception": false,
          "start_time": "2021-09-14T05:44:51.809202",
          "status": "completed"
        },
        "tags": [],
        "id": "68737b89"
      },
      "source": [
        "## What is Dementia?"
      ]
    },
    {
      "cell_type": "markdown",
      "id": "2faad3f8",
      "metadata": {
        "papermill": {
          "duration": 0.030772,
          "end_time": "2021-09-14T05:44:51.902781",
          "exception": false,
          "start_time": "2021-09-14T05:44:51.872009",
          "status": "completed"
        },
        "tags": [],
        "id": "2faad3f8"
      },
      "source": [
        "Dementia is a general term for loss of memory, language, problem-solving and other thinking abilities that are severe enough to interfere with daily life. Alzheimer's is the most common cause of dementia, a general term for memory loss and other cognitive abilities serious enough to interfere with daily life. Alzheimer's disease accounts for 60-80% of dementia cases."
      ]
    },
    {
      "cell_type": "markdown",
      "id": "48cea35d",
      "metadata": {
        "papermill": {
          "duration": 0.031995,
          "end_time": "2021-09-14T05:44:51.965690",
          "exception": false,
          "start_time": "2021-09-14T05:44:51.933695",
          "status": "completed"
        },
        "tags": [],
        "id": "48cea35d"
      },
      "source": [
        "### Our problem statement\n",
        "\n",
        "Estimating the CDR (scale of Dementia) using relevant features in the MRI dataset.\n",
        "\n",
        "The CDR is based on a scale of 0–3: no dementia (CDR = 0), questionable dementia (CDR = 0.5), MCI (CDR = 1), moderate cognitive impairment (CDR = 2), and severe cognitive impairment (CDR = 3)."
      ]
    },
    {
      "cell_type": "code",
      "execution_count": null,
      "id": "818a272f",
      "metadata": {
        "execution": {
          "iopub.execute_input": "2021-09-14T05:44:52.033902Z",
          "iopub.status.busy": "2021-09-14T05:44:52.032343Z",
          "iopub.status.idle": "2021-09-14T05:44:57.391960Z",
          "shell.execute_reply": "2021-09-14T05:44:57.390941Z",
          "shell.execute_reply.started": "2021-09-14T04:46:45.345700Z"
        },
        "papermill": {
          "duration": 5.394891,
          "end_time": "2021-09-14T05:44:57.392132",
          "exception": false,
          "start_time": "2021-09-14T05:44:51.997241",
          "status": "completed"
        },
        "tags": [],
        "id": "818a272f"
      },
      "outputs": [],
      "source": [
        "import tensorflow.compat.v1 as tf\n",
        "from sklearn.metrics import confusion_matrix\n",
        "import numpy as np\n",
        "from scipy.io import loadmat\n",
        "import os\n",
        "from pywt import wavedec\n",
        "from functools import reduce\n",
        "from scipy import signal\n",
        "from scipy.stats import entropy\n",
        "from scipy.fft import fft, ifft\n",
        "import pandas as pd\n",
        "from sklearn.model_selection import train_test_split, StratifiedKFold\n",
        "from sklearn.model_selection import RandomizedSearchCV\n",
        "from sklearn.preprocessing import StandardScaler\n",
        "from tensorflow import keras as K\n",
        "import matplotlib.pyplot as plt\n",
        "import scipy\n",
        "from sklearn import metrics\n",
        "from sklearn.ensemble import RandomForestClassifier\n",
        "from sklearn.neighbors import KNeighborsClassifier\n",
        "from sklearn.svm import SVC\n",
        "from sklearn.metrics import accuracy_score\n",
        "from sklearn.model_selection import KFold,cross_validate\n",
        "from tensorflow.keras.layers import Dense, Activation, Flatten, concatenate, Input, Dropout, LSTM, Bidirectional,BatchNormalization,PReLU,ReLU,Reshape\n",
        "from sklearn.metrics import classification_report\n",
        "from tensorflow.keras.models import Sequential, Model, load_model\n",
        "import matplotlib.pyplot as plt;\n",
        "from tensorflow.keras.callbacks import EarlyStopping, ModelCheckpoint\n",
        "from sklearn.decomposition import PCA\n",
        "from sklearn.model_selection import cross_val_score\n",
        "from tensorflow.keras.layers import Conv1D,Conv2D,Add\n",
        "from tensorflow.keras.layers import MaxPool1D, MaxPooling2D\n",
        "import seaborn as sns"
      ]
    },
    {
      "cell_type": "markdown",
      "id": "08e6feab",
      "metadata": {
        "papermill": {
          "duration": 0.031059,
          "end_time": "2021-09-14T05:44:57.454928",
          "exception": false,
          "start_time": "2021-09-14T05:44:57.423869",
          "status": "completed"
        },
        "tags": [],
        "id": "08e6feab"
      },
      "source": [
        "## Reading the Cross-sectional and Longitudinal MRI datasets."
      ]
    },
    {
      "cell_type": "markdown",
      "id": "c70c7d7e",
      "metadata": {
        "papermill": {
          "duration": 0.030921,
          "end_time": "2021-09-14T05:44:57.517010",
          "exception": false,
          "start_time": "2021-09-14T05:44:57.486089",
          "status": "completed"
        },
        "tags": [],
        "id": "c70c7d7e"
      },
      "source": [
        "We describe the attributes in the dataset with data_cross.info() and data_long.info()"
      ]
    },
    {
      "cell_type": "code",
      "source": [
        "import requests\n",
        "import pandas as pd\n",
        "import io\n",
        "\n",
        "url = 'https://raw.githubusercontent.com/ads-predict-early-alzheimers/project/main/oasis_cross-sectional.csv'\n",
        "response = requests.get(url)\n",
        "assert response.status_code == 200, f\"Failed to download the CSV file: {response.text}\"\n",
        "\n",
        "cross_content = response.content.decode('utf-8')\n",
        "data_cross = pd.read_csv(io.StringIO(cross_content))\n",
        "\n",
        "# Now, you have the CSV data in a pandas DataFrame called `data`\n"
      ],
      "metadata": {
        "id": "5h8OeydKOkYl"
      },
      "id": "5h8OeydKOkYl",
      "execution_count": null,
      "outputs": []
    },
    {
      "cell_type": "code",
      "source": [
        "import requests\n",
        "import pandas as pd\n",
        "\n",
        "url = 'https://raw.githubusercontent.com/ads-predict-early-alzheimers/project/main/oasis_longitudinal.csv'\n",
        "response = requests.get(url)\n",
        "assert response.status_code == 200, f\"Failed to download the CSV file: {response.text}\"\n",
        "\n",
        "long_content = response.content.decode('utf-8')\n",
        "data_long = pd.read_csv(io.StringIO(long_content))\n",
        "\n",
        "# Now, you have the CSV data in a pandas DataFrame called `data`\n"
      ],
      "metadata": {
        "id": "-86Sql0gOvY6"
      },
      "id": "-86Sql0gOvY6",
      "execution_count": null,
      "outputs": []
    },
    {
      "cell_type": "code",
      "execution_count": null,
      "id": "08669ffb",
      "metadata": {
        "execution": {
          "iopub.execute_input": "2021-09-14T05:44:57.583603Z",
          "iopub.status.busy": "2021-09-14T05:44:57.583070Z",
          "iopub.status.idle": "2021-09-14T05:44:57.647700Z",
          "shell.execute_reply": "2021-09-14T05:44:57.647213Z",
          "shell.execute_reply.started": "2021-09-14T04:47:34.443905Z"
        },
        "papermill": {
          "duration": 0.100018,
          "end_time": "2021-09-14T05:44:57.647822",
          "exception": false,
          "start_time": "2021-09-14T05:44:57.547804",
          "status": "completed"
        },
        "tags": [],
        "colab": {
          "base_uri": "https://localhost:8080/"
        },
        "id": "08669ffb",
        "outputId": "cfc53586-fcd2-40a0-936b-43384a10fb38"
      },
      "outputs": [
        {
          "output_type": "stream",
          "name": "stdout",
          "text": [
            "<class 'pandas.core.frame.DataFrame'>\n",
            "RangeIndex: 436 entries, 0 to 435\n",
            "Data columns (total 12 columns):\n",
            " #   Column  Non-Null Count  Dtype  \n",
            "---  ------  --------------  -----  \n",
            " 0   ID      436 non-null    object \n",
            " 1   M/F     436 non-null    object \n",
            " 2   Hand    436 non-null    object \n",
            " 3   Age     436 non-null    int64  \n",
            " 4   Educ    235 non-null    float64\n",
            " 5   SES     216 non-null    float64\n",
            " 6   MMSE    235 non-null    float64\n",
            " 7   CDR     235 non-null    float64\n",
            " 8   eTIV    436 non-null    int64  \n",
            " 9   nWBV    436 non-null    float64\n",
            " 10  ASF     436 non-null    float64\n",
            " 11  Delay   20 non-null     float64\n",
            "dtypes: float64(7), int64(2), object(3)\n",
            "memory usage: 41.0+ KB\n",
            "None\n",
            "<class 'pandas.core.frame.DataFrame'>\n",
            "RangeIndex: 373 entries, 0 to 372\n",
            "Data columns (total 15 columns):\n",
            " #   Column      Non-Null Count  Dtype  \n",
            "---  ------      --------------  -----  \n",
            " 0   Subject ID  373 non-null    object \n",
            " 1   MRI ID      373 non-null    object \n",
            " 2   Group       373 non-null    object \n",
            " 3   Visit       373 non-null    int64  \n",
            " 4   MR Delay    373 non-null    int64  \n",
            " 5   M/F         373 non-null    object \n",
            " 6   Hand        373 non-null    object \n",
            " 7   Age         373 non-null    int64  \n",
            " 8   EDUC        373 non-null    int64  \n",
            " 9   SES         354 non-null    float64\n",
            " 10  MMSE        371 non-null    float64\n",
            " 11  CDR         373 non-null    float64\n",
            " 12  eTIV        373 non-null    int64  \n",
            " 13  nWBV        373 non-null    float64\n",
            " 14  ASF         373 non-null    float64\n",
            "dtypes: float64(5), int64(5), object(5)\n",
            "memory usage: 43.8+ KB\n",
            "None\n"
          ]
        }
      ],
      "source": [
        "print(data_cross.info())\n",
        "print(data_long.info())"
      ]
    },
    {
      "cell_type": "markdown",
      "id": "9fa65249",
      "metadata": {
        "papermill": {
          "duration": 0.031398,
          "end_time": "2021-09-14T05:44:57.711204",
          "exception": false,
          "start_time": "2021-09-14T05:44:57.679806",
          "status": "completed"
        },
        "tags": [],
        "id": "9fa65249"
      },
      "source": [
        "## Checking for null values."
      ]
    },
    {
      "cell_type": "code",
      "execution_count": null,
      "id": "03810d1a",
      "metadata": {
        "execution": {
          "iopub.execute_input": "2021-09-14T05:44:57.789377Z",
          "iopub.status.busy": "2021-09-14T05:44:57.788812Z",
          "iopub.status.idle": "2021-09-14T05:44:57.794900Z",
          "shell.execute_reply": "2021-09-14T05:44:57.795626Z",
          "shell.execute_reply.started": "2021-09-14T04:47:53.506796Z"
        },
        "papermill": {
          "duration": 0.050996,
          "end_time": "2021-09-14T05:44:57.795813",
          "exception": false,
          "start_time": "2021-09-14T05:44:57.744817",
          "status": "completed"
        },
        "tags": [],
        "colab": {
          "base_uri": "https://localhost:8080/"
        },
        "id": "03810d1a",
        "outputId": "e038b0ad-2b22-4603-c3c1-f4d53b267344"
      },
      "outputs": [
        {
          "output_type": "stream",
          "name": "stdout",
          "text": [
            "ID         0\n",
            "M/F        0\n",
            "Hand       0\n",
            "Age        0\n",
            "Educ     201\n",
            "SES      220\n",
            "MMSE     201\n",
            "CDR      201\n",
            "eTIV       0\n",
            "nWBV       0\n",
            "ASF        0\n",
            "Delay    416\n",
            "dtype: int64\n",
            "\n",
            "\n"
          ]
        },
        {
          "output_type": "execute_result",
          "data": {
            "text/plain": [
              "Subject ID     0\n",
              "MRI ID         0\n",
              "Group          0\n",
              "Visit          0\n",
              "MR Delay       0\n",
              "M/F            0\n",
              "Hand           0\n",
              "Age            0\n",
              "EDUC           0\n",
              "SES           19\n",
              "MMSE           2\n",
              "CDR            0\n",
              "eTIV           0\n",
              "nWBV           0\n",
              "ASF            0\n",
              "dtype: int64"
            ]
          },
          "metadata": {},
          "execution_count": 52
        }
      ],
      "source": [
        "print(data_cross.isna().sum())\n",
        "print(\"\\n\")\n",
        "data_long.isna().sum()"
      ]
    },
    {
      "cell_type": "markdown",
      "id": "d7499f2d",
      "metadata": {
        "papermill": {
          "duration": 0.032526,
          "end_time": "2021-09-14T05:44:57.861078",
          "exception": false,
          "start_time": "2021-09-14T05:44:57.828552",
          "status": "completed"
        },
        "tags": [],
        "id": "d7499f2d"
      },
      "source": [
        "Since we will be predicting on the variable \"CDR\", we drop all the rows with undefined or null values"
      ]
    },
    {
      "cell_type": "code",
      "execution_count": null,
      "id": "1ada0509",
      "metadata": {
        "execution": {
          "iopub.execute_input": "2021-09-14T05:44:57.929223Z",
          "iopub.status.busy": "2021-09-14T05:44:57.928398Z",
          "iopub.status.idle": "2021-09-14T05:44:57.947562Z",
          "shell.execute_reply": "2021-09-14T05:44:57.946875Z",
          "shell.execute_reply.started": "2021-09-14T04:47:59.047891Z"
        },
        "papermill": {
          "duration": 0.054146,
          "end_time": "2021-09-14T05:44:57.947671",
          "exception": false,
          "start_time": "2021-09-14T05:44:57.893525",
          "status": "completed"
        },
        "tags": [],
        "id": "1ada0509"
      },
      "outputs": [],
      "source": [
        "data_cross.dropna(subset=['CDR'],inplace=True)"
      ]
    },
    {
      "cell_type": "markdown",
      "id": "bc99760e",
      "metadata": {
        "papermill": {
          "duration": 0.031634,
          "end_time": "2021-09-14T05:44:58.011945",
          "exception": false,
          "start_time": "2021-09-14T05:44:57.980311",
          "status": "completed"
        },
        "tags": [],
        "id": "bc99760e"
      },
      "source": [
        "## Removing unnecessary columns in both datasets.\n",
        "The unique columns would be of no use in estimating the dependent variable \"CDR\""
      ]
    },
    {
      "cell_type": "code",
      "execution_count": null,
      "id": "4d05e68b",
      "metadata": {
        "execution": {
          "iopub.execute_input": "2021-09-14T05:44:58.082844Z",
          "iopub.status.busy": "2021-09-14T05:44:58.082092Z",
          "iopub.status.idle": "2021-09-14T05:44:58.084453Z",
          "shell.execute_reply": "2021-09-14T05:44:58.084047Z",
          "shell.execute_reply.started": "2021-09-14T04:48:01.899876Z"
        },
        "papermill": {
          "duration": 0.040916,
          "end_time": "2021-09-14T05:44:58.084559",
          "exception": false,
          "start_time": "2021-09-14T05:44:58.043643",
          "status": "completed"
        },
        "tags": [],
        "id": "4d05e68b"
      },
      "outputs": [],
      "source": [
        "data_cross.drop(columns=['ID','Delay'],inplace=True)\n",
        "data_long = data_long.rename(columns={'EDUC':'Educ'})\n",
        "data_long.drop(columns=['Subject ID','MRI ID','Group','Visit','MR Delay'],inplace=True)"
      ]
    },
    {
      "cell_type": "markdown",
      "id": "4713badb",
      "metadata": {
        "papermill": {
          "duration": 0.031568,
          "end_time": "2021-09-14T05:44:58.147543",
          "exception": false,
          "start_time": "2021-09-14T05:44:58.115975",
          "status": "completed"
        },
        "tags": [],
        "id": "4713badb"
      },
      "source": [
        "## Appending both the datasets."
      ]
    },
    {
      "cell_type": "code",
      "execution_count": null,
      "id": "9c252bff",
      "metadata": {
        "execution": {
          "iopub.execute_input": "2021-09-14T05:44:58.218543Z",
          "iopub.status.busy": "2021-09-14T05:44:58.217901Z",
          "iopub.status.idle": "2021-09-14T05:44:58.235044Z",
          "shell.execute_reply": "2021-09-14T05:44:58.235531Z",
          "shell.execute_reply.started": "2021-09-14T04:48:05.441062Z"
        },
        "papermill": {
          "duration": 0.05629,
          "end_time": "2021-09-14T05:44:58.235669",
          "exception": false,
          "start_time": "2021-09-14T05:44:58.179379",
          "status": "completed"
        },
        "tags": [],
        "colab": {
          "base_uri": "https://localhost:8080/",
          "height": 206
        },
        "id": "9c252bff",
        "outputId": "f13cfe43-ee11-4c8f-d9b0-141eb5c8f929"
      },
      "outputs": [
        {
          "output_type": "execute_result",
          "data": {
            "text/plain": [
              "  M/F Hand  Age  Educ  SES  MMSE  CDR  eTIV   nWBV    ASF\n",
              "0   F    R   74   2.0  3.0  29.0  0.0  1344  0.743  1.306\n",
              "1   F    R   55   4.0  1.0  29.0  0.0  1147  0.810  1.531\n",
              "2   F    R   73   4.0  3.0  27.0  0.5  1454  0.708  1.207\n",
              "8   M    R   74   5.0  2.0  30.0  0.0  1636  0.689  1.073\n",
              "9   F    R   52   3.0  2.0  30.0  0.0  1321  0.827  1.329"
            ],
            "text/html": [
              "\n",
              "  <div id=\"df-576dca1a-c5f4-47e8-b3e7-ec9b3cf43bd2\">\n",
              "    <div class=\"colab-df-container\">\n",
              "      <div>\n",
              "<style scoped>\n",
              "    .dataframe tbody tr th:only-of-type {\n",
              "        vertical-align: middle;\n",
              "    }\n",
              "\n",
              "    .dataframe tbody tr th {\n",
              "        vertical-align: top;\n",
              "    }\n",
              "\n",
              "    .dataframe thead th {\n",
              "        text-align: right;\n",
              "    }\n",
              "</style>\n",
              "<table border=\"1\" class=\"dataframe\">\n",
              "  <thead>\n",
              "    <tr style=\"text-align: right;\">\n",
              "      <th></th>\n",
              "      <th>M/F</th>\n",
              "      <th>Hand</th>\n",
              "      <th>Age</th>\n",
              "      <th>Educ</th>\n",
              "      <th>SES</th>\n",
              "      <th>MMSE</th>\n",
              "      <th>CDR</th>\n",
              "      <th>eTIV</th>\n",
              "      <th>nWBV</th>\n",
              "      <th>ASF</th>\n",
              "    </tr>\n",
              "  </thead>\n",
              "  <tbody>\n",
              "    <tr>\n",
              "      <th>0</th>\n",
              "      <td>F</td>\n",
              "      <td>R</td>\n",
              "      <td>74</td>\n",
              "      <td>2.0</td>\n",
              "      <td>3.0</td>\n",
              "      <td>29.0</td>\n",
              "      <td>0.0</td>\n",
              "      <td>1344</td>\n",
              "      <td>0.743</td>\n",
              "      <td>1.306</td>\n",
              "    </tr>\n",
              "    <tr>\n",
              "      <th>1</th>\n",
              "      <td>F</td>\n",
              "      <td>R</td>\n",
              "      <td>55</td>\n",
              "      <td>4.0</td>\n",
              "      <td>1.0</td>\n",
              "      <td>29.0</td>\n",
              "      <td>0.0</td>\n",
              "      <td>1147</td>\n",
              "      <td>0.810</td>\n",
              "      <td>1.531</td>\n",
              "    </tr>\n",
              "    <tr>\n",
              "      <th>2</th>\n",
              "      <td>F</td>\n",
              "      <td>R</td>\n",
              "      <td>73</td>\n",
              "      <td>4.0</td>\n",
              "      <td>3.0</td>\n",
              "      <td>27.0</td>\n",
              "      <td>0.5</td>\n",
              "      <td>1454</td>\n",
              "      <td>0.708</td>\n",
              "      <td>1.207</td>\n",
              "    </tr>\n",
              "    <tr>\n",
              "      <th>8</th>\n",
              "      <td>M</td>\n",
              "      <td>R</td>\n",
              "      <td>74</td>\n",
              "      <td>5.0</td>\n",
              "      <td>2.0</td>\n",
              "      <td>30.0</td>\n",
              "      <td>0.0</td>\n",
              "      <td>1636</td>\n",
              "      <td>0.689</td>\n",
              "      <td>1.073</td>\n",
              "    </tr>\n",
              "    <tr>\n",
              "      <th>9</th>\n",
              "      <td>F</td>\n",
              "      <td>R</td>\n",
              "      <td>52</td>\n",
              "      <td>3.0</td>\n",
              "      <td>2.0</td>\n",
              "      <td>30.0</td>\n",
              "      <td>0.0</td>\n",
              "      <td>1321</td>\n",
              "      <td>0.827</td>\n",
              "      <td>1.329</td>\n",
              "    </tr>\n",
              "  </tbody>\n",
              "</table>\n",
              "</div>\n",
              "      <button class=\"colab-df-convert\" onclick=\"convertToInteractive('df-576dca1a-c5f4-47e8-b3e7-ec9b3cf43bd2')\"\n",
              "              title=\"Convert this dataframe to an interactive table.\"\n",
              "              style=\"display:none;\">\n",
              "        \n",
              "  <svg xmlns=\"http://www.w3.org/2000/svg\" height=\"24px\"viewBox=\"0 0 24 24\"\n",
              "       width=\"24px\">\n",
              "    <path d=\"M0 0h24v24H0V0z\" fill=\"none\"/>\n",
              "    <path d=\"M18.56 5.44l.94 2.06.94-2.06 2.06-.94-2.06-.94-.94-2.06-.94 2.06-2.06.94zm-11 1L8.5 8.5l.94-2.06 2.06-.94-2.06-.94L8.5 2.5l-.94 2.06-2.06.94zm10 10l.94 2.06.94-2.06 2.06-.94-2.06-.94-.94-2.06-.94 2.06-2.06.94z\"/><path d=\"M17.41 7.96l-1.37-1.37c-.4-.4-.92-.59-1.43-.59-.52 0-1.04.2-1.43.59L10.3 9.45l-7.72 7.72c-.78.78-.78 2.05 0 2.83L4 21.41c.39.39.9.59 1.41.59.51 0 1.02-.2 1.41-.59l7.78-7.78 2.81-2.81c.8-.78.8-2.07 0-2.86zM5.41 20L4 18.59l7.72-7.72 1.47 1.35L5.41 20z\"/>\n",
              "  </svg>\n",
              "      </button>\n",
              "      \n",
              "  <style>\n",
              "    .colab-df-container {\n",
              "      display:flex;\n",
              "      flex-wrap:wrap;\n",
              "      gap: 12px;\n",
              "    }\n",
              "\n",
              "    .colab-df-convert {\n",
              "      background-color: #E8F0FE;\n",
              "      border: none;\n",
              "      border-radius: 50%;\n",
              "      cursor: pointer;\n",
              "      display: none;\n",
              "      fill: #1967D2;\n",
              "      height: 32px;\n",
              "      padding: 0 0 0 0;\n",
              "      width: 32px;\n",
              "    }\n",
              "\n",
              "    .colab-df-convert:hover {\n",
              "      background-color: #E2EBFA;\n",
              "      box-shadow: 0px 1px 2px rgba(60, 64, 67, 0.3), 0px 1px 3px 1px rgba(60, 64, 67, 0.15);\n",
              "      fill: #174EA6;\n",
              "    }\n",
              "\n",
              "    [theme=dark] .colab-df-convert {\n",
              "      background-color: #3B4455;\n",
              "      fill: #D2E3FC;\n",
              "    }\n",
              "\n",
              "    [theme=dark] .colab-df-convert:hover {\n",
              "      background-color: #434B5C;\n",
              "      box-shadow: 0px 1px 3px 1px rgba(0, 0, 0, 0.15);\n",
              "      filter: drop-shadow(0px 1px 2px rgba(0, 0, 0, 0.3));\n",
              "      fill: #FFFFFF;\n",
              "    }\n",
              "  </style>\n",
              "\n",
              "      <script>\n",
              "        const buttonEl =\n",
              "          document.querySelector('#df-576dca1a-c5f4-47e8-b3e7-ec9b3cf43bd2 button.colab-df-convert');\n",
              "        buttonEl.style.display =\n",
              "          google.colab.kernel.accessAllowed ? 'block' : 'none';\n",
              "\n",
              "        async function convertToInteractive(key) {\n",
              "          const element = document.querySelector('#df-576dca1a-c5f4-47e8-b3e7-ec9b3cf43bd2');\n",
              "          const dataTable =\n",
              "            await google.colab.kernel.invokeFunction('convertToInteractive',\n",
              "                                                     [key], {});\n",
              "          if (!dataTable) return;\n",
              "\n",
              "          const docLinkHtml = 'Like what you see? Visit the ' +\n",
              "            '<a target=\"_blank\" href=https://colab.research.google.com/notebooks/data_table.ipynb>data table notebook</a>'\n",
              "            + ' to learn more about interactive tables.';\n",
              "          element.innerHTML = '';\n",
              "          dataTable['output_type'] = 'display_data';\n",
              "          await google.colab.output.renderOutput(dataTable, element);\n",
              "          const docLink = document.createElement('div');\n",
              "          docLink.innerHTML = docLinkHtml;\n",
              "          element.appendChild(docLink);\n",
              "        }\n",
              "      </script>\n",
              "    </div>\n",
              "  </div>\n",
              "  "
            ]
          },
          "metadata": {},
          "execution_count": 56
        }
      ],
      "source": [
        "data = pd.concat([data_cross,data_long])\n",
        "data.to_csv('combined.csv', index=False)\n",
        "data.head()"
      ]
    },
    {
      "cell_type": "code",
      "execution_count": null,
      "id": "fc078c78",
      "metadata": {
        "execution": {
          "iopub.execute_input": "2021-09-14T05:44:58.305462Z",
          "iopub.status.busy": "2021-09-14T05:44:58.304678Z",
          "iopub.status.idle": "2021-09-14T05:44:58.336320Z",
          "shell.execute_reply": "2021-09-14T05:44:58.336681Z",
          "shell.execute_reply.started": "2021-09-14T04:48:30.333850Z"
        },
        "papermill": {
          "duration": 0.068125,
          "end_time": "2021-09-14T05:44:58.336814",
          "exception": false,
          "start_time": "2021-09-14T05:44:58.268689",
          "status": "completed"
        },
        "tags": [],
        "id": "fc078c78"
      },
      "outputs": [],
      "source": [
        "data.describe()"
      ]
    },
    {
      "cell_type": "markdown",
      "source": [
        "DATA EDA TO UNDERSTAND BASIC STASTICS AND DISTRIBUTIONS OF THE DATASET. \n",
        "\n",
        "This is the first step in the data analysis process to get some knowledge about the dataset before we start performing data preprocessing. We can find certain patterns and distributions of the dataset which can further help us in training the model on this dataset in future. \n",
        "\n",
        "\n",
        "a. Describe the data used by this ADS. How was this data collected or selected?\n",
        "\n",
        "b. For each input feature, describe its datatype, give information on missing values and on the value distribution. Show pairwise correlations between features if appropriate. Run any other reasonable profiling of the input that you find interesting and appropriate.\n",
        "\n",
        "c. What is the output of the system (e.g., is it a class label, a score, a probability, or some other type of output), and how do we interpret it? "
      ],
      "metadata": {
        "id": "hAAUj2sTUx6W"
      },
      "id": "hAAUj2sTUx6W"
    },
    {
      "cell_type": "markdown",
      "source": [
        "Lets make a function which gives us a basic description of the dataset. This function would provide us with the following info about each numeric feature in data.\n",
        "\n",
        "1. Mean, Median, Min and Max value. Also we will show the box-plot for the feature. Boxplots shows the distribution of the feature\n",
        "2. Datatypes.\n",
        "3. Number of missing values.\n",
        "\n",
        "Also we will be showing the pairwise correlations between features of the data. \n"
      ],
      "metadata": {
        "id": "VlfUJKLJXtFS"
      },
      "id": "VlfUJKLJXtFS"
    },
    {
      "cell_type": "code",
      "source": [
        "import matplotlib.pyplot as plt\n",
        "\n",
        "def mydescriber(data):\n",
        "  #fig, ax = plt.subplots(2,4,figsize=(30,12))\n",
        "  column_names = ['Age','Educ','SES','MMSE','CDR','eTIV','nWBV','ASF']\n",
        "  print(column_names)\n",
        "  for n, f in enumerate(column_names):\n",
        "    print(\"Feature Name : \",f)\n",
        "    if(pd.api.types.is_numeric_dtype(data[f]) == True):\n",
        "      print(\"Mean : \",data[f].mean())\n",
        "      print(\"Median : \",data[f].median())\n",
        "      print(\"Min Value : \",data[f].min())\n",
        "      print(\"Max Value : \",data[f].max())\n",
        "      #plt.boxplot(data[f],whis=[5, 95])\n",
        "      #ax[int(np.floor(n/4)),n%4].set_title(f)"
      ],
      "metadata": {
        "id": "fAHRuWh_UxQI"
      },
      "id": "fAHRuWh_UxQI",
      "execution_count": null,
      "outputs": []
    },
    {
      "cell_type": "code",
      "source": [
        "mydescriber(data)"
      ],
      "metadata": {
        "id": "wiXlSHZWacd3"
      },
      "id": "wiXlSHZWacd3",
      "execution_count": null,
      "outputs": []
    },
    {
      "cell_type": "code",
      "source": [
        "import matplotlib.pyplot as plt\n",
        "import seaborn as sns\n",
        "column_names = ['Age','Educ','SES','MMSE','CDR','eTIV','nWBV','ASF']\n",
        "fig, axes = plt.subplots(nrows=1, ncols=len(column_names), figsize=(35, 5)) # Adjust figsize as needed\n",
        "\n",
        "for i, col in enumerate(column_names):\n",
        "    sns.boxplot(y=data[col], ax=axes[i])\n",
        "    axes[i].set_title(col)  \n",
        "\n",
        "plt.tight_layout()\n",
        "plt.show()"
      ],
      "metadata": {
        "id": "o-SK9MlRI0cb"
      },
      "id": "o-SK9MlRI0cb",
      "execution_count": null,
      "outputs": []
    },
    {
      "cell_type": "code",
      "execution_count": null,
      "id": "b56d92f6",
      "metadata": {
        "execution": {
          "iopub.execute_input": "2021-09-14T05:44:58.408665Z",
          "iopub.status.busy": "2021-09-14T05:44:58.407973Z",
          "iopub.status.idle": "2021-09-14T05:44:59.157235Z",
          "shell.execute_reply": "2021-09-14T05:44:59.157765Z",
          "shell.execute_reply.started": "2021-09-14T04:55:37.635279Z"
        },
        "papermill": {
          "duration": 0.787624,
          "end_time": "2021-09-14T05:44:59.157958",
          "exception": false,
          "start_time": "2021-09-14T05:44:58.370334",
          "status": "completed"
        },
        "tags": [],
        "id": "b56d92f6"
      },
      "outputs": [],
      "source": [
        "cor = data.corr()\n",
        "plt.figure(figsize=(12,9))\n",
        "sns.heatmap(cor, xticklabels=cor.columns.values,yticklabels=cor.columns.values, annot=True)\n"
      ]
    },
    {
      "cell_type": "code",
      "execution_count": null,
      "id": "7d12f73c",
      "metadata": {
        "execution": {
          "iopub.execute_input": "2021-09-14T05:45:25.845867Z",
          "iopub.status.busy": "2021-09-14T05:45:25.845196Z",
          "iopub.status.idle": "2021-09-14T05:45:25.847953Z",
          "shell.execute_reply": "2021-09-14T05:45:25.848373Z",
          "shell.execute_reply.started": "2021-09-14T04:56:06.437437Z"
        },
        "papermill": {
          "duration": 0.209869,
          "end_time": "2021-09-14T05:45:25.848510",
          "exception": false,
          "start_time": "2021-09-14T05:45:25.638641",
          "status": "completed"
        },
        "tags": [],
        "id": "7d12f73c"
      },
      "outputs": [],
      "source": [
        "data.isna().sum()"
      ]
    },
    {
      "cell_type": "code",
      "source": [
        "data.dtypes"
      ],
      "metadata": {
        "id": "zNBhbeohj-by"
      },
      "id": "zNBhbeohj-by",
      "execution_count": null,
      "outputs": []
    },
    {
      "cell_type": "code",
      "source": [
        "continous_features = ['Age','eTIV','nWBV','ASF','CDR']\n",
        "custom_palette = ['red','blue','grey','green']\n",
        "sns.pairplot(data[continous_features], hue='CDR', diag_kind='hist',palette='Dark2')"
      ],
      "metadata": {
        "id": "09IwjbPVlNSF"
      },
      "id": "09IwjbPVlNSF",
      "execution_count": null,
      "outputs": []
    },
    {
      "cell_type": "markdown",
      "source": [
        "Lets look at the distributions of each varibles in respect to the target variable 'CDR'."
      ],
      "metadata": {
        "id": "5INt5UfbpHFB"
      },
      "id": "5INt5UfbpHFB"
    },
    {
      "cell_type": "code",
      "source": [
        "sex_counts = data['M/F'].value_counts()\n",
        "colors = ['pink', 'grey']\n",
        "fig,ax = plt.subplots()\n",
        "ax = sex_counts.plot(kind='bar',xlabel='Sex Type',ylabel='Counts',color=colors)\n",
        "ax.set_xticklabels(['Female', 'Male'], rotation=0)"
      ],
      "metadata": {
        "id": "-Ph2v_qhoEWI"
      },
      "id": "-Ph2v_qhoEWI",
      "execution_count": null,
      "outputs": []
    },
    {
      "cell_type": "code",
      "source": [
        "age_counts = data['Age'].value_counts()\n",
        "fig,ax = plt.subplots()\n",
        "ax.hist(data['Age'],bins=10,rwidth=0.95,color='orange')\n",
        "ax.set_xlabel('Age')\n",
        "ax.set_ylabel('Count')"
      ],
      "metadata": {
        "id": "PwSS-2Sg3yWn"
      },
      "id": "PwSS-2Sg3yWn",
      "execution_count": null,
      "outputs": []
    },
    {
      "cell_type": "code",
      "source": [
        "ses_counts = data['SES'].value_counts()\n",
        "fig,ax = plt.subplots()\n",
        "ax.hist(data['SES'],bins=10,rwidth=0.95,color='green')\n",
        "ax.set_xlabel('Socio-Economic Status')\n",
        "ax.set_ylabel('Count')"
      ],
      "metadata": {
        "id": "1lqYE3RS4x3F"
      },
      "id": "1lqYE3RS4x3F",
      "execution_count": null,
      "outputs": []
    },
    {
      "cell_type": "code",
      "source": [
        "# TODO: write code to plot the distribution of age, race, and sex\n",
        "# in this code cell\n",
        "\n",
        "import matplotlib.pyplot as plt\n",
        "import numpy as np\n",
        "\n",
        "x = np.random.normal(170, 10, 250)\n",
        "\n",
        "plt.hist(data[\"Age\"])\n",
        "plt.xlabel(\"Age\")\n",
        "plt.ylabel(\"Frequency\")\n",
        "plt.grid()\n",
        "plt.show()"
      ],
      "metadata": {
        "id": "RDw18j5Z_Ww2"
      },
      "id": "RDw18j5Z_Ww2",
      "execution_count": null,
      "outputs": []
    },
    {
      "cell_type": "markdown",
      "id": "963f1fdd",
      "metadata": {
        "papermill": {
          "duration": 0.201546,
          "end_time": "2021-09-14T05:45:26.244415",
          "exception": false,
          "start_time": "2021-09-14T05:45:26.042869",
          "status": "completed"
        },
        "tags": [],
        "id": "963f1fdd"
      },
      "source": [
        "## Imputing columns using SimpleImputer.\n",
        "We fill in the missing values in the \"SES\" columns with the most occuring data element.\n",
        "Similarly, we fill the missing values in the \"MMSE\" column with the median of that column."
      ]
    },
    {
      "cell_type": "code",
      "execution_count": null,
      "id": "1d4c231e",
      "metadata": {
        "execution": {
          "iopub.execute_input": "2021-09-14T05:45:26.642132Z",
          "iopub.status.busy": "2021-09-14T05:45:26.641215Z",
          "iopub.status.idle": "2021-09-14T05:45:26.665492Z",
          "shell.execute_reply": "2021-09-14T05:45:26.665047Z",
          "shell.execute_reply.started": "2021-09-14T04:56:16.635399Z"
        },
        "papermill": {
          "duration": 0.225191,
          "end_time": "2021-09-14T05:45:26.665618",
          "exception": false,
          "start_time": "2021-09-14T05:45:26.440427",
          "status": "completed"
        },
        "tags": [],
        "id": "1d4c231e"
      },
      "outputs": [],
      "source": [
        "from sklearn.impute  import SimpleImputer\n",
        "imputer = SimpleImputer ( missing_values = np.nan,strategy='most_frequent')\n",
        "\n",
        "imputer.fit(data[['SES']])\n",
        "data[['SES']] = imputer.fit_transform(data[['SES']])\n",
        "\n",
        "# We perform it with the median\n",
        "imputer = SimpleImputer ( missing_values = np.nan,strategy='median')\n",
        "\n",
        "imputer.fit(data[['MMSE']])\n",
        "data[['MMSE']] = imputer.fit_transform(data[['MMSE']])"
      ]
    },
    {
      "cell_type": "code",
      "execution_count": null,
      "id": "6dc706a7",
      "metadata": {
        "execution": {
          "iopub.execute_input": "2021-09-14T05:45:27.082001Z",
          "iopub.status.busy": "2021-09-14T05:45:27.081326Z",
          "iopub.status.idle": "2021-09-14T05:45:27.084071Z",
          "shell.execute_reply": "2021-09-14T05:45:27.084496Z",
          "shell.execute_reply.started": "2021-09-14T04:56:17.616936Z"
        },
        "papermill": {
          "duration": 0.225383,
          "end_time": "2021-09-14T05:45:27.084634",
          "exception": false,
          "start_time": "2021-09-14T05:45:26.859251",
          "status": "completed"
        },
        "tags": [],
        "id": "6dc706a7"
      },
      "outputs": [],
      "source": [
        "data"
      ]
    },
    {
      "cell_type": "code",
      "source": [
        "for i, col_type in enumerate(data.dtypes):\n",
        "    if col_type == \"object\":\n",
        "        print(\"\\nVariable {} takes the values: {}\".format(\n",
        "            data.columns[i],\n",
        "            data[data.columns[i]].unique()))"
      ],
      "metadata": {
        "id": "cW0HDLYdWmbC"
      },
      "id": "cW0HDLYdWmbC",
      "execution_count": null,
      "outputs": []
    },
    {
      "cell_type": "markdown",
      "id": "c8a3cd55",
      "metadata": {
        "papermill": {
          "duration": 0.195193,
          "end_time": "2021-09-14T05:45:27.473698",
          "exception": false,
          "start_time": "2021-09-14T05:45:27.278505",
          "status": "completed"
        },
        "tags": [],
        "id": "c8a3cd55"
      },
      "source": [
        "## Encoding the Target variable using LabelEncoder."
      ]
    },
    {
      "cell_type": "code",
      "execution_count": null,
      "id": "435c3afb",
      "metadata": {
        "execution": {
          "iopub.execute_input": "2021-09-14T05:45:27.874626Z",
          "iopub.status.busy": "2021-09-14T05:45:27.870962Z",
          "iopub.status.idle": "2021-09-14T05:45:27.876687Z",
          "shell.execute_reply": "2021-09-14T05:45:27.877051Z",
          "shell.execute_reply.started": "2021-09-14T04:56:21.635345Z"
        },
        "papermill": {
          "duration": 0.206771,
          "end_time": "2021-09-14T05:45:27.877202",
          "exception": false,
          "start_time": "2021-09-14T05:45:27.670431",
          "status": "completed"
        },
        "tags": [],
        "id": "435c3afb"
      },
      "outputs": [],
      "source": [
        "from sklearn import preprocessing\n",
        "le = preprocessing.LabelEncoder()\n",
        "data['CDR'] = le.fit_transform(data['CDR'].values)"
      ]
    },
    {
      "cell_type": "markdown",
      "id": "0efdf2c3",
      "metadata": {
        "papermill": {
          "duration": 0.193788,
          "end_time": "2021-09-14T05:45:28.273332",
          "exception": false,
          "start_time": "2021-09-14T05:45:28.079544",
          "status": "completed"
        },
        "tags": [],
        "id": "0efdf2c3"
      },
      "source": [
        "Converting categorical variables to numeric using OneHot encoding."
      ]
    },
    {
      "cell_type": "code",
      "execution_count": null,
      "id": "2ce65612",
      "metadata": {
        "execution": {
          "iopub.execute_input": "2021-09-14T05:45:28.723149Z",
          "iopub.status.busy": "2021-09-14T05:45:28.722287Z",
          "iopub.status.idle": "2021-09-14T05:45:28.731944Z",
          "shell.execute_reply": "2021-09-14T05:45:28.733033Z",
          "shell.execute_reply.started": "2021-09-14T04:56:25.900001Z"
        },
        "papermill": {
          "duration": 0.262642,
          "end_time": "2021-09-14T05:45:28.733363",
          "exception": false,
          "start_time": "2021-09-14T05:45:28.470721",
          "status": "completed"
        },
        "tags": [],
        "id": "2ce65612"
      },
      "outputs": [],
      "source": [
        "data = pd.get_dummies(data)"
      ]
    },
    {
      "cell_type": "markdown",
      "id": "a4fa1566",
      "metadata": {
        "papermill": {
          "duration": 0.252695,
          "end_time": "2021-09-14T05:45:29.325423",
          "exception": false,
          "start_time": "2021-09-14T05:45:29.072728",
          "status": "completed"
        },
        "tags": [],
        "id": "a4fa1566"
      },
      "source": [
        "## Plotting the distribution of classes on a barplot."
      ]
    },
    {
      "cell_type": "code",
      "execution_count": null,
      "id": "6eef90e2",
      "metadata": {
        "execution": {
          "iopub.execute_input": "2021-09-14T05:45:29.739939Z",
          "iopub.status.busy": "2021-09-14T05:45:29.728291Z",
          "iopub.status.idle": "2021-09-14T05:45:29.933336Z",
          "shell.execute_reply": "2021-09-14T05:45:29.934077Z",
          "shell.execute_reply.started": "2021-09-14T04:56:29.577511Z"
        },
        "papermill": {
          "duration": 0.414104,
          "end_time": "2021-09-14T05:45:29.934275",
          "exception": false,
          "start_time": "2021-09-14T05:45:29.520171",
          "status": "completed"
        },
        "tags": [],
        "id": "6eef90e2"
      },
      "outputs": [],
      "source": [
        "plt.bar(data['CDR'].unique(),data['CDR'].value_counts())"
      ]
    },
    {
      "cell_type": "markdown",
      "id": "b8a928f4",
      "metadata": {
        "papermill": {
          "duration": 0.196081,
          "end_time": "2021-09-14T05:45:30.331398",
          "exception": false,
          "start_time": "2021-09-14T05:45:30.135317",
          "status": "completed"
        },
        "tags": [],
        "id": "b8a928f4"
      },
      "source": [
        "Neglecting the last class due to negligible size in the combined dataset."
      ]
    },
    {
      "cell_type": "code",
      "execution_count": null,
      "id": "aa6da32c",
      "metadata": {
        "execution": {
          "iopub.execute_input": "2021-09-14T05:45:30.741064Z",
          "iopub.status.busy": "2021-09-14T05:45:30.740028Z",
          "iopub.status.idle": "2021-09-14T05:45:30.744045Z",
          "shell.execute_reply": "2021-09-14T05:45:30.744554Z",
          "shell.execute_reply.started": "2021-09-14T04:56:34.407485Z"
        },
        "papermill": {
          "duration": 0.218429,
          "end_time": "2021-09-14T05:45:30.744976",
          "exception": false,
          "start_time": "2021-09-14T05:45:30.526547",
          "status": "completed"
        },
        "tags": [],
        "id": "aa6da32c"
      },
      "outputs": [],
      "source": [
        "data = data.drop(data[data['CDR']==3].index)\n",
        "data.info()"
      ]
    },
    {
      "cell_type": "code",
      "execution_count": null,
      "id": "44ccf807",
      "metadata": {
        "execution": {
          "iopub.execute_input": "2021-09-14T05:45:31.162050Z",
          "iopub.status.busy": "2021-09-14T05:45:31.160241Z",
          "iopub.status.idle": "2021-09-14T05:45:31.164017Z",
          "shell.execute_reply": "2021-09-14T05:45:31.164487Z",
          "shell.execute_reply.started": "2021-09-14T04:56:37.822220Z"
        },
        "papermill": {
          "duration": 0.207263,
          "end_time": "2021-09-14T05:45:31.164623",
          "exception": false,
          "start_time": "2021-09-14T05:45:30.957360",
          "status": "completed"
        },
        "tags": [],
        "id": "44ccf807"
      },
      "outputs": [],
      "source": [
        "y = data.pop('CDR')\n",
        "x = data"
      ]
    },
    {
      "cell_type": "markdown",
      "id": "43015228",
      "metadata": {
        "papermill": {
          "duration": 0.19482,
          "end_time": "2021-09-14T05:45:31.559912",
          "exception": false,
          "start_time": "2021-09-14T05:45:31.365092",
          "status": "completed"
        },
        "tags": [],
        "id": "43015228"
      },
      "source": [
        "## Normalizing the data.\n",
        "We observe that different columns have different ranges of values. We use Z-score normalization in this case."
      ]
    },
    {
      "cell_type": "code",
      "execution_count": null,
      "id": "41d83800",
      "metadata": {
        "execution": {
          "iopub.execute_input": "2021-09-14T05:45:31.963277Z",
          "iopub.status.busy": "2021-09-14T05:45:31.962328Z",
          "iopub.status.idle": "2021-09-14T05:45:31.968117Z",
          "shell.execute_reply": "2021-09-14T05:45:31.967641Z",
          "shell.execute_reply.started": "2021-09-14T04:56:40.105809Z"
        },
        "papermill": {
          "duration": 0.213176,
          "end_time": "2021-09-14T05:45:31.968281",
          "exception": false,
          "start_time": "2021-09-14T05:45:31.755105",
          "status": "completed"
        },
        "tags": [],
        "id": "41d83800"
      },
      "outputs": [],
      "source": [
        "x = StandardScaler().fit_transform(x)"
      ]
    },
    {
      "cell_type": "markdown",
      "id": "4e0f4313",
      "metadata": {
        "papermill": {
          "duration": 0.196826,
          "end_time": "2021-09-14T05:45:32.362260",
          "exception": false,
          "start_time": "2021-09-14T05:45:32.165434",
          "status": "completed"
        },
        "tags": [],
        "id": "4e0f4313"
      },
      "source": [
        "## Dividing dataset into train and test sets."
      ]
    },
    {
      "cell_type": "code",
      "execution_count": null,
      "id": "30ec57f9",
      "metadata": {
        "execution": {
          "iopub.execute_input": "2021-09-14T05:45:32.763762Z",
          "iopub.status.busy": "2021-09-14T05:45:32.763159Z",
          "iopub.status.idle": "2021-09-14T05:45:32.768197Z",
          "shell.execute_reply": "2021-09-14T05:45:32.767747Z",
          "shell.execute_reply.started": "2021-09-14T04:56:43.165583Z"
        },
        "papermill": {
          "duration": 0.208904,
          "end_time": "2021-09-14T05:45:32.768324",
          "exception": false,
          "start_time": "2021-09-14T05:45:32.559420",
          "status": "completed"
        },
        "tags": [],
        "id": "30ec57f9"
      },
      "outputs": [],
      "source": [
        "X_train, X_test, y_train, y_test = train_test_split(x, y, random_state = 42,test_size=0.3)"
      ]
    },
    {
      "cell_type": "markdown",
      "id": "8730cfc9",
      "metadata": {
        "papermill": {
          "duration": 0.285164,
          "end_time": "2021-09-14T05:45:33.249107",
          "exception": false,
          "start_time": "2021-09-14T05:45:32.963943",
          "status": "completed"
        },
        "tags": [],
        "id": "8730cfc9"
      },
      "source": [
        "## Defining Models."
      ]
    },
    {
      "cell_type": "markdown",
      "id": "b317a31f",
      "metadata": {
        "papermill": {
          "duration": 0.356424,
          "end_time": "2021-09-14T05:45:33.955917",
          "exception": false,
          "start_time": "2021-09-14T05:45:33.599493",
          "status": "completed"
        },
        "tags": [],
        "id": "b317a31f"
      },
      "source": [
        "\n",
        "\n",
        "```\n",
        "# This is formatted as code\n",
        "```\n",
        "\n",
        "### 1. We will try hyperparameter tuning using cross-validation for XGBClassifier."
      ]
    },
    {
      "cell_type": "code",
      "execution_count": null,
      "id": "070b3a7d",
      "metadata": {
        "execution": {
          "iopub.execute_input": "2021-09-14T05:45:34.494060Z",
          "iopub.status.busy": "2021-09-14T05:45:34.493339Z",
          "iopub.status.idle": "2021-09-14T06:09:25.309866Z",
          "shell.execute_reply": "2021-09-14T06:09:25.309036Z",
          "shell.execute_reply.started": "2021-09-14T04:57:22.970625Z"
        },
        "papermill": {
          "duration": 1431.031544,
          "end_time": "2021-09-14T06:09:25.310012",
          "exception": false,
          "start_time": "2021-09-14T05:45:34.278468",
          "status": "completed"
        },
        "tags": [],
        "id": "070b3a7d"
      },
      "outputs": [],
      "source": [
        "from xgboost import XGBClassifier\n",
        "FOLDS = 5\n",
        "\n",
        "parametros_xgb = {\n",
        "    \"learning_rate\": [0.01, 0.025, 0.005,0.5, 0.075, 0.1, 0.15, 0.2,0.3,0.8,0.9],\n",
        "    \"max_depth\":[3,5,8,10,15,20,25,30,40,50],\n",
        "    \"n_estimators\":range(1,1000)\n",
        "    }\n",
        "\n",
        "model_xgb= XGBClassifier(eval_metric='mlogloss')\n",
        "\n",
        "\n",
        "xgb_random = RandomizedSearchCV(estimator = model_xgb, param_distributions = parametros_xgb, n_iter = 100, cv = FOLDS, \n",
        "                               verbose=0, random_state=42,n_jobs = -1, scoring='accuracy')\n",
        "xgb_random.fit(X_train, y_train)\n",
        "\n",
        "xgb_random.best_params_"
      ]
    },
    {
      "cell_type": "code",
      "execution_count": null,
      "id": "6e117f21",
      "metadata": {
        "execution": {
          "iopub.execute_input": "2021-09-14T06:09:25.719323Z",
          "iopub.status.busy": "2021-09-14T06:09:25.712392Z",
          "iopub.status.idle": "2021-09-14T06:09:26.270996Z",
          "shell.execute_reply": "2021-09-14T06:09:26.271817Z",
          "shell.execute_reply.started": "2021-09-14T05:27:00.550496Z"
        },
        "papermill": {
          "duration": 0.765071,
          "end_time": "2021-09-14T06:09:26.272002",
          "exception": false,
          "start_time": "2021-09-14T06:09:25.506931",
          "status": "completed"
        },
        "tags": [],
        "id": "6e117f21"
      },
      "outputs": [],
      "source": [
        "model_xgb = xgb_random.best_estimator_\n",
        "model_xgb.fit(X_train,y_train)\n",
        "model_xgb.score(X_test,y_test)"
      ]
    },
    {
      "cell_type": "markdown",
      "id": "eebd0ea3",
      "metadata": {
        "papermill": {
          "duration": 0.214898,
          "end_time": "2021-09-14T06:09:26.687259",
          "exception": false,
          "start_time": "2021-09-14T06:09:26.472361",
          "status": "completed"
        },
        "tags": [],
        "id": "eebd0ea3"
      },
      "source": [
        "### 2. Trying hyperparameter tuning of GradientBoostingClassifier."
      ]
    },
    {
      "cell_type": "code",
      "execution_count": null,
      "id": "14d1359a",
      "metadata": {
        "execution": {
          "iopub.execute_input": "2021-09-14T06:09:27.095245Z",
          "iopub.status.busy": "2021-09-14T06:09:27.094362Z",
          "iopub.status.idle": "2021-09-14T06:11:59.309875Z",
          "shell.execute_reply": "2021-09-14T06:11:59.310656Z",
          "shell.execute_reply.started": "2021-09-14T05:27:00.806939Z"
        },
        "papermill": {
          "duration": 152.425113,
          "end_time": "2021-09-14T06:11:59.310867",
          "exception": false,
          "start_time": "2021-09-14T06:09:26.885754",
          "status": "completed"
        },
        "tags": [],
        "id": "14d1359a"
      },
      "outputs": [],
      "source": [
        "from sklearn.ensemble import GradientBoostingClassifier\n",
        "FOLDS =10\n",
        "\n",
        "parametros_gb = {\n",
        "    \"loss\":[\"deviance\"],\n",
        "    \"learning_rate\": [0.01, 0.025, 0.005,0.5, 0.075, 0.1, 0.15, 0.2,0.3,0.8,0.9],\n",
        "    \"min_samples_split\": [0.01, 0.025, 0.005,0.4,0.5, 0.075, 0.1, 0.15, 0.2,0.3,0.8,0.9],\n",
        "    \"min_samples_leaf\": [1,2,3,5,8,10,15,20,40,50,55,60,65,70,80,85,90,100],\n",
        "    \"max_depth\":[3,5,8,10,15,20,25,30,40,50],\n",
        "    \"max_features\":[\"log2\",\"sqrt\"],\n",
        "    \"criterion\": [\"friedman_mse\",  \"squared_error\"],\n",
        "    \"subsample\":[0.5, 0.618, 0.8, 0.85, 0.9, 0.95, 1.0],\n",
        "    \"n_estimators\":range(1,100)\n",
        "    }\n",
        "\n",
        "model_gb= GradientBoostingClassifier()\n",
        "\n",
        "\n",
        "gb_random = RandomizedSearchCV(estimator = model_gb, param_distributions = parametros_gb, n_iter = 100, cv = FOLDS, \n",
        "                               verbose=0, random_state=42,n_jobs = -1, scoring='accuracy')\n",
        "gb_random.fit(X_train, y_train)\n",
        "\n",
        "gb_random.best_params_"
      ]
    },
    {
      "cell_type": "code",
      "execution_count": null,
      "id": "0831b693",
      "metadata": {
        "execution": {
          "iopub.execute_input": "2021-09-14T06:11:59.713966Z",
          "iopub.status.busy": "2021-09-14T06:11:59.713009Z",
          "iopub.status.idle": "2021-09-14T06:11:59.717236Z",
          "shell.execute_reply": "2021-09-14T06:11:59.716795Z",
          "shell.execute_reply.started": "2021-09-14T05:30:06.395729Z"
        },
        "papermill": {
          "duration": 0.210848,
          "end_time": "2021-09-14T06:11:59.717352",
          "exception": false,
          "start_time": "2021-09-14T06:11:59.506504",
          "status": "completed"
        },
        "tags": [],
        "id": "0831b693"
      },
      "outputs": [],
      "source": [
        "model_gb = gb_random.best_estimator_\n",
        "print(model_gb.score(X_test,y_test))"
      ]
    },
    {
      "cell_type": "markdown",
      "id": "a5c39463",
      "metadata": {
        "papermill": {
          "duration": 0.198999,
          "end_time": "2021-09-14T06:12:00.116544",
          "exception": false,
          "start_time": "2021-09-14T06:11:59.917545",
          "status": "completed"
        },
        "tags": [],
        "id": "a5c39463"
      },
      "source": [
        "GradientBoosting model performs better than XGboost, Hence we try 10-fold cross validation on GradientBoostingClassifier model to improve accuracy."
      ]
    },
    {
      "cell_type": "code",
      "execution_count": null,
      "id": "2c15354c",
      "metadata": {
        "execution": {
          "iopub.execute_input": "2021-09-14T06:12:00.520286Z",
          "iopub.status.busy": "2021-09-14T06:12:00.519443Z",
          "iopub.status.idle": "2021-09-14T06:12:04.963689Z",
          "shell.execute_reply": "2021-09-14T06:12:04.962519Z",
          "shell.execute_reply.started": "2021-09-14T05:42:16.797171Z"
        },
        "papermill": {
          "duration": 4.648814,
          "end_time": "2021-09-14T06:12:04.963822",
          "exception": false,
          "start_time": "2021-09-14T06:12:00.315008",
          "status": "completed"
        },
        "tags": [],
        "id": "2c15354c"
      },
      "outputs": [],
      "source": [
        "cross_val_score(model_gb, x, y, cv=10, scoring='accuracy').mean()"
      ]
    },
    {
      "cell_type": "markdown",
      "id": "1d38f50d",
      "metadata": {
        "papermill": {
          "duration": 0.203227,
          "end_time": "2021-09-14T06:12:05.365930",
          "exception": false,
          "start_time": "2021-09-14T06:12:05.162703",
          "status": "completed"
        },
        "tags": [],
        "id": "1d38f50d"
      },
      "source": [
        "### Making predictions using the best estimator and plotting the confusion matrix along with classification report."
      ]
    },
    {
      "cell_type": "code",
      "execution_count": null,
      "id": "acee9ecd",
      "metadata": {
        "execution": {
          "iopub.execute_input": "2021-09-14T06:12:05.771542Z",
          "iopub.status.busy": "2021-09-14T06:12:05.770959Z",
          "iopub.status.idle": "2021-09-14T06:12:05.934640Z",
          "shell.execute_reply": "2021-09-14T06:12:05.935091Z",
          "shell.execute_reply.started": "2021-09-14T05:30:26.213710Z"
        },
        "papermill": {
          "duration": 0.372479,
          "end_time": "2021-09-14T06:12:05.935249",
          "exception": false,
          "start_time": "2021-09-14T06:12:05.562770",
          "status": "completed"
        },
        "tags": [],
        "id": "acee9ecd"
      },
      "outputs": [],
      "source": [
        "y_pred = model_gb.predict(X_test)\n",
        "\n",
        "cm = confusion_matrix(y_test, y_pred)\n",
        "clr = classification_report(y_test, y_pred)\n",
        "\n",
        "plt.figure(figsize=(8, 8))\n",
        "sns.heatmap(cm, annot=True, vmin=0, fmt='g', cbar=False, cmap='Blues')\n",
        "plt.xlabel(\"Predicted\")\n",
        "plt.ylabel(\"Actual\")\n",
        "plt.title(\"Confusion Matrix\")\n",
        "plt.show()\n",
        "\n",
        "print(\"Classification Report:\\n----------------------\\n\", clr)\n"
      ]
    },
    {
      "cell_type": "code",
      "source": [
        "# Install DataSynthesizer\n",
        "!pip install DataSynthesizer"
      ],
      "metadata": {
        "id": "nd-yN5S2EcWB",
        "outputId": "0fe9cd77-9b5b-4704-d828-15cce3fead17",
        "colab": {
          "base_uri": "https://localhost:8080/"
        }
      },
      "id": "nd-yN5S2EcWB",
      "execution_count": null,
      "outputs": [
        {
          "output_type": "stream",
          "name": "stdout",
          "text": [
            "Looking in indexes: https://pypi.org/simple, https://us-python.pkg.dev/colab-wheels/public/simple/\n",
            "Requirement already satisfied: DataSynthesizer in /usr/local/lib/python3.10/dist-packages (0.1.11)\n",
            "Requirement already satisfied: numpy>=1.18.5 in /usr/local/lib/python3.10/dist-packages (from DataSynthesizer) (1.22.4)\n",
            "Requirement already satisfied: pandas>=1.0.5 in /usr/local/lib/python3.10/dist-packages (from DataSynthesizer) (1.5.3)\n",
            "Requirement already satisfied: scikit-learn>=0.23.1 in /usr/local/lib/python3.10/dist-packages (from DataSynthesizer) (1.2.2)\n",
            "Requirement already satisfied: matplotlib>=3.2.2 in /usr/local/lib/python3.10/dist-packages (from DataSynthesizer) (3.7.1)\n",
            "Requirement already satisfied: seaborn>=0.10.1 in /usr/local/lib/python3.10/dist-packages (from DataSynthesizer) (0.12.2)\n",
            "Requirement already satisfied: python-dateutil>=2.8.1 in /usr/local/lib/python3.10/dist-packages (from DataSynthesizer) (2.8.2)\n",
            "Requirement already satisfied: contourpy>=1.0.1 in /usr/local/lib/python3.10/dist-packages (from matplotlib>=3.2.2->DataSynthesizer) (1.0.7)\n",
            "Requirement already satisfied: cycler>=0.10 in /usr/local/lib/python3.10/dist-packages (from matplotlib>=3.2.2->DataSynthesizer) (0.11.0)\n",
            "Requirement already satisfied: fonttools>=4.22.0 in /usr/local/lib/python3.10/dist-packages (from matplotlib>=3.2.2->DataSynthesizer) (4.39.3)\n",
            "Requirement already satisfied: kiwisolver>=1.0.1 in /usr/local/lib/python3.10/dist-packages (from matplotlib>=3.2.2->DataSynthesizer) (1.4.4)\n",
            "Requirement already satisfied: packaging>=20.0 in /usr/local/lib/python3.10/dist-packages (from matplotlib>=3.2.2->DataSynthesizer) (23.1)\n",
            "Requirement already satisfied: pillow>=6.2.0 in /usr/local/lib/python3.10/dist-packages (from matplotlib>=3.2.2->DataSynthesizer) (8.4.0)\n",
            "Requirement already satisfied: pyparsing>=2.3.1 in /usr/local/lib/python3.10/dist-packages (from matplotlib>=3.2.2->DataSynthesizer) (3.0.9)\n",
            "Requirement already satisfied: pytz>=2020.1 in /usr/local/lib/python3.10/dist-packages (from pandas>=1.0.5->DataSynthesizer) (2022.7.1)\n",
            "Requirement already satisfied: six>=1.5 in /usr/local/lib/python3.10/dist-packages (from python-dateutil>=2.8.1->DataSynthesizer) (1.16.0)\n",
            "Requirement already satisfied: scipy>=1.3.2 in /usr/local/lib/python3.10/dist-packages (from scikit-learn>=0.23.1->DataSynthesizer) (1.10.1)\n",
            "Requirement already satisfied: joblib>=1.1.1 in /usr/local/lib/python3.10/dist-packages (from scikit-learn>=0.23.1->DataSynthesizer) (1.2.0)\n",
            "Requirement already satisfied: threadpoolctl>=2.0.0 in /usr/local/lib/python3.10/dist-packages (from scikit-learn>=0.23.1->DataSynthesizer) (3.1.0)\n"
          ]
        }
      ]
    },
    {
      "cell_type": "code",
      "source": [
        "# Import packages\n",
        "import json\n",
        "import pandas as pd\n",
        "import matplotlib.pyplot as plt\n",
        "%matplotlib inline\n",
        "from IPython.display import Image\n",
        "\n",
        "from DataSynthesizer.DataDescriber import DataDescriber\n",
        "from DataSynthesizer.DataGenerator import DataGenerator\n",
        "from DataSynthesizer.ModelInspector import ModelInspector\n",
        "from DataSynthesizer.lib.utils import read_json_file, display_bayesian_network"
      ],
      "metadata": {
        "id": "gq2t4KbIGqJu"
      },
      "id": "gq2t4KbIGqJu",
      "execution_count": null,
      "outputs": []
    },
    {
      "cell_type": "code",
      "source": [
        "!wget -O combined.csv.csv https://raw.githubusercontent.com/ads-predict-early-alzheimers/project/main/oasis_longitudinal.csv"
      ],
      "metadata": {
        "id": "VyQT4yg3Odg6",
        "outputId": "249c5e20-5bc9-4440-9e07-7368104acdfe",
        "colab": {
          "base_uri": "https://localhost:8080/"
        }
      },
      "id": "VyQT4yg3Odg6",
      "execution_count": null,
      "outputs": [
        {
          "output_type": "stream",
          "name": "stdout",
          "text": [
            "--2023-05-09 20:35:50--  https://raw.githubusercontent.com/ads-predict-early-alzheimers/project/main/oasis_longitudinal.csv\n",
            "Resolving raw.githubusercontent.com (raw.githubusercontent.com)... 185.199.108.133, 185.199.109.133, 185.199.110.133, ...\n",
            "Connecting to raw.githubusercontent.com (raw.githubusercontent.com)|185.199.108.133|:443... connected.\n",
            "HTTP request sent, awaiting response... 200 OK\n",
            "Length: 28290 (28K) [text/plain]\n",
            "Saving to: ‘combined.csv.csv’\n",
            "\n",
            "\rcombined.csv.csv      0%[                    ]       0  --.-KB/s               \rcombined.csv.csv    100%[===================>]  27.63K  --.-KB/s    in 0s      \n",
            "\n",
            "2023-05-09 20:35:50 (78.2 MB/s) - ‘combined.csv.csv’ saved [28290/28290]\n",
            "\n"
          ]
        }
      ]
    },
    {
      "cell_type": "code",
      "source": [
        "# Intialize a describer and a generator\n",
        "describer = DataDescriber()\n",
        "generator = DataGenerator()"
      ],
      "metadata": {
        "id": "3NjvONtzIRw8"
      },
      "id": "3NjvONtzIRw8",
      "execution_count": null,
      "outputs": []
    },
    {
      "cell_type": "code",
      "source": [
        "# Set up some paths\n",
        "description_files = {'random mode':                   'description(random).json', \n",
        "                     'independent attribute mode':    'description(independent).json', \n",
        "                     'correlated attribute mode':     'description(correlated).json'}\n",
        "synthetic_data_files = {'random mode':                'synthetic data(random).csv', \n",
        "                        'independent attribute mode': 'synthetic data(independent).csv', \n",
        "                        'correlated attribute mode':  'synthetic data(correlated).csv'}\n",
        "\n",
        "output_data_size = 1000"
      ],
      "metadata": {
        "id": "43k5hQhgISey"
      },
      "id": "43k5hQhgISey",
      "execution_count": null,
      "outputs": []
    },
    {
      "cell_type": "code",
      "source": [
        "sensitive_data_file = 'combined.csv'"
      ],
      "metadata": {
        "id": "T4PfuWtvOnJ6"
      },
      "id": "T4PfuWtvOnJ6",
      "execution_count": null,
      "outputs": []
    },
    {
      "cell_type": "code",
      "source": [
        "real_data = pd.read_csv(sensitive_data_file)\n",
        "real_data.head()"
      ],
      "metadata": {
        "id": "Vg1ORPxjOsb9",
        "outputId": "945d1312-dd06-400f-8a6a-05773156ca71",
        "colab": {
          "base_uri": "https://localhost:8080/",
          "height": 206
        }
      },
      "id": "Vg1ORPxjOsb9",
      "execution_count": null,
      "outputs": [
        {
          "output_type": "execute_result",
          "data": {
            "text/plain": [
              "  M/F Hand  Age  Educ  SES  MMSE  CDR  eTIV   nWBV    ASF\n",
              "0   F    R   74   2.0  3.0  29.0  0.0  1344  0.743  1.306\n",
              "1   F    R   55   4.0  1.0  29.0  0.0  1147  0.810  1.531\n",
              "2   F    R   73   4.0  3.0  27.0  0.5  1454  0.708  1.207\n",
              "3   M    R   74   5.0  2.0  30.0  0.0  1636  0.689  1.073\n",
              "4   F    R   52   3.0  2.0  30.0  0.0  1321  0.827  1.329"
            ],
            "text/html": [
              "\n",
              "  <div id=\"df-174aa498-1201-40d3-abc2-fad6dfa427be\">\n",
              "    <div class=\"colab-df-container\">\n",
              "      <div>\n",
              "<style scoped>\n",
              "    .dataframe tbody tr th:only-of-type {\n",
              "        vertical-align: middle;\n",
              "    }\n",
              "\n",
              "    .dataframe tbody tr th {\n",
              "        vertical-align: top;\n",
              "    }\n",
              "\n",
              "    .dataframe thead th {\n",
              "        text-align: right;\n",
              "    }\n",
              "</style>\n",
              "<table border=\"1\" class=\"dataframe\">\n",
              "  <thead>\n",
              "    <tr style=\"text-align: right;\">\n",
              "      <th></th>\n",
              "      <th>M/F</th>\n",
              "      <th>Hand</th>\n",
              "      <th>Age</th>\n",
              "      <th>Educ</th>\n",
              "      <th>SES</th>\n",
              "      <th>MMSE</th>\n",
              "      <th>CDR</th>\n",
              "      <th>eTIV</th>\n",
              "      <th>nWBV</th>\n",
              "      <th>ASF</th>\n",
              "    </tr>\n",
              "  </thead>\n",
              "  <tbody>\n",
              "    <tr>\n",
              "      <th>0</th>\n",
              "      <td>F</td>\n",
              "      <td>R</td>\n",
              "      <td>74</td>\n",
              "      <td>2.0</td>\n",
              "      <td>3.0</td>\n",
              "      <td>29.0</td>\n",
              "      <td>0.0</td>\n",
              "      <td>1344</td>\n",
              "      <td>0.743</td>\n",
              "      <td>1.306</td>\n",
              "    </tr>\n",
              "    <tr>\n",
              "      <th>1</th>\n",
              "      <td>F</td>\n",
              "      <td>R</td>\n",
              "      <td>55</td>\n",
              "      <td>4.0</td>\n",
              "      <td>1.0</td>\n",
              "      <td>29.0</td>\n",
              "      <td>0.0</td>\n",
              "      <td>1147</td>\n",
              "      <td>0.810</td>\n",
              "      <td>1.531</td>\n",
              "    </tr>\n",
              "    <tr>\n",
              "      <th>2</th>\n",
              "      <td>F</td>\n",
              "      <td>R</td>\n",
              "      <td>73</td>\n",
              "      <td>4.0</td>\n",
              "      <td>3.0</td>\n",
              "      <td>27.0</td>\n",
              "      <td>0.5</td>\n",
              "      <td>1454</td>\n",
              "      <td>0.708</td>\n",
              "      <td>1.207</td>\n",
              "    </tr>\n",
              "    <tr>\n",
              "      <th>3</th>\n",
              "      <td>M</td>\n",
              "      <td>R</td>\n",
              "      <td>74</td>\n",
              "      <td>5.0</td>\n",
              "      <td>2.0</td>\n",
              "      <td>30.0</td>\n",
              "      <td>0.0</td>\n",
              "      <td>1636</td>\n",
              "      <td>0.689</td>\n",
              "      <td>1.073</td>\n",
              "    </tr>\n",
              "    <tr>\n",
              "      <th>4</th>\n",
              "      <td>F</td>\n",
              "      <td>R</td>\n",
              "      <td>52</td>\n",
              "      <td>3.0</td>\n",
              "      <td>2.0</td>\n",
              "      <td>30.0</td>\n",
              "      <td>0.0</td>\n",
              "      <td>1321</td>\n",
              "      <td>0.827</td>\n",
              "      <td>1.329</td>\n",
              "    </tr>\n",
              "  </tbody>\n",
              "</table>\n",
              "</div>\n",
              "      <button class=\"colab-df-convert\" onclick=\"convertToInteractive('df-174aa498-1201-40d3-abc2-fad6dfa427be')\"\n",
              "              title=\"Convert this dataframe to an interactive table.\"\n",
              "              style=\"display:none;\">\n",
              "        \n",
              "  <svg xmlns=\"http://www.w3.org/2000/svg\" height=\"24px\"viewBox=\"0 0 24 24\"\n",
              "       width=\"24px\">\n",
              "    <path d=\"M0 0h24v24H0V0z\" fill=\"none\"/>\n",
              "    <path d=\"M18.56 5.44l.94 2.06.94-2.06 2.06-.94-2.06-.94-.94-2.06-.94 2.06-2.06.94zm-11 1L8.5 8.5l.94-2.06 2.06-.94-2.06-.94L8.5 2.5l-.94 2.06-2.06.94zm10 10l.94 2.06.94-2.06 2.06-.94-2.06-.94-.94-2.06-.94 2.06-2.06.94z\"/><path d=\"M17.41 7.96l-1.37-1.37c-.4-.4-.92-.59-1.43-.59-.52 0-1.04.2-1.43.59L10.3 9.45l-7.72 7.72c-.78.78-.78 2.05 0 2.83L4 21.41c.39.39.9.59 1.41.59.51 0 1.02-.2 1.41-.59l7.78-7.78 2.81-2.81c.8-.78.8-2.07 0-2.86zM5.41 20L4 18.59l7.72-7.72 1.47 1.35L5.41 20z\"/>\n",
              "  </svg>\n",
              "      </button>\n",
              "      \n",
              "  <style>\n",
              "    .colab-df-container {\n",
              "      display:flex;\n",
              "      flex-wrap:wrap;\n",
              "      gap: 12px;\n",
              "    }\n",
              "\n",
              "    .colab-df-convert {\n",
              "      background-color: #E8F0FE;\n",
              "      border: none;\n",
              "      border-radius: 50%;\n",
              "      cursor: pointer;\n",
              "      display: none;\n",
              "      fill: #1967D2;\n",
              "      height: 32px;\n",
              "      padding: 0 0 0 0;\n",
              "      width: 32px;\n",
              "    }\n",
              "\n",
              "    .colab-df-convert:hover {\n",
              "      background-color: #E2EBFA;\n",
              "      box-shadow: 0px 1px 2px rgba(60, 64, 67, 0.3), 0px 1px 3px 1px rgba(60, 64, 67, 0.15);\n",
              "      fill: #174EA6;\n",
              "    }\n",
              "\n",
              "    [theme=dark] .colab-df-convert {\n",
              "      background-color: #3B4455;\n",
              "      fill: #D2E3FC;\n",
              "    }\n",
              "\n",
              "    [theme=dark] .colab-df-convert:hover {\n",
              "      background-color: #434B5C;\n",
              "      box-shadow: 0px 1px 3px 1px rgba(0, 0, 0, 0.15);\n",
              "      filter: drop-shadow(0px 1px 2px rgba(0, 0, 0, 0.3));\n",
              "      fill: #FFFFFF;\n",
              "    }\n",
              "  </style>\n",
              "\n",
              "      <script>\n",
              "        const buttonEl =\n",
              "          document.querySelector('#df-174aa498-1201-40d3-abc2-fad6dfa427be button.colab-df-convert');\n",
              "        buttonEl.style.display =\n",
              "          google.colab.kernel.accessAllowed ? 'block' : 'none';\n",
              "\n",
              "        async function convertToInteractive(key) {\n",
              "          const element = document.querySelector('#df-174aa498-1201-40d3-abc2-fad6dfa427be');\n",
              "          const dataTable =\n",
              "            await google.colab.kernel.invokeFunction('convertToInteractive',\n",
              "                                                     [key], {});\n",
              "          if (!dataTable) return;\n",
              "\n",
              "          const docLinkHtml = 'Like what you see? Visit the ' +\n",
              "            '<a target=\"_blank\" href=https://colab.research.google.com/notebooks/data_table.ipynb>data table notebook</a>'\n",
              "            + ' to learn more about interactive tables.';\n",
              "          element.innerHTML = '';\n",
              "          dataTable['output_type'] = 'display_data';\n",
              "          await google.colab.output.renderOutput(dataTable, element);\n",
              "          const docLink = document.createElement('div');\n",
              "          docLink.innerHTML = docLinkHtml;\n",
              "          element.appendChild(docLink);\n",
              "        }\n",
              "      </script>\n",
              "    </div>\n",
              "  </div>\n",
              "  "
            ]
          },
          "metadata": {},
          "execution_count": 69
        }
      ]
    },
    {
      "cell_type": "markdown",
      "metadata": {
        "id": "qQqbrN5LUoCk"
      },
      "source": [
        "## Random mode\n",
        "\n",
        "In random mode, we replace the feature(s) that we want to protect with random values drawn from a uniform distribution:"
      ],
      "id": "qQqbrN5LUoCk"
    },
    {
      "cell_type": "code",
      "execution_count": null,
      "metadata": {
        "id": "IUtKY-t3UoCl"
      },
      "outputs": [],
      "source": [
        "describer.describe_dataset_in_random_mode(sensitive_data_file)"
      ],
      "id": "IUtKY-t3UoCl"
    },
    {
      "cell_type": "code",
      "execution_count": null,
      "metadata": {
        "id": "B__i_IeuUoCl"
      },
      "outputs": [],
      "source": [
        "describer.save_dataset_description_to_file(description_files['random mode'])"
      ],
      "id": "B__i_IeuUoCl"
    },
    {
      "cell_type": "markdown",
      "metadata": {
        "id": "BzsnFv6uUoCl"
      },
      "source": [
        "#### Important parameters in random mode\n",
        "\n",
        "Let's generate synthetic data in random mode. Pay attention to these parameters:\n",
        "\n",
        "- __seed__: initialize the random number generator for both `random` and `np.random`\n",
        "- __mininum__, __maximum__: determines the min and max of the random distribution from which we will draw the new values"
      ],
      "id": "BzsnFv6uUoCl"
    },
    {
      "cell_type": "code",
      "execution_count": null,
      "metadata": {
        "id": "bOUP3RS5UoCl"
      },
      "outputs": [],
      "source": [
        "generator.generate_dataset_in_random_mode(n=output_data_size, \n",
        "                                          description_file=description_files['random mode'], \n",
        "                                          seed=0, \n",
        "                                          minimum=0, \n",
        "                                          maximum=100)"
      ],
      "id": "bOUP3RS5UoCl"
    },
    {
      "cell_type": "markdown",
      "metadata": {
        "id": "-3hPX3VEMhDn"
      },
      "source": [
        "Now let's save the synthetic data, read it as a pandas dataframe, and look at the data:"
      ],
      "id": "-3hPX3VEMhDn"
    },
    {
      "cell_type": "code",
      "execution_count": null,
      "metadata": {
        "id": "YVbIBDFOUoCm"
      },
      "outputs": [],
      "source": [
        "generator.save_synthetic_data(synthetic_data_files['random mode'])"
      ],
      "id": "YVbIBDFOUoCm"
    },
    {
      "cell_type": "code",
      "execution_count": null,
      "metadata": {
        "id": "CEWufzwbUoCm"
      },
      "outputs": [],
      "source": [
        "synthetic_random = pd.read_csv(synthetic_data_files['random mode'])"
      ],
      "id": "CEWufzwbUoCm"
    },
    {
      "cell_type": "code",
      "execution_count": null,
      "metadata": {
        "colab": {
          "base_uri": "https://localhost:8080/",
          "height": 206
        },
        "id": "AzJIHgITUoCm",
        "outputId": "2a1da58f-60df-49dd-e34e-d7a1bfd30700"
      },
      "outputs": [
        {
          "output_type": "execute_result",
          "data": {
            "text/plain": [
              "  M/F Hand  Age  Educ  SES  MMSE  CDR  eTIV   nWBV    ASF\n",
              "0   F    R   74   2.0  3.0  29.0  0.0  1344  0.743  1.306\n",
              "1   F    R   55   4.0  1.0  29.0  0.0  1147  0.810  1.531\n",
              "2   F    R   73   4.0  3.0  27.0  0.5  1454  0.708  1.207\n",
              "3   M    R   74   5.0  2.0  30.0  0.0  1636  0.689  1.073\n",
              "4   F    R   52   3.0  2.0  30.0  0.0  1321  0.827  1.329"
            ],
            "text/html": [
              "\n",
              "  <div id=\"df-bda6cd28-1fc5-4cac-a7e1-33b4266006b6\">\n",
              "    <div class=\"colab-df-container\">\n",
              "      <div>\n",
              "<style scoped>\n",
              "    .dataframe tbody tr th:only-of-type {\n",
              "        vertical-align: middle;\n",
              "    }\n",
              "\n",
              "    .dataframe tbody tr th {\n",
              "        vertical-align: top;\n",
              "    }\n",
              "\n",
              "    .dataframe thead th {\n",
              "        text-align: right;\n",
              "    }\n",
              "</style>\n",
              "<table border=\"1\" class=\"dataframe\">\n",
              "  <thead>\n",
              "    <tr style=\"text-align: right;\">\n",
              "      <th></th>\n",
              "      <th>M/F</th>\n",
              "      <th>Hand</th>\n",
              "      <th>Age</th>\n",
              "      <th>Educ</th>\n",
              "      <th>SES</th>\n",
              "      <th>MMSE</th>\n",
              "      <th>CDR</th>\n",
              "      <th>eTIV</th>\n",
              "      <th>nWBV</th>\n",
              "      <th>ASF</th>\n",
              "    </tr>\n",
              "  </thead>\n",
              "  <tbody>\n",
              "    <tr>\n",
              "      <th>0</th>\n",
              "      <td>F</td>\n",
              "      <td>R</td>\n",
              "      <td>74</td>\n",
              "      <td>2.0</td>\n",
              "      <td>3.0</td>\n",
              "      <td>29.0</td>\n",
              "      <td>0.0</td>\n",
              "      <td>1344</td>\n",
              "      <td>0.743</td>\n",
              "      <td>1.306</td>\n",
              "    </tr>\n",
              "    <tr>\n",
              "      <th>1</th>\n",
              "      <td>F</td>\n",
              "      <td>R</td>\n",
              "      <td>55</td>\n",
              "      <td>4.0</td>\n",
              "      <td>1.0</td>\n",
              "      <td>29.0</td>\n",
              "      <td>0.0</td>\n",
              "      <td>1147</td>\n",
              "      <td>0.810</td>\n",
              "      <td>1.531</td>\n",
              "    </tr>\n",
              "    <tr>\n",
              "      <th>2</th>\n",
              "      <td>F</td>\n",
              "      <td>R</td>\n",
              "      <td>73</td>\n",
              "      <td>4.0</td>\n",
              "      <td>3.0</td>\n",
              "      <td>27.0</td>\n",
              "      <td>0.5</td>\n",
              "      <td>1454</td>\n",
              "      <td>0.708</td>\n",
              "      <td>1.207</td>\n",
              "    </tr>\n",
              "    <tr>\n",
              "      <th>3</th>\n",
              "      <td>M</td>\n",
              "      <td>R</td>\n",
              "      <td>74</td>\n",
              "      <td>5.0</td>\n",
              "      <td>2.0</td>\n",
              "      <td>30.0</td>\n",
              "      <td>0.0</td>\n",
              "      <td>1636</td>\n",
              "      <td>0.689</td>\n",
              "      <td>1.073</td>\n",
              "    </tr>\n",
              "    <tr>\n",
              "      <th>4</th>\n",
              "      <td>F</td>\n",
              "      <td>R</td>\n",
              "      <td>52</td>\n",
              "      <td>3.0</td>\n",
              "      <td>2.0</td>\n",
              "      <td>30.0</td>\n",
              "      <td>0.0</td>\n",
              "      <td>1321</td>\n",
              "      <td>0.827</td>\n",
              "      <td>1.329</td>\n",
              "    </tr>\n",
              "  </tbody>\n",
              "</table>\n",
              "</div>\n",
              "      <button class=\"colab-df-convert\" onclick=\"convertToInteractive('df-bda6cd28-1fc5-4cac-a7e1-33b4266006b6')\"\n",
              "              title=\"Convert this dataframe to an interactive table.\"\n",
              "              style=\"display:none;\">\n",
              "        \n",
              "  <svg xmlns=\"http://www.w3.org/2000/svg\" height=\"24px\"viewBox=\"0 0 24 24\"\n",
              "       width=\"24px\">\n",
              "    <path d=\"M0 0h24v24H0V0z\" fill=\"none\"/>\n",
              "    <path d=\"M18.56 5.44l.94 2.06.94-2.06 2.06-.94-2.06-.94-.94-2.06-.94 2.06-2.06.94zm-11 1L8.5 8.5l.94-2.06 2.06-.94-2.06-.94L8.5 2.5l-.94 2.06-2.06.94zm10 10l.94 2.06.94-2.06 2.06-.94-2.06-.94-.94-2.06-.94 2.06-2.06.94z\"/><path d=\"M17.41 7.96l-1.37-1.37c-.4-.4-.92-.59-1.43-.59-.52 0-1.04.2-1.43.59L10.3 9.45l-7.72 7.72c-.78.78-.78 2.05 0 2.83L4 21.41c.39.39.9.59 1.41.59.51 0 1.02-.2 1.41-.59l7.78-7.78 2.81-2.81c.8-.78.8-2.07 0-2.86zM5.41 20L4 18.59l7.72-7.72 1.47 1.35L5.41 20z\"/>\n",
              "  </svg>\n",
              "      </button>\n",
              "      \n",
              "  <style>\n",
              "    .colab-df-container {\n",
              "      display:flex;\n",
              "      flex-wrap:wrap;\n",
              "      gap: 12px;\n",
              "    }\n",
              "\n",
              "    .colab-df-convert {\n",
              "      background-color: #E8F0FE;\n",
              "      border: none;\n",
              "      border-radius: 50%;\n",
              "      cursor: pointer;\n",
              "      display: none;\n",
              "      fill: #1967D2;\n",
              "      height: 32px;\n",
              "      padding: 0 0 0 0;\n",
              "      width: 32px;\n",
              "    }\n",
              "\n",
              "    .colab-df-convert:hover {\n",
              "      background-color: #E2EBFA;\n",
              "      box-shadow: 0px 1px 2px rgba(60, 64, 67, 0.3), 0px 1px 3px 1px rgba(60, 64, 67, 0.15);\n",
              "      fill: #174EA6;\n",
              "    }\n",
              "\n",
              "    [theme=dark] .colab-df-convert {\n",
              "      background-color: #3B4455;\n",
              "      fill: #D2E3FC;\n",
              "    }\n",
              "\n",
              "    [theme=dark] .colab-df-convert:hover {\n",
              "      background-color: #434B5C;\n",
              "      box-shadow: 0px 1px 3px 1px rgba(0, 0, 0, 0.15);\n",
              "      filter: drop-shadow(0px 1px 2px rgba(0, 0, 0, 0.3));\n",
              "      fill: #FFFFFF;\n",
              "    }\n",
              "  </style>\n",
              "\n",
              "      <script>\n",
              "        const buttonEl =\n",
              "          document.querySelector('#df-bda6cd28-1fc5-4cac-a7e1-33b4266006b6 button.colab-df-convert');\n",
              "        buttonEl.style.display =\n",
              "          google.colab.kernel.accessAllowed ? 'block' : 'none';\n",
              "\n",
              "        async function convertToInteractive(key) {\n",
              "          const element = document.querySelector('#df-bda6cd28-1fc5-4cac-a7e1-33b4266006b6');\n",
              "          const dataTable =\n",
              "            await google.colab.kernel.invokeFunction('convertToInteractive',\n",
              "                                                     [key], {});\n",
              "          if (!dataTable) return;\n",
              "\n",
              "          const docLinkHtml = 'Like what you see? Visit the ' +\n",
              "            '<a target=\"_blank\" href=https://colab.research.google.com/notebooks/data_table.ipynb>data table notebook</a>'\n",
              "            + ' to learn more about interactive tables.';\n",
              "          element.innerHTML = '';\n",
              "          dataTable['output_type'] = 'display_data';\n",
              "          await google.colab.output.renderOutput(dataTable, element);\n",
              "          const docLink = document.createElement('div');\n",
              "          docLink.innerHTML = docLinkHtml;\n",
              "          element.appendChild(docLink);\n",
              "        }\n",
              "      </script>\n",
              "    </div>\n",
              "  </div>\n",
              "  "
            ]
          },
          "metadata": {},
          "execution_count": 79
        }
      ],
      "source": [
        "real_data.head()"
      ],
      "id": "AzJIHgITUoCm"
    },
    {
      "cell_type": "code",
      "execution_count": null,
      "metadata": {
        "colab": {
          "base_uri": "https://localhost:8080/",
          "height": 206
        },
        "id": "BtXKVWt-UoCm",
        "outputId": "6f8dc715-54ef-42ea-f66d-f079b27cd7c9"
      },
      "outputs": [
        {
          "output_type": "execute_result",
          "data": {
            "text/plain": [
              "  M/F Hand  Age  Educ  SES  MMSE  CDR  eTIV       nWBV        ASF\n",
              "0   F    R   39   8.0  4.0  29.0  0.5     3  69.827870  16.999181\n",
              "1   M    R   28  20.0  4.0  19.0  2.0    74  10.422642  36.197822\n",
              "2   M    R   24  12.0  3.0  14.0  0.0    41  79.299988  29.004372\n",
              "3   F    R   18   6.0  1.0  18.0  2.0    39  46.230787  14.093879\n",
              "4   M    R   67  13.0  2.0  23.0  0.0    96   7.951784  66.883433"
            ],
            "text/html": [
              "\n",
              "  <div id=\"df-eb39d6f7-29f4-4c5e-aa8a-bf15f552d5ef\">\n",
              "    <div class=\"colab-df-container\">\n",
              "      <div>\n",
              "<style scoped>\n",
              "    .dataframe tbody tr th:only-of-type {\n",
              "        vertical-align: middle;\n",
              "    }\n",
              "\n",
              "    .dataframe tbody tr th {\n",
              "        vertical-align: top;\n",
              "    }\n",
              "\n",
              "    .dataframe thead th {\n",
              "        text-align: right;\n",
              "    }\n",
              "</style>\n",
              "<table border=\"1\" class=\"dataframe\">\n",
              "  <thead>\n",
              "    <tr style=\"text-align: right;\">\n",
              "      <th></th>\n",
              "      <th>M/F</th>\n",
              "      <th>Hand</th>\n",
              "      <th>Age</th>\n",
              "      <th>Educ</th>\n",
              "      <th>SES</th>\n",
              "      <th>MMSE</th>\n",
              "      <th>CDR</th>\n",
              "      <th>eTIV</th>\n",
              "      <th>nWBV</th>\n",
              "      <th>ASF</th>\n",
              "    </tr>\n",
              "  </thead>\n",
              "  <tbody>\n",
              "    <tr>\n",
              "      <th>0</th>\n",
              "      <td>F</td>\n",
              "      <td>R</td>\n",
              "      <td>39</td>\n",
              "      <td>8.0</td>\n",
              "      <td>4.0</td>\n",
              "      <td>29.0</td>\n",
              "      <td>0.5</td>\n",
              "      <td>3</td>\n",
              "      <td>69.827870</td>\n",
              "      <td>16.999181</td>\n",
              "    </tr>\n",
              "    <tr>\n",
              "      <th>1</th>\n",
              "      <td>M</td>\n",
              "      <td>R</td>\n",
              "      <td>28</td>\n",
              "      <td>20.0</td>\n",
              "      <td>4.0</td>\n",
              "      <td>19.0</td>\n",
              "      <td>2.0</td>\n",
              "      <td>74</td>\n",
              "      <td>10.422642</td>\n",
              "      <td>36.197822</td>\n",
              "    </tr>\n",
              "    <tr>\n",
              "      <th>2</th>\n",
              "      <td>M</td>\n",
              "      <td>R</td>\n",
              "      <td>24</td>\n",
              "      <td>12.0</td>\n",
              "      <td>3.0</td>\n",
              "      <td>14.0</td>\n",
              "      <td>0.0</td>\n",
              "      <td>41</td>\n",
              "      <td>79.299988</td>\n",
              "      <td>29.004372</td>\n",
              "    </tr>\n",
              "    <tr>\n",
              "      <th>3</th>\n",
              "      <td>F</td>\n",
              "      <td>R</td>\n",
              "      <td>18</td>\n",
              "      <td>6.0</td>\n",
              "      <td>1.0</td>\n",
              "      <td>18.0</td>\n",
              "      <td>2.0</td>\n",
              "      <td>39</td>\n",
              "      <td>46.230787</td>\n",
              "      <td>14.093879</td>\n",
              "    </tr>\n",
              "    <tr>\n",
              "      <th>4</th>\n",
              "      <td>M</td>\n",
              "      <td>R</td>\n",
              "      <td>67</td>\n",
              "      <td>13.0</td>\n",
              "      <td>2.0</td>\n",
              "      <td>23.0</td>\n",
              "      <td>0.0</td>\n",
              "      <td>96</td>\n",
              "      <td>7.951784</td>\n",
              "      <td>66.883433</td>\n",
              "    </tr>\n",
              "  </tbody>\n",
              "</table>\n",
              "</div>\n",
              "      <button class=\"colab-df-convert\" onclick=\"convertToInteractive('df-eb39d6f7-29f4-4c5e-aa8a-bf15f552d5ef')\"\n",
              "              title=\"Convert this dataframe to an interactive table.\"\n",
              "              style=\"display:none;\">\n",
              "        \n",
              "  <svg xmlns=\"http://www.w3.org/2000/svg\" height=\"24px\"viewBox=\"0 0 24 24\"\n",
              "       width=\"24px\">\n",
              "    <path d=\"M0 0h24v24H0V0z\" fill=\"none\"/>\n",
              "    <path d=\"M18.56 5.44l.94 2.06.94-2.06 2.06-.94-2.06-.94-.94-2.06-.94 2.06-2.06.94zm-11 1L8.5 8.5l.94-2.06 2.06-.94-2.06-.94L8.5 2.5l-.94 2.06-2.06.94zm10 10l.94 2.06.94-2.06 2.06-.94-2.06-.94-.94-2.06-.94 2.06-2.06.94z\"/><path d=\"M17.41 7.96l-1.37-1.37c-.4-.4-.92-.59-1.43-.59-.52 0-1.04.2-1.43.59L10.3 9.45l-7.72 7.72c-.78.78-.78 2.05 0 2.83L4 21.41c.39.39.9.59 1.41.59.51 0 1.02-.2 1.41-.59l7.78-7.78 2.81-2.81c.8-.78.8-2.07 0-2.86zM5.41 20L4 18.59l7.72-7.72 1.47 1.35L5.41 20z\"/>\n",
              "  </svg>\n",
              "      </button>\n",
              "      \n",
              "  <style>\n",
              "    .colab-df-container {\n",
              "      display:flex;\n",
              "      flex-wrap:wrap;\n",
              "      gap: 12px;\n",
              "    }\n",
              "\n",
              "    .colab-df-convert {\n",
              "      background-color: #E8F0FE;\n",
              "      border: none;\n",
              "      border-radius: 50%;\n",
              "      cursor: pointer;\n",
              "      display: none;\n",
              "      fill: #1967D2;\n",
              "      height: 32px;\n",
              "      padding: 0 0 0 0;\n",
              "      width: 32px;\n",
              "    }\n",
              "\n",
              "    .colab-df-convert:hover {\n",
              "      background-color: #E2EBFA;\n",
              "      box-shadow: 0px 1px 2px rgba(60, 64, 67, 0.3), 0px 1px 3px 1px rgba(60, 64, 67, 0.15);\n",
              "      fill: #174EA6;\n",
              "    }\n",
              "\n",
              "    [theme=dark] .colab-df-convert {\n",
              "      background-color: #3B4455;\n",
              "      fill: #D2E3FC;\n",
              "    }\n",
              "\n",
              "    [theme=dark] .colab-df-convert:hover {\n",
              "      background-color: #434B5C;\n",
              "      box-shadow: 0px 1px 3px 1px rgba(0, 0, 0, 0.15);\n",
              "      filter: drop-shadow(0px 1px 2px rgba(0, 0, 0, 0.3));\n",
              "      fill: #FFFFFF;\n",
              "    }\n",
              "  </style>\n",
              "\n",
              "      <script>\n",
              "        const buttonEl =\n",
              "          document.querySelector('#df-eb39d6f7-29f4-4c5e-aa8a-bf15f552d5ef button.colab-df-convert');\n",
              "        buttonEl.style.display =\n",
              "          google.colab.kernel.accessAllowed ? 'block' : 'none';\n",
              "\n",
              "        async function convertToInteractive(key) {\n",
              "          const element = document.querySelector('#df-eb39d6f7-29f4-4c5e-aa8a-bf15f552d5ef');\n",
              "          const dataTable =\n",
              "            await google.colab.kernel.invokeFunction('convertToInteractive',\n",
              "                                                     [key], {});\n",
              "          if (!dataTable) return;\n",
              "\n",
              "          const docLinkHtml = 'Like what you see? Visit the ' +\n",
              "            '<a target=\"_blank\" href=https://colab.research.google.com/notebooks/data_table.ipynb>data table notebook</a>'\n",
              "            + ' to learn more about interactive tables.';\n",
              "          element.innerHTML = '';\n",
              "          dataTable['output_type'] = 'display_data';\n",
              "          await google.colab.output.renderOutput(dataTable, element);\n",
              "          const docLink = document.createElement('div');\n",
              "          docLink.innerHTML = docLinkHtml;\n",
              "          element.appendChild(docLink);\n",
              "        }\n",
              "      </script>\n",
              "    </div>\n",
              "  </div>\n",
              "  "
            ]
          },
          "metadata": {},
          "execution_count": 80
        }
      ],
      "source": [
        "synthetic_random.head()"
      ],
      "id": "BtXKVWt-UoCm"
    },
    {
      "cell_type": "markdown",
      "metadata": {
        "id": "uUD2ZWzok6vh"
      },
      "source": [
        "__Compare the two dataframes above (the real data and synthetic data we just generated):__\n",
        "1. Look at the rows; how do the values of the real data and synthetic data compare?\n",
        "ANS: The number of rows is the same in both the real and artificial datasets, and the variables in the artificial dataset are comparable but not exactly the same as those in the real dataset. For example, the means and standard deviations of age and education in both datasets are similar, but not precisely identical.\n",
        "2. Do we need to consider something else apart from whether a particular value differs?\n",
        "ANS: Aside from assessing differences in values, it is essential to consider the overall distribution of the variables and the accuracy of the patterns reflected in the synthetic data. Various visualization methods such as histograms and density plots can help in examining the distribution of each variable. Moreover, statistical tests can aid in identifying any significant variations between the two datasets. It is also important to contemplate the possible impacts of any disparities or dissimilarities between the real and generated data on the analysis or decision-making that will rely on the generated data."
      ],
      "id": "uUD2ZWzok6vh"
    },
    {
      "cell_type": "code",
      "execution_count": null,
      "metadata": {
        "colab": {
          "base_uri": "https://localhost:8080/",
          "height": 607
        },
        "id": "VpeqBitBUoCn",
        "outputId": "a195e413-1489-4dc9-9740-70945d94ac64"
      },
      "outputs": [
        {
          "output_type": "display_data",
          "data": {
            "text/plain": [
              "<Figure size 1000x600 with 2 Axes>"
            ],
            "image/png": "[encoded data removed]"
          },
          "metadata": {}
        }
      ],
      "source": [
        "# plot the distribution of age in real_data and in synthetic_random\n",
        "# write your code here\n",
        "import seaborn as sns\n",
        "import matplotlib.pyplot as plt\n",
        "\n",
        "sns.set_style('whitegrid')\n",
        "\n",
        "fig, axs = plt.subplots(ncols=2, figsize=(10, 6))\n",
        "\n",
        "sns.histplot(data=real_data, x='Age', ax=axs[0], bins=10, color='blue')\n",
        "sns.histplot(data=synthetic_random, x='Age', ax=axs[1], bins=10, color='orange')\n",
        "\n",
        "axs[0].set(title='Real data', xlabel='Age', ylabel='Count')\n",
        "axs[1].set(title='Synthetic data', xlabel='Age', ylabel='Count')\n",
        "\n",
        "fig.suptitle('Comparison of Real and Synthetic Age Distributions', fontsize=18)\n",
        "plt.tight_layout()\n",
        "\n",
        "plt.show()"
      ],
      "id": "VpeqBitBUoCn"
    },
    {
      "cell_type": "code",
      "execution_count": null,
      "metadata": {
        "id": "4HL9B-0QUoCn"
      },
      "outputs": [],
      "source": [
        "# compare the frequency of the different values of relationship status in real_data and synthetic_data (you can use a table and/or plots)\n",
        "# write your code here\n",
        "import pandas as pd\n",
        "\n",
        "real_relationship_counts = pd.Series(real_data['CDR']).value_counts()\n",
        "synthetic_relationship_counts = pd.Series(synthetic_random['CDR']).value_counts()\n"
      ],
      "id": "4HL9B-0QUoCn"
    },
    {
      "cell_type": "code",
      "execution_count": null,
      "metadata": {
        "colab": {
          "base_uri": "https://localhost:8080/",
          "height": 174
        },
        "id": "tys6SMSMCq-s",
        "outputId": "bf1c663a-0b72-4b2a-d02c-0f068941c360"
      },
      "outputs": [
        {
          "output_type": "execute_result",
          "data": {
            "text/plain": [
              "     real_data  synthetic_data\n",
              "0.0        341             275\n",
              "0.5        193             284\n",
              "1.0         69             208\n",
              "2.0          5             233"
            ],
            "text/html": [
              "\n",
              "  <div id=\"df-e4cfaf45-0a93-4566-ae49-664b5192a2eb\">\n",
              "    <div class=\"colab-df-container\">\n",
              "      <div>\n",
              "<style scoped>\n",
              "    .dataframe tbody tr th:only-of-type {\n",
              "        vertical-align: middle;\n",
              "    }\n",
              "\n",
              "    .dataframe tbody tr th {\n",
              "        vertical-align: top;\n",
              "    }\n",
              "\n",
              "    .dataframe thead th {\n",
              "        text-align: right;\n",
              "    }\n",
              "</style>\n",
              "<table border=\"1\" class=\"dataframe\">\n",
              "  <thead>\n",
              "    <tr style=\"text-align: right;\">\n",
              "      <th></th>\n",
              "      <th>real_data</th>\n",
              "      <th>synthetic_data</th>\n",
              "    </tr>\n",
              "  </thead>\n",
              "  <tbody>\n",
              "    <tr>\n",
              "      <th>0.0</th>\n",
              "      <td>341</td>\n",
              "      <td>275</td>\n",
              "    </tr>\n",
              "    <tr>\n",
              "      <th>0.5</th>\n",
              "      <td>193</td>\n",
              "      <td>284</td>\n",
              "    </tr>\n",
              "    <tr>\n",
              "      <th>1.0</th>\n",
              "      <td>69</td>\n",
              "      <td>208</td>\n",
              "    </tr>\n",
              "    <tr>\n",
              "      <th>2.0</th>\n",
              "      <td>5</td>\n",
              "      <td>233</td>\n",
              "    </tr>\n",
              "  </tbody>\n",
              "</table>\n",
              "</div>\n",
              "      <button class=\"colab-df-convert\" onclick=\"convertToInteractive('df-e4cfaf45-0a93-4566-ae49-664b5192a2eb')\"\n",
              "              title=\"Convert this dataframe to an interactive table.\"\n",
              "              style=\"display:none;\">\n",
              "        \n",
              "  <svg xmlns=\"http://www.w3.org/2000/svg\" height=\"24px\"viewBox=\"0 0 24 24\"\n",
              "       width=\"24px\">\n",
              "    <path d=\"M0 0h24v24H0V0z\" fill=\"none\"/>\n",
              "    <path d=\"M18.56 5.44l.94 2.06.94-2.06 2.06-.94-2.06-.94-.94-2.06-.94 2.06-2.06.94zm-11 1L8.5 8.5l.94-2.06 2.06-.94-2.06-.94L8.5 2.5l-.94 2.06-2.06.94zm10 10l.94 2.06.94-2.06 2.06-.94-2.06-.94-.94-2.06-.94 2.06-2.06.94z\"/><path d=\"M17.41 7.96l-1.37-1.37c-.4-.4-.92-.59-1.43-.59-.52 0-1.04.2-1.43.59L10.3 9.45l-7.72 7.72c-.78.78-.78 2.05 0 2.83L4 21.41c.39.39.9.59 1.41.59.51 0 1.02-.2 1.41-.59l7.78-7.78 2.81-2.81c.8-.78.8-2.07 0-2.86zM5.41 20L4 18.59l7.72-7.72 1.47 1.35L5.41 20z\"/>\n",
              "  </svg>\n",
              "      </button>\n",
              "      \n",
              "  <style>\n",
              "    .colab-df-container {\n",
              "      display:flex;\n",
              "      flex-wrap:wrap;\n",
              "      gap: 12px;\n",
              "    }\n",
              "\n",
              "    .colab-df-convert {\n",
              "      background-color: #E8F0FE;\n",
              "      border: none;\n",
              "      border-radius: 50%;\n",
              "      cursor: pointer;\n",
              "      display: none;\n",
              "      fill: #1967D2;\n",
              "      height: 32px;\n",
              "      padding: 0 0 0 0;\n",
              "      width: 32px;\n",
              "    }\n",
              "\n",
              "    .colab-df-convert:hover {\n",
              "      background-color: #E2EBFA;\n",
              "      box-shadow: 0px 1px 2px rgba(60, 64, 67, 0.3), 0px 1px 3px 1px rgba(60, 64, 67, 0.15);\n",
              "      fill: #174EA6;\n",
              "    }\n",
              "\n",
              "    [theme=dark] .colab-df-convert {\n",
              "      background-color: #3B4455;\n",
              "      fill: #D2E3FC;\n",
              "    }\n",
              "\n",
              "    [theme=dark] .colab-df-convert:hover {\n",
              "      background-color: #434B5C;\n",
              "      box-shadow: 0px 1px 3px 1px rgba(0, 0, 0, 0.15);\n",
              "      filter: drop-shadow(0px 1px 2px rgba(0, 0, 0, 0.3));\n",
              "      fill: #FFFFFF;\n",
              "    }\n",
              "  </style>\n",
              "\n",
              "      <script>\n",
              "        const buttonEl =\n",
              "          document.querySelector('#df-e4cfaf45-0a93-4566-ae49-664b5192a2eb button.colab-df-convert');\n",
              "        buttonEl.style.display =\n",
              "          google.colab.kernel.accessAllowed ? 'block' : 'none';\n",
              "\n",
              "        async function convertToInteractive(key) {\n",
              "          const element = document.querySelector('#df-e4cfaf45-0a93-4566-ae49-664b5192a2eb');\n",
              "          const dataTable =\n",
              "            await google.colab.kernel.invokeFunction('convertToInteractive',\n",
              "                                                     [key], {});\n",
              "          if (!dataTable) return;\n",
              "\n",
              "          const docLinkHtml = 'Like what you see? Visit the ' +\n",
              "            '<a target=\"_blank\" href=https://colab.research.google.com/notebooks/data_table.ipynb>data table notebook</a>'\n",
              "            + ' to learn more about interactive tables.';\n",
              "          element.innerHTML = '';\n",
              "          dataTable['output_type'] = 'display_data';\n",
              "          await google.colab.output.renderOutput(dataTable, element);\n",
              "          const docLink = document.createElement('div');\n",
              "          docLink.innerHTML = docLinkHtml;\n",
              "          element.appendChild(docLink);\n",
              "        }\n",
              "      </script>\n",
              "    </div>\n",
              "  </div>\n",
              "  "
            ]
          },
          "metadata": {},
          "execution_count": 86
        }
      ],
      "source": [
        "real_relationship_counts = pd.Series(real_data['CDR']).value_counts()\n",
        "synthetic_relationship_counts = pd.Series(synthetic_random['CDR']).value_counts()\n",
        "\n",
        "data_combined = pd.DataFrame({\n",
        "    'real_data': real_relationship_counts,\n",
        "    'synthetic_data': synthetic_relationship_counts\n",
        "})\n",
        "data_combined"
      ],
      "id": "tys6SMSMCq-s"
    },
    {
      "cell_type": "code",
      "execution_count": null,
      "metadata": {
        "colab": {
          "base_uri": "https://localhost:8080/",
          "height": 505
        },
        "id": "2LjpQtrzlY6E",
        "outputId": "9de4d5c3-bf78-49de-9277-e944d0de2411"
      },
      "outputs": [
        {
          "output_type": "display_data",
          "data": {
            "text/plain": [
              "<Figure size 1000x500 with 2 Axes>"
            ],
            "image/png": "[encoded data removed]"
          },
          "metadata": {}
        }
      ],
      "source": [
        "import seaborn as sns\n",
        "import matplotlib.pyplot as plt\n",
        "\n",
        "fig, ax = plt.subplots(1, 2, figsize=(10, 5), dpi=100)\n",
        "\n",
        "sns.barplot(x=real_relationship_counts.index, y=real_relationship_counts.values, ax=ax[0])\n",
        "sns.barplot(x=synthetic_relationship_counts.index, y=synthetic_relationship_counts.values, ax=ax[1], color='gray')\n",
        "\n",
        "ax[0].set(xlabel='relation type', ylabel='frequency', title='Real data')\n",
        "ax[1].set(xlabel='relation type', ylabel='frequency', title='Synthetic data')\n",
        "\n",
        "# Set x-axis label orientation to 90 degrees\n",
        "ax[1].tick_params(axis='x', labelrotation=90)\n",
        "ax[0].tick_params(axis='x', labelrotation=90)\n",
        "\n",
        "plt.show()\n"
      ],
      "id": "2LjpQtrzlY6E"
    },
    {
      "cell_type": "markdown",
      "metadata": {
        "id": "vJALaaynKjZ5"
      },
      "source": [
        "We can pull more information on how the relationship feature is generated in random mode using the describer functions:"
      ],
      "id": "vJALaaynKjZ5"
    },
    {
      "cell_type": "code",
      "execution_count": null,
      "metadata": {
        "id": "sfA1M0RUUoCn"
      },
      "outputs": [],
      "source": [
        "with open(description_files['random mode']) as f:\n",
        "    description_json = json.load(f)"
      ],
      "id": "sfA1M0RUUoCn"
    },
    {
      "cell_type": "code",
      "execution_count": null,
      "metadata": {
        "colab": {
          "base_uri": "https://localhost:8080/"
        },
        "id": "mOGaHF2eUoCo",
        "outputId": "f3a8a1f7-8bae-4b2e-db19-0da328a90ff4"
      },
      "outputs": [
        {
          "output_type": "execute_result",
          "data": {
            "text/plain": [
              "dict_keys(['meta', 'attribute_description'])"
            ]
          },
          "metadata": {},
          "execution_count": 89
        }
      ],
      "source": [
        "description_json.keys()"
      ],
      "id": "mOGaHF2eUoCo"
    },
    {
      "cell_type": "code",
      "execution_count": null,
      "metadata": {
        "colab": {
          "base_uri": "https://localhost:8080/"
        },
        "id": "wwKz55nmUoCo",
        "outputId": "4017e1da-1976-4c13-da98-f1e33fe84fc0"
      },
      "outputs": [
        {
          "output_type": "stream",
          "name": "stdout",
          "text": [
            "{\n",
            "    \"name\": \"CDR\",\n",
            "    \"data_type\": \"Float\",\n",
            "    \"is_categorical\": true,\n",
            "    \"is_candidate_key\": false,\n",
            "    \"min\": 0.0,\n",
            "    \"max\": 2.0,\n",
            "    \"missing_rate\": 0.0,\n",
            "    \"distribution_bins\": [\n",
            "        0.0,\n",
            "        0.5,\n",
            "        1.0,\n",
            "        2.0\n",
            "    ],\n",
            "    \"distribution_probabilities\": [\n",
            "        0.25,\n",
            "        0.25,\n",
            "        0.25,\n",
            "        0.25\n",
            "    ]\n",
            "}\n"
          ]
        }
      ],
      "source": [
        "print(json.dumps(description_json['attribute_description']['CDR'], indent=4))"
      ],
      "id": "wwKz55nmUoCo"
    },
    {
      "cell_type": "markdown",
      "metadata": {
        "id": "T4gTInTFUoCo"
      },
      "source": [
        "## Independent attribute mode\n",
        "\n",
        "In independent attribute mode, we replace the feature we want to protect with values that follow the same distribution as the original data. However, we do not consider any other features when determining the new value for the sensitive feature. "
      ],
      "id": "T4gTInTFUoCo"
    },
    {
      "cell_type": "code",
      "execution_count": null,
      "metadata": {
        "id": "duUPmKejUoCo"
      },
      "outputs": [],
      "source": [
        "describer.describe_dataset_in_independent_attribute_mode(sensitive_data_file, epsilon=0.1)"
      ],
      "id": "duUPmKejUoCo"
    },
    {
      "cell_type": "code",
      "execution_count": null,
      "metadata": {
        "id": "3fLZRLBhUoCo"
      },
      "outputs": [],
      "source": [
        "describer.save_dataset_description_to_file(description_files['independent attribute mode'])"
      ],
      "id": "3fLZRLBhUoCo"
    },
    {
      "cell_type": "markdown",
      "metadata": {
        "id": "UiU-FvMQLYFY"
      },
      "source": [
        "Use ``generator.generate_dataset_in_independent_mode`` to generate synthetic data using the independent attribute mode. Hint: Look at the ``generate_dataset_in_random_mode`` code above if you are unsure how to proceed. You should set a seed, but you do not need to set a minimum or maximum:"
      ],
      "id": "UiU-FvMQLYFY"
    },
    {
      "cell_type": "code",
      "execution_count": null,
      "metadata": {
        "id": "4LrdvAJDUoCp"
      },
      "outputs": [],
      "source": [
        "# generate synthetic data in independent attribute mode\n",
        "# write your code here using: generator.generate_dataset_in_independent_mode\n",
        "generator.generate_dataset_in_independent_mode(n=output_data_size, \n",
        "                                          description_file=description_files['independent attribute mode'], \n",
        "                                          seed=0)"
      ],
      "id": "4LrdvAJDUoCp"
    },
    {
      "cell_type": "markdown",
      "metadata": {
        "id": "MEAcPlvNMIp_"
      },
      "source": [
        "Now let's save the synthetic data we just generated in independent attribute mode, read it as a pandas dataframe, and view it:"
      ],
      "id": "MEAcPlvNMIp_"
    },
    {
      "cell_type": "code",
      "execution_count": null,
      "metadata": {
        "id": "yEfbtaOnUoCp"
      },
      "outputs": [],
      "source": [
        "generator.save_synthetic_data(synthetic_data_files['independent attribute mode'])"
      ],
      "id": "yEfbtaOnUoCp"
    },
    {
      "cell_type": "code",
      "execution_count": null,
      "metadata": {
        "id": "hpgtPmGuUoCp"
      },
      "outputs": [],
      "source": [
        "synthetic_independent = pd.read_csv(synthetic_data_files['independent attribute mode'])"
      ],
      "id": "hpgtPmGuUoCp"
    },
    {
      "cell_type": "code",
      "execution_count": null,
      "metadata": {
        "colab": {
          "base_uri": "https://localhost:8080/",
          "height": 206
        },
        "id": "p9CmkrhEUoCp",
        "outputId": "2a18d631-a874-47c1-ff79-8275440cc463"
      },
      "outputs": [
        {
          "output_type": "execute_result",
          "data": {
            "text/plain": [
              "  M/F Hand   Age  Educ  SES  MMSE  CDR    eTIV      nWBV       ASF\n",
              "0   M    R  75.0  14.0  2.0  19.0  0.5  1687.0  0.778067  1.234962\n",
              "1   M    R  74.0  16.0  2.0  19.0  0.5  1637.0  0.775147  1.579475\n",
              "2   M    R  73.0  16.0  2.0  14.0  1.0  1814.0  0.828698  1.496460\n",
              "3   M    R  66.0  16.0  2.0  19.0  1.0  1903.0  0.737222  0.987226\n",
              "4   M    R  74.0  16.0  2.0  19.0  0.0  1114.0  0.676265  0.980303"
            ],
            "text/html": [
              "\n",
              "  <div id=\"df-4c28aed7-e703-471b-b4ed-312e5b6469d9\">\n",
              "    <div class=\"colab-df-container\">\n",
              "      <div>\n",
              "<style scoped>\n",
              "    .dataframe tbody tr th:only-of-type {\n",
              "        vertical-align: middle;\n",
              "    }\n",
              "\n",
              "    .dataframe tbody tr th {\n",
              "        vertical-align: top;\n",
              "    }\n",
              "\n",
              "    .dataframe thead th {\n",
              "        text-align: right;\n",
              "    }\n",
              "</style>\n",
              "<table border=\"1\" class=\"dataframe\">\n",
              "  <thead>\n",
              "    <tr style=\"text-align: right;\">\n",
              "      <th></th>\n",
              "      <th>M/F</th>\n",
              "      <th>Hand</th>\n",
              "      <th>Age</th>\n",
              "      <th>Educ</th>\n",
              "      <th>SES</th>\n",
              "      <th>MMSE</th>\n",
              "      <th>CDR</th>\n",
              "      <th>eTIV</th>\n",
              "      <th>nWBV</th>\n",
              "      <th>ASF</th>\n",
              "    </tr>\n",
              "  </thead>\n",
              "  <tbody>\n",
              "    <tr>\n",
              "      <th>0</th>\n",
              "      <td>M</td>\n",
              "      <td>R</td>\n",
              "      <td>75.0</td>\n",
              "      <td>14.0</td>\n",
              "      <td>2.0</td>\n",
              "      <td>19.0</td>\n",
              "      <td>0.5</td>\n",
              "      <td>1687.0</td>\n",
              "      <td>0.778067</td>\n",
              "      <td>1.234962</td>\n",
              "    </tr>\n",
              "    <tr>\n",
              "      <th>1</th>\n",
              "      <td>M</td>\n",
              "      <td>R</td>\n",
              "      <td>74.0</td>\n",
              "      <td>16.0</td>\n",
              "      <td>2.0</td>\n",
              "      <td>19.0</td>\n",
              "      <td>0.5</td>\n",
              "      <td>1637.0</td>\n",
              "      <td>0.775147</td>\n",
              "      <td>1.579475</td>\n",
              "    </tr>\n",
              "    <tr>\n",
              "      <th>2</th>\n",
              "      <td>M</td>\n",
              "      <td>R</td>\n",
              "      <td>73.0</td>\n",
              "      <td>16.0</td>\n",
              "      <td>2.0</td>\n",
              "      <td>14.0</td>\n",
              "      <td>1.0</td>\n",
              "      <td>1814.0</td>\n",
              "      <td>0.828698</td>\n",
              "      <td>1.496460</td>\n",
              "    </tr>\n",
              "    <tr>\n",
              "      <th>3</th>\n",
              "      <td>M</td>\n",
              "      <td>R</td>\n",
              "      <td>66.0</td>\n",
              "      <td>16.0</td>\n",
              "      <td>2.0</td>\n",
              "      <td>19.0</td>\n",
              "      <td>1.0</td>\n",
              "      <td>1903.0</td>\n",
              "      <td>0.737222</td>\n",
              "      <td>0.987226</td>\n",
              "    </tr>\n",
              "    <tr>\n",
              "      <th>4</th>\n",
              "      <td>M</td>\n",
              "      <td>R</td>\n",
              "      <td>74.0</td>\n",
              "      <td>16.0</td>\n",
              "      <td>2.0</td>\n",
              "      <td>19.0</td>\n",
              "      <td>0.0</td>\n",
              "      <td>1114.0</td>\n",
              "      <td>0.676265</td>\n",
              "      <td>0.980303</td>\n",
              "    </tr>\n",
              "  </tbody>\n",
              "</table>\n",
              "</div>\n",
              "      <button class=\"colab-df-convert\" onclick=\"convertToInteractive('df-4c28aed7-e703-471b-b4ed-312e5b6469d9')\"\n",
              "              title=\"Convert this dataframe to an interactive table.\"\n",
              "              style=\"display:none;\">\n",
              "        \n",
              "  <svg xmlns=\"http://www.w3.org/2000/svg\" height=\"24px\"viewBox=\"0 0 24 24\"\n",
              "       width=\"24px\">\n",
              "    <path d=\"M0 0h24v24H0V0z\" fill=\"none\"/>\n",
              "    <path d=\"M18.56 5.44l.94 2.06.94-2.06 2.06-.94-2.06-.94-.94-2.06-.94 2.06-2.06.94zm-11 1L8.5 8.5l.94-2.06 2.06-.94-2.06-.94L8.5 2.5l-.94 2.06-2.06.94zm10 10l.94 2.06.94-2.06 2.06-.94-2.06-.94-.94-2.06-.94 2.06-2.06.94z\"/><path d=\"M17.41 7.96l-1.37-1.37c-.4-.4-.92-.59-1.43-.59-.52 0-1.04.2-1.43.59L10.3 9.45l-7.72 7.72c-.78.78-.78 2.05 0 2.83L4 21.41c.39.39.9.59 1.41.59.51 0 1.02-.2 1.41-.59l7.78-7.78 2.81-2.81c.8-.78.8-2.07 0-2.86zM5.41 20L4 18.59l7.72-7.72 1.47 1.35L5.41 20z\"/>\n",
              "  </svg>\n",
              "      </button>\n",
              "      \n",
              "  <style>\n",
              "    .colab-df-container {\n",
              "      display:flex;\n",
              "      flex-wrap:wrap;\n",
              "      gap: 12px;\n",
              "    }\n",
              "\n",
              "    .colab-df-convert {\n",
              "      background-color: #E8F0FE;\n",
              "      border: none;\n",
              "      border-radius: 50%;\n",
              "      cursor: pointer;\n",
              "      display: none;\n",
              "      fill: #1967D2;\n",
              "      height: 32px;\n",
              "      padding: 0 0 0 0;\n",
              "      width: 32px;\n",
              "    }\n",
              "\n",
              "    .colab-df-convert:hover {\n",
              "      background-color: #E2EBFA;\n",
              "      box-shadow: 0px 1px 2px rgba(60, 64, 67, 0.3), 0px 1px 3px 1px rgba(60, 64, 67, 0.15);\n",
              "      fill: #174EA6;\n",
              "    }\n",
              "\n",
              "    [theme=dark] .colab-df-convert {\n",
              "      background-color: #3B4455;\n",
              "      fill: #D2E3FC;\n",
              "    }\n",
              "\n",
              "    [theme=dark] .colab-df-convert:hover {\n",
              "      background-color: #434B5C;\n",
              "      box-shadow: 0px 1px 3px 1px rgba(0, 0, 0, 0.15);\n",
              "      filter: drop-shadow(0px 1px 2px rgba(0, 0, 0, 0.3));\n",
              "      fill: #FFFFFF;\n",
              "    }\n",
              "  </style>\n",
              "\n",
              "      <script>\n",
              "        const buttonEl =\n",
              "          document.querySelector('#df-4c28aed7-e703-471b-b4ed-312e5b6469d9 button.colab-df-convert');\n",
              "        buttonEl.style.display =\n",
              "          google.colab.kernel.accessAllowed ? 'block' : 'none';\n",
              "\n",
              "        async function convertToInteractive(key) {\n",
              "          const element = document.querySelector('#df-4c28aed7-e703-471b-b4ed-312e5b6469d9');\n",
              "          const dataTable =\n",
              "            await google.colab.kernel.invokeFunction('convertToInteractive',\n",
              "                                                     [key], {});\n",
              "          if (!dataTable) return;\n",
              "\n",
              "          const docLinkHtml = 'Like what you see? Visit the ' +\n",
              "            '<a target=\"_blank\" href=https://colab.research.google.com/notebooks/data_table.ipynb>data table notebook</a>'\n",
              "            + ' to learn more about interactive tables.';\n",
              "          element.innerHTML = '';\n",
              "          dataTable['output_type'] = 'display_data';\n",
              "          await google.colab.output.renderOutput(dataTable, element);\n",
              "          const docLink = document.createElement('div');\n",
              "          docLink.innerHTML = docLinkHtml;\n",
              "          element.appendChild(docLink);\n",
              "        }\n",
              "      </script>\n",
              "    </div>\n",
              "  </div>\n",
              "  "
            ]
          },
          "metadata": {},
          "execution_count": 96
        }
      ],
      "source": [
        "synthetic_independent.head()"
      ],
      "id": "p9CmkrhEUoCp"
    },
    {
      "cell_type": "code",
      "execution_count": null,
      "metadata": {
        "colab": {
          "base_uri": "https://localhost:8080/",
          "height": 313
        },
        "id": "nljwnU8zUoCp",
        "outputId": "a8c4219c-b49b-44b1-c422-0801ab5a848f"
      },
      "outputs": [
        {
          "output_type": "display_data",
          "data": {
            "text/plain": [
              "<Figure size 1000x300 with 2 Axes>"
            ],
            "image/png": "[encoded data removed]"
          },
          "metadata": {}
        }
      ],
      "source": [
        "# Plot the distribution of age before and after being protected using independent attribute mode (i.e. in real_data and in synthetic_independent)\n",
        "import seaborn as sns\n",
        "import matplotlib.pyplot as plt\n",
        "\n",
        "fig, axs = plt.subplots(ncols=2, figsize=(10, 3), dpi=100)\n",
        "\n",
        "sns.histplot(data=real_data, x='Age', ax=axs[0], bins=10, color=\"blue\")\n",
        "sns.histplot(data=synthetic_independent, x='Age', ax=axs[1], bins=10, color=\"orange\")\n",
        "\n",
        "axs[0].set(title='Real data', xlabel='Age', ylabel='Frequency')\n",
        "axs[1].set(title='Synthetic independent data', xlabel='Age', ylabel='Frequency')\n",
        "\n",
        "fig.suptitle('Comparison of Real and Synthetic Independent Age Distributions', fontsize=18)\n",
        "plt.tight_layout()\n",
        "\n",
        "plt.show()"
      ],
      "id": "nljwnU8zUoCp"
    },
    {
      "cell_type": "code",
      "execution_count": null,
      "metadata": {
        "colab": {
          "base_uri": "https://localhost:8080/",
          "height": 394
        },
        "id": "mbMWBcUhUoCq",
        "outputId": "53c5f369-ff01-4d34-e7b9-e61f04bd5d36"
      },
      "outputs": [
        {
          "output_type": "execute_result",
          "data": {
            "text/plain": [
              "[Text(0.5, 1.0, 'Synthetic data distribution'),\n",
              " Text(0.5, 0, 'Age'),\n",
              " Text(0, 0.5, 'Frequency')]"
            ]
          },
          "metadata": {},
          "execution_count": 100
        },
        {
          "output_type": "display_data",
          "data": {
            "text/plain": [
              "<Figure size 1000x300 with 2 Axes>"
            ],
            "image/png": "[encoded data removed]"
          },
          "metadata": {}
        }
      ],
      "source": [
        "# Now plot the distribution of age by SES group in the real data and in the synthetic data.\n",
        "# Each plot should contain a histogram of age for all rows where income >50K and a histogram for age where income <=50k.\n",
        "import seaborn as sns\n",
        "\n",
        "fig, axes = plt.subplots(1, 2, figsize=(10, 3), dpi=100)\n",
        "\n",
        "sns.histplot(real_data, x='Age', hue='SES', bins=10, element='step', alpha=0.7, ax=axes[0])\n",
        "sns.histplot(synthetic_independent, x='Age', hue='SES', bins=10, element='step', alpha=0.7, ax=axes[1])\n",
        "\n",
        "axes[0].set(title='Real data distribution', xlabel='Age', ylabel='Frequency')\n",
        "axes[1].set(title='Synthetic data distribution', xlabel='Age', ylabel='Frequency')"
      ],
      "id": "mbMWBcUhUoCq"
    },
    {
      "cell_type": "markdown",
      "metadata": {
        "id": "gdWHMTALp7Om"
      },
      "source": [
        "How do these distributions compare?"
      ],
      "id": "gdWHMTALp7Om"
    },
    {
      "cell_type": "markdown",
      "metadata": {
        "id": "AaX8W-9cu8zi"
      },
      "source": [
        "**Write your answer in this text cell:**\n",
        "The visualizations presented here compare the age distribution by income for both real data and synthetic data generated using the independent attribute mode. Notably, the synthetic data distribution closely resembles the actual data distribution, indicating a high representation of the real scenario. This result contrasts with those obtained from randomly generated data.\n",
        "\n",
        "In independent attribute mode, attribute generation occurs independently, without accounting for any correlation between attributes. Instead, individual attribute distributions are maintained. It is worth noting that correlation values between the artificial and real datasets may differ.\n",
        "\n",
        "Overall, our model performs better with independent attribute mode than random mode."
      ],
      "id": "AaX8W-9cu8zi"
    },
    {
      "cell_type": "markdown",
      "metadata": {
        "id": "060cbCmkwafp"
      },
      "source": [
        "Let's look at the distribution of relationship values in the real data and in the synthetic data generated using the independent attribute mode:"
      ],
      "id": "060cbCmkwafp"
    },
    {
      "cell_type": "code",
      "execution_count": null,
      "metadata": {
        "id": "grUTNDFqUoCq"
      },
      "outputs": [],
      "source": [
        "import seaborn as sns\n",
        "import matplotlib.pyplot as plt\n",
        "\n",
        "sns.set_style('whitegrid')\n",
        "sns.set_palette('husl')\n",
        "sns.set_context('paper', font_scale=1.2)\n",
        "\n",
        "relationship_real = real_data['CDR'].value_counts()\n",
        "relationship_independent = synthetic_independent['CDR'].value_counts()\n",
        "\n",
        "relationship_both = pd.merge(relationship_real.to_frame(),\n",
        "                             relationship_independent.to_frame(),\n",
        "                             left_index=True,\n",
        "                             right_index=True,\n",
        "                             suffixes=('_real', '_independent_attribute_mode'))\n"
      ],
      "id": "grUTNDFqUoCq"
    },
    {
      "cell_type": "code",
      "source": [
        "relationship_real"
      ],
      "metadata": {
        "id": "_4vn7lYNRpy7",
        "outputId": "99b8ea2a-e872-47bb-9cd2-838462aba90c",
        "colab": {
          "base_uri": "https://localhost:8080/"
        }
      },
      "id": "_4vn7lYNRpy7",
      "execution_count": null,
      "outputs": [
        {
          "output_type": "execute_result",
          "data": {
            "text/plain": [
              "0.0    341\n",
              "0.5    193\n",
              "1.0     69\n",
              "2.0      5\n",
              "Name: CDR, dtype: int64"
            ]
          },
          "metadata": {},
          "execution_count": 139
        }
      ]
    },
    {
      "cell_type": "code",
      "source": [
        "relationship_both"
      ],
      "metadata": {
        "id": "yMpZfdAvRyB6",
        "outputId": "7ef7c907-bfa0-4f1b-f015-aae4fb8c6570",
        "colab": {
          "base_uri": "https://localhost:8080/",
          "height": 143
        }
      },
      "id": "yMpZfdAvRyB6",
      "execution_count": null,
      "outputs": [
        {
          "output_type": "execute_result",
          "data": {
            "text/plain": [
              "     CDR_real  CDR_independent_attribute_mode\n",
              "0.0       341                             197\n",
              "0.5       193                             292\n",
              "1.0        69                             511"
            ],
            "text/html": [
              "\n",
              "  <div id=\"df-aeb992c9-2ca1-40c3-8553-8457a67fbe87\">\n",
              "    <div class=\"colab-df-container\">\n",
              "      <div>\n",
              "<style scoped>\n",
              "    .dataframe tbody tr th:only-of-type {\n",
              "        vertical-align: middle;\n",
              "    }\n",
              "\n",
              "    .dataframe tbody tr th {\n",
              "        vertical-align: top;\n",
              "    }\n",
              "\n",
              "    .dataframe thead th {\n",
              "        text-align: right;\n",
              "    }\n",
              "</style>\n",
              "<table border=\"1\" class=\"dataframe\">\n",
              "  <thead>\n",
              "    <tr style=\"text-align: right;\">\n",
              "      <th></th>\n",
              "      <th>CDR_real</th>\n",
              "      <th>CDR_independent_attribute_mode</th>\n",
              "    </tr>\n",
              "  </thead>\n",
              "  <tbody>\n",
              "    <tr>\n",
              "      <th>0.0</th>\n",
              "      <td>341</td>\n",
              "      <td>197</td>\n",
              "    </tr>\n",
              "    <tr>\n",
              "      <th>0.5</th>\n",
              "      <td>193</td>\n",
              "      <td>292</td>\n",
              "    </tr>\n",
              "    <tr>\n",
              "      <th>1.0</th>\n",
              "      <td>69</td>\n",
              "      <td>511</td>\n",
              "    </tr>\n",
              "  </tbody>\n",
              "</table>\n",
              "</div>\n",
              "      <button class=\"colab-df-convert\" onclick=\"convertToInteractive('df-aeb992c9-2ca1-40c3-8553-8457a67fbe87')\"\n",
              "              title=\"Convert this dataframe to an interactive table.\"\n",
              "              style=\"display:none;\">\n",
              "        \n",
              "  <svg xmlns=\"http://www.w3.org/2000/svg\" height=\"24px\"viewBox=\"0 0 24 24\"\n",
              "       width=\"24px\">\n",
              "    <path d=\"M0 0h24v24H0V0z\" fill=\"none\"/>\n",
              "    <path d=\"M18.56 5.44l.94 2.06.94-2.06 2.06-.94-2.06-.94-.94-2.06-.94 2.06-2.06.94zm-11 1L8.5 8.5l.94-2.06 2.06-.94-2.06-.94L8.5 2.5l-.94 2.06-2.06.94zm10 10l.94 2.06.94-2.06 2.06-.94-2.06-.94-.94-2.06-.94 2.06-2.06.94z\"/><path d=\"M17.41 7.96l-1.37-1.37c-.4-.4-.92-.59-1.43-.59-.52 0-1.04.2-1.43.59L10.3 9.45l-7.72 7.72c-.78.78-.78 2.05 0 2.83L4 21.41c.39.39.9.59 1.41.59.51 0 1.02-.2 1.41-.59l7.78-7.78 2.81-2.81c.8-.78.8-2.07 0-2.86zM5.41 20L4 18.59l7.72-7.72 1.47 1.35L5.41 20z\"/>\n",
              "  </svg>\n",
              "      </button>\n",
              "      \n",
              "  <style>\n",
              "    .colab-df-container {\n",
              "      display:flex;\n",
              "      flex-wrap:wrap;\n",
              "      gap: 12px;\n",
              "    }\n",
              "\n",
              "    .colab-df-convert {\n",
              "      background-color: #E8F0FE;\n",
              "      border: none;\n",
              "      border-radius: 50%;\n",
              "      cursor: pointer;\n",
              "      display: none;\n",
              "      fill: #1967D2;\n",
              "      height: 32px;\n",
              "      padding: 0 0 0 0;\n",
              "      width: 32px;\n",
              "    }\n",
              "\n",
              "    .colab-df-convert:hover {\n",
              "      background-color: #E2EBFA;\n",
              "      box-shadow: 0px 1px 2px rgba(60, 64, 67, 0.3), 0px 1px 3px 1px rgba(60, 64, 67, 0.15);\n",
              "      fill: #174EA6;\n",
              "    }\n",
              "\n",
              "    [theme=dark] .colab-df-convert {\n",
              "      background-color: #3B4455;\n",
              "      fill: #D2E3FC;\n",
              "    }\n",
              "\n",
              "    [theme=dark] .colab-df-convert:hover {\n",
              "      background-color: #434B5C;\n",
              "      box-shadow: 0px 1px 3px 1px rgba(0, 0, 0, 0.15);\n",
              "      filter: drop-shadow(0px 1px 2px rgba(0, 0, 0, 0.3));\n",
              "      fill: #FFFFFF;\n",
              "    }\n",
              "  </style>\n",
              "\n",
              "      <script>\n",
              "        const buttonEl =\n",
              "          document.querySelector('#df-aeb992c9-2ca1-40c3-8553-8457a67fbe87 button.colab-df-convert');\n",
              "        buttonEl.style.display =\n",
              "          google.colab.kernel.accessAllowed ? 'block' : 'none';\n",
              "\n",
              "        async function convertToInteractive(key) {\n",
              "          const element = document.querySelector('#df-aeb992c9-2ca1-40c3-8553-8457a67fbe87');\n",
              "          const dataTable =\n",
              "            await google.colab.kernel.invokeFunction('convertToInteractive',\n",
              "                                                     [key], {});\n",
              "          if (!dataTable) return;\n",
              "\n",
              "          const docLinkHtml = 'Like what you see? Visit the ' +\n",
              "            '<a target=\"_blank\" href=https://colab.research.google.com/notebooks/data_table.ipynb>data table notebook</a>'\n",
              "            + ' to learn more about interactive tables.';\n",
              "          element.innerHTML = '';\n",
              "          dataTable['output_type'] = 'display_data';\n",
              "          await google.colab.output.renderOutput(dataTable, element);\n",
              "          const docLink = document.createElement('div');\n",
              "          docLink.innerHTML = docLinkHtml;\n",
              "          element.appendChild(docLink);\n",
              "        }\n",
              "      </script>\n",
              "    </div>\n",
              "  </div>\n",
              "  "
            ]
          },
          "metadata": {},
          "execution_count": 140
        }
      ]
    },
    {
      "cell_type": "code",
      "source": [
        "\n",
        "fig, axs = plt.subplots(ncols=2, figsize=(12, 6))\n",
        "\n",
        "sns.barplot(x=relationship_both.index, y='CDR_real', data=relationship_both, ax=axs[0])\n",
        "sns.barplot(x=relationship_both.index, y='CDR_independent_attribute_mode', data=relationship_both, ax=axs[1])\n",
        "\n",
        "axs[0].set(title='Real Data', xlabel='Relationship', ylabel='Count')\n",
        "axs[1].set(title='Synthetic Independent Data', xlabel='Relationship', ylabel='Count')\n",
        "\n",
        "for ax in axs:\n",
        "    ax.set_xticklabels(ax.get_xticklabels(), rotation=90)\n",
        "\n",
        "fig.suptitle('Comparison of Relationship Counts between Real and Synthetic Independent Data', fontsize=18)\n",
        "plt.tight_layout()\n",
        "\n",
        "plt.show()"
      ],
      "metadata": {
        "id": "ZQ5Mgd4ORm-A",
        "outputId": "a6de0181-d0e0-4b35-8678-04e6656dbadf",
        "colab": {
          "base_uri": "https://localhost:8080/",
          "height": 607
        }
      },
      "id": "ZQ5Mgd4ORm-A",
      "execution_count": null,
      "outputs": [
        {
          "output_type": "display_data",
          "data": {
            "text/plain": [
              "<Figure size 1200x600 with 2 Axes>"
            ],
            "image/png": "[encoded data removed]"
          },
          "metadata": {}
        }
      ]
    },
    {
      "cell_type": "markdown",
      "metadata": {
        "id": "m-lvgns6UoCr"
      },
      "source": [
        "## Correlated attribute mode\n",
        "\n",
        "The correlated attribute mode replaces the feature we want to protect with values based on the *conditional* distribution of all the features in the database. This is calculated using a Bayesian network."
      ],
      "id": "m-lvgns6UoCr"
    },
    {
      "cell_type": "code",
      "execution_count": null,
      "metadata": {
        "colab": {
          "base_uri": "https://localhost:8080/"
        },
        "id": "MrnhKaCPUoCr",
        "outputId": "d10aa204-7f0f-4e9f-98f1-6ebd7a390ccc"
      },
      "outputs": [
        {
          "output_type": "stream",
          "name": "stdout",
          "text": [
            "================ Constructing Bayesian Network (BN) ================\n",
            "Adding ROOT CDR\n",
            "Adding attribute SES\n",
            "Adding attribute eTIV\n",
            "Adding attribute MMSE\n",
            "Adding attribute Educ\n",
            "Adding attribute Age\n",
            "Adding attribute nWBV\n",
            "Adding attribute Hand\n",
            "Adding attribute ASF\n",
            "Adding attribute M/F\n",
            "========================== BN constructed ==========================\n"
          ]
        },
        {
          "output_type": "stream",
          "name": "stderr",
          "text": [
            "/usr/local/lib/python3.10/dist-packages/DataSynthesizer/lib/PrivBayes.py:275: FutureWarning: In a future version of pandas, a length 1 tuple will be returned when iterating over a groupby with a grouper equal to a list of length 1. Don't supply a list with a single grouper to avoid this warning.\n",
            "  for parents_instance, stats_sub in stats.groupby(parents):\n"
          ]
        }
      ],
      "source": [
        "describer.describe_dataset_in_correlated_attribute_mode(sensitive_data_file, \n",
        "                                                        epsilon=0.1, \n",
        "                                                        k=2)"
      ],
      "id": "MrnhKaCPUoCr"
    },
    {
      "cell_type": "code",
      "execution_count": null,
      "metadata": {
        "colab": {
          "base_uri": "https://localhost:8080/"
        },
        "id": "d2Af3b2cUoCr",
        "outputId": "60441e35-9a92-47ac-f406-4504e8287473"
      },
      "outputs": [
        {
          "output_type": "stream",
          "name": "stdout",
          "text": [
            "Constructed Bayesian network:\n",
            "    SES  has parents ['CDR'].\n",
            "    eTIV has parents ['SES', 'CDR'].\n",
            "    MMSE has parents ['eTIV', 'CDR'].\n",
            "    Educ has parents ['MMSE', 'CDR'].\n",
            "    Age  has parents ['MMSE', 'CDR'].\n",
            "    nWBV has parents ['Educ', 'eTIV'].\n",
            "    Hand has parents ['MMSE', 'SES'].\n",
            "    ASF  has parents ['Age', 'Educ'].\n",
            "    M/F  has parents ['ASF', 'nWBV'].\n"
          ]
        }
      ],
      "source": [
        "display_bayesian_network(describer.bayesian_network)"
      ],
      "id": "d2Af3b2cUoCr"
    },
    {
      "cell_type": "code",
      "execution_count": null,
      "metadata": {
        "id": "LSskme_AUoCr"
      },
      "outputs": [],
      "source": [
        "describer.save_dataset_description_to_file(description_files['correlated attribute mode'])"
      ],
      "id": "LSskme_AUoCr"
    },
    {
      "cell_type": "markdown",
      "metadata": {
        "id": "ieEcgH9CvI4q"
      },
      "source": [
        "Use generator.generate_dataset_in_correlated_attribute_mode to generate synthetic data using the correlated attribute mode:"
      ],
      "id": "ieEcgH9CvI4q"
    },
    {
      "cell_type": "code",
      "execution_count": null,
      "metadata": {
        "id": "HSI0EnZYUoCs"
      },
      "outputs": [],
      "source": [
        "# generate synthetic data in correlated attribute mode\n",
        "# write your code here using: generator.generate_dataset_in_correlated_attribute_mode\n",
        "generator.generate_dataset_in_correlated_attribute_mode(n=output_data_size, \n",
        "                                          description_file=description_files['correlated attribute mode'], \n",
        "                                          seed=0)"
      ],
      "id": "HSI0EnZYUoCs"
    },
    {
      "cell_type": "markdown",
      "metadata": {
        "id": "zbSiQAXovZZC"
      },
      "source": [
        "Again, save the data and read it as a pandas dataframe:"
      ],
      "id": "zbSiQAXovZZC"
    },
    {
      "cell_type": "code",
      "execution_count": null,
      "metadata": {
        "id": "JYPWAB9RUoCs"
      },
      "outputs": [],
      "source": [
        "generator.save_synthetic_data(synthetic_data_files['correlated attribute mode'])"
      ],
      "id": "JYPWAB9RUoCs"
    },
    {
      "cell_type": "code",
      "execution_count": null,
      "metadata": {
        "id": "aDpXxHifUoCs"
      },
      "outputs": [],
      "source": [
        "synthetic_correlated = pd.read_csv(synthetic_data_files['correlated attribute mode'])"
      ],
      "id": "aDpXxHifUoCs"
    },
    {
      "cell_type": "markdown",
      "metadata": {
        "id": "6J28uT6ovf1-"
      },
      "source": [
        "Plot the distribution of age in the real data and synthetic data that you generated using the correlated attribute mode:"
      ],
      "id": "6J28uT6ovf1-"
    },
    {
      "cell_type": "code",
      "execution_count": null,
      "metadata": {
        "colab": {
          "base_uri": "https://localhost:8080/",
          "height": 607
        },
        "id": "ZppLU9YbUoCs",
        "outputId": "ea9a2a4a-c610-4cb9-9929-49544df95384"
      },
      "outputs": [
        {
          "output_type": "display_data",
          "data": {
            "text/plain": [
              "<Figure size 1200x600 with 2 Axes>"
            ],
            "image/png": "[encoded data removed]"
          },
          "metadata": {}
        }
      ],
      "source": [
        "# plot the distribution of age in the real data and synthetic_correlated\n",
        "\n",
        "import seaborn as sns\n",
        "import matplotlib.pyplot as plt\n",
        "\n",
        "sns.set_style('whitegrid')\n",
        "sns.set_palette('husl')\n",
        "sns.set_context('paper', font_scale=1.2)\n",
        "\n",
        "fig, axs = plt.subplots(ncols=2, figsize=(12, 6))\n",
        "\n",
        "sns.histplot(data=real_data, x='Age', bins=10, ax=axs[0])\n",
        "sns.histplot(data=synthetic_correlated, x='Age', bins=10, ax=axs[1])\n",
        "\n",
        "axs[0].set(title='Real Data', xlabel='Age', ylabel='Count')\n",
        "axs[1].set(title='Synthetic Correlated Data', xlabel='Age', ylabel='Count')\n",
        "\n",
        "fig.suptitle('Comparison of Real and Synthetic Correlated Age Distribution', fontsize=18)\n",
        "plt.tight_layout()\n",
        "\n",
        "plt.show()"
      ],
      "id": "ZppLU9YbUoCs"
    },
    {
      "cell_type": "markdown",
      "metadata": {
        "id": "2bFqOMF3iRcQ"
      },
      "source": [
        "#### Plot the relationship between two variables to see if changes after protecting age\n",
        "\n",
        "\n",
        "\n"
      ],
      "id": "2bFqOMF3iRcQ"
    },
    {
      "cell_type": "code",
      "execution_count": null,
      "metadata": {
        "colab": {
          "base_uri": "https://localhost:8080/",
          "height": 335
        },
        "id": "bKvfbGsjwCpt",
        "outputId": "94f0c17f-e9e1-49d9-caf5-fc36c3bad5a4"
      },
      "outputs": [
        {
          "output_type": "display_data",
          "data": {
            "text/plain": [
              "<Figure size 1000x300 with 2 Axes>"
            ],
            "image/png": "[encoded data removed]"
          },
          "metadata": {}
        }
      ],
      "source": [
        "# write code here to plot the distribution of one variable by another variable\n",
        "# in the real data and in synthetic_correlated\n",
        "# e.g. plot age by education or age by income\n",
        "\n",
        "import seaborn as sns\n",
        "\n",
        "def plot_distribution(var1,var2):\n",
        "    fig, ax = plt.subplots(1,2,figsize=(10,3),dpi=100)\n",
        "    sns.histplot(real_data, x=var1, hue=var2, bins=10, ax=ax[0])\n",
        "    sns.histplot(synthetic_correlated, x=var1, hue=var2, bins=10, ax=ax[1])\n",
        "    ax[0].set(title='Real data distribution', xlabel=var1, ylabel='Frequency')\n",
        "    ax[1].set(title='Synthetic Correlated data distribution', xlabel=var1, ylabel='Frequency')\n",
        "\n",
        "plot_distribution('Age','SES')\n",
        "\n"
      ],
      "id": "bKvfbGsjwCpt"
    },
    {
      "cell_type": "code",
      "execution_count": null,
      "metadata": {
        "colab": {
          "base_uri": "https://localhost:8080/",
          "height": 633
        },
        "id": "RuoN6bsbNRGw",
        "outputId": "0a2505db-9d25-4a0a-dd3e-6746a1a2b0ae"
      },
      "outputs": [
        {
          "output_type": "display_data",
          "data": {
            "text/plain": [
              "<Figure size 1000x300 with 2 Axes>"
            ],
            "image/png": "[encoded data removed]"
          },
          "metadata": {}
        }
      ],
      "source": [
        "plot_distribution('Age','Educ')\n"
      ],
      "id": "RuoN6bsbNRGw"
    },
    {
      "cell_type": "markdown",
      "metadata": {
        "id": "E7gYk4j-v6_f"
      },
      "source": [
        "__Write down your observations here:__"
      ],
      "id": "E7gYk4j-v6_f"
    },
    {
      "cell_type": "markdown",
      "metadata": {
        "id": "X8Zcb50jqvnf"
      },
      "source": [
        "__Are there differences in the distributions of the data generated by the correlated attribute mode and the independent attribute mode?__\n",
        "\n",
        "ANS: This plot's distributions illustrate the age distribution by income for both actual data and fake data created using the independent attribute method. We can see from a comparison of the two histograms that the synthetic data distribution closely resembles the actual data distribution. This suggests that as compared to the randomly generated dataset, the synthetic dataset produced using independent attribute mode represents the real scenario more accurately.\n",
        "\n",
        "It is crucial to remember that the independent attribute mode does not randomly distribute or assign each attribute an equal probability. Instead, it creates the traits independently of one another, keeping track of each attribute's unique distribution and disregarding any association between them. As a result, the independent attribute mode-generated synthetic dataset can have a different correlation.\n",
        "\n",
        "This synthetic dataset might have different correlation values than the real dataset. In our model it is giving better results than random mode. As a result, the independent attribute mode-generated synthetic dataset can have different correlation values than the actual dataset. Yet, in our model, this mode yields superior outcomes to the random mode."
      ],
      "id": "X8Zcb50jqvnf"
    },
    {
      "cell_type": "code",
      "source": [
        "import seaborn as sns\n",
        "\n",
        "relationship_real = real_data['CDR'].value_counts()\n",
        "relationship_independent = synthetic_independent['CDR'].value_counts()\n",
        "relationship_both = pd.merge(relationship_real.to_frame(), \n",
        "                             relationship_independent.to_frame(), \n",
        "                             left_index=True, \n",
        "                             right_index=True, \n",
        "                             suffixes=('_real', '_independent_attribute_mode'))\n"
      ],
      "metadata": {
        "id": "mSIwGaFzR4Vr"
      },
      "id": "mSIwGaFzR4Vr",
      "execution_count": null,
      "outputs": []
    },
    {
      "cell_type": "code",
      "execution_count": null,
      "metadata": {
        "colab": {
          "base_uri": "https://localhost:8080/",
          "height": 402
        },
        "id": "wYcgl9owUoCt",
        "outputId": "ea06f2a4-db83-4b91-d6c7-50cee47bbf0f"
      },
      "outputs": [
        {
          "output_type": "display_data",
          "data": {
            "text/plain": [
              "<Figure size 1000x400 with 2 Axes>"
            ],
            "image/png": "[encoded data removed]"
          },
          "metadata": {}
        }
      ],
      "source": [
        "# plot the distribution of \"relationship\" in the synthetic data generated under the correlated attribute mode and the independent attribute mode here\n",
        "fig, axes = plt.subplots(1, 2, figsize=(10,4), dpi=100)\n",
        "\n",
        "sns.barplot(x=relationship_both.index, y=relationship_both['CDR_real'], ax=axes[0])\n",
        "sns.barplot(x=relationship_both.index, y=relationship_both['CDR_independent_attribute_mode'], ax=axes[1])\n",
        "\n",
        "axes[0].set_xticklabels(axes[0].get_xticklabels(), rotation=90)\n",
        "axes[1].set_xticklabels(axes[1].get_xticklabels(), rotation=90)\n",
        "\n",
        "axes[0].set(title='Real data', xlabel='Relationship', ylabel='Frequency')\n",
        "axes[1].set(title='Independent attribute mode', xlabel='Relationship', ylabel='Frequency')\n",
        "\n",
        "plt.tight_layout()\n",
        "plt.show()"
      ],
      "id": "wYcgl9owUoCt"
    },
    {
      "cell_type": "markdown",
      "metadata": {
        "id": "Q4uMBHcFUoCt"
      },
      "source": [
        "## Statistical measures\n",
        "\n",
        "### Mutual information"
      ],
      "id": "Q4uMBHcFUoCt"
    },
    {
      "cell_type": "markdown",
      "metadata": {
        "id": "_Ln430t6UoCt"
      },
      "source": [
        "We can use mutual information to further understand how the relationships between features are similar/different in the real data and the synthetic data. Mutual information is defined as follows for two discrete variables X and Y:\n",
        "\n",
        "\n",
        "$$I(X; Y) = \\sum_{y \\in Y} \\sum_{x \\in X} p(x,y) \\log(\\frac{p(x,y)}{p(x)p(y)})$$\n",
        "\n",
        "Higher values indicate greater levels of mutual information. For two independent variables, the value will be zero (look at the logged term). This metric works for categorical variables *or* continuous variables. "
      ],
      "id": "_Ln430t6UoCt"
    },
    {
      "cell_type": "code",
      "execution_count": null,
      "metadata": {
        "id": "-zdSvQ3jUoCu"
      },
      "outputs": [],
      "source": [
        "from sklearn.metrics import normalized_mutual_info_score"
      ],
      "id": "-zdSvQ3jUoCu"
    },
    {
      "cell_type": "code",
      "execution_count": null,
      "metadata": {
        "colab": {
          "base_uri": "https://localhost:8080/"
        },
        "id": "0GUEfgraUoCu",
        "outputId": "c3bb7682-9e17-4b65-8d10-440ba1a14d09"
      },
      "outputs": [
        {
          "output_type": "stream",
          "name": "stderr",
          "text": [
            "/usr/local/lib/python3.10/dist-packages/sklearn/metrics/cluster/_supervised.py:64: UserWarning: Clustering metrics expects discrete values but received multiclass values for label, and continuous values for target\n",
            "  warnings.warn(msg, UserWarning)\n"
          ]
        },
        {
          "output_type": "execute_result",
          "data": {
            "text/plain": [
              "0.0687772404047428"
            ]
          },
          "metadata": {},
          "execution_count": 118
        }
      ],
      "source": [
        "normalized_mutual_info_score(real_data['Age'], \n",
        "                             real_data['CDR'], \n",
        "                             average_method='arithmetic')"
      ],
      "id": "0GUEfgraUoCu"
    },
    {
      "cell_type": "code",
      "execution_count": null,
      "metadata": {
        "colab": {
          "base_uri": "https://localhost:8080/"
        },
        "id": "hqY1BFjEUoCu",
        "outputId": "e4daf821-7004-4997-b230-30f6b4eeee71"
      },
      "outputs": [
        {
          "output_type": "execute_result",
          "data": {
            "text/plain": [
              "0.16672968682783296"
            ]
          },
          "metadata": {},
          "execution_count": 119
        }
      ],
      "source": [
        "normalized_mutual_info_score(real_data['Age'], \n",
        "                             real_data['Educ'], \n",
        "                             average_method='arithmetic')"
      ],
      "id": "hqY1BFjEUoCu"
    },
    {
      "cell_type": "markdown",
      "metadata": {
        "id": "kKVqjAJdUoCu"
      },
      "source": [
        "We can even plot the mutual information between all pairs of features in the dataset:"
      ],
      "id": "kKVqjAJdUoCu"
    },
    {
      "cell_type": "code",
      "execution_count": null,
      "metadata": {
        "colab": {
          "base_uri": "https://localhost:8080/",
          "height": 591
        },
        "id": "vTHgNA9jUoCu",
        "outputId": "9d8c7685-6b45-42a5-9b59-809f54ea9c8d"
      },
      "outputs": [
        {
          "output_type": "display_data",
          "data": {
            "text/plain": [
              "<Figure size 1800x720 with 4 Axes>"
            ],
            "image/png": "[encoded data removed]"
          },
          "metadata": {}
        }
      ],
      "source": [
        "attribute_description = read_json_file(description_files['correlated attribute mode'])['attribute_description']\n",
        "ModelInspector(real_data, \n",
        "               synthetic_correlated, \n",
        "               attribute_description).mutual_information_heatmap()"
      ],
      "id": "vTHgNA9jUoCu"
    },
    {
      "cell_type": "markdown",
      "metadata": {
        "id": "hz9snHG4UoCv"
      },
      "source": [
        "### Two-sample Kolmogorov–Smirnov test\n",
        "\n",
        "The Kolmogorov-Smirnov test quantifies the similarity between the empirical distribution functions two sets of data. We can use it to measure how well the distribution of our synthetic data mimics the distribution of the original dataset. \n",
        "\n",
        "For two empirical distributions P and Q, the Kolmogorov–Smirnov test statistic is defined as:\n",
        "\n",
        "$$D = \\max_x |P(x) - Q(x)|$$\n",
        "\n",
        "Intuitively, think of plotting the CDF of each dataset. The Kolmogorov–Smirnov test statistic is the maxium distance between the two CDFs. \n",
        "\n",
        "<img src=\"https://upload.wikimedia.org/wikipedia/commons/c/cf/KS_Example.png\">\n",
        "\n",
        "This metric only works for continuous variables. "
      ],
      "id": "hz9snHG4UoCv"
    },
    {
      "cell_type": "code",
      "execution_count": null,
      "metadata": {
        "id": "Hw8j99qJUoCv"
      },
      "outputs": [],
      "source": [
        "from scipy.stats import ks_2samp"
      ],
      "id": "Hw8j99qJUoCv"
    },
    {
      "cell_type": "code",
      "execution_count": null,
      "metadata": {
        "id": "LQau8TuNUoCv"
      },
      "outputs": [],
      "source": [
        "def ks_test(df_in: pd.DataFrame, df_out: pd.DataFrame, attr: str):\n",
        "    \"\"\"\n",
        "    df_in: the sensitive dataset\n",
        "    df_out: the synthetic dataset\n",
        "    attr: the attribute that will be calculated for Two-sample Kolmogorov–Smirnov test.\n",
        "    \"\"\"\n",
        "    return ks_2samp(df_in[attr], df_out[attr])[0]"
      ],
      "id": "LQau8TuNUoCv"
    },
    {
      "cell_type": "code",
      "execution_count": null,
      "metadata": {
        "colab": {
          "base_uri": "https://localhost:8080/"
        },
        "id": "u6f98s_HUoCv",
        "outputId": "79ff08a8-0dea-443f-a71c-f967659c1ee5"
      },
      "outputs": [
        {
          "output_type": "execute_result",
          "data": {
            "text/plain": [
              "0.5265657894736843"
            ]
          },
          "metadata": {},
          "execution_count": 123
        }
      ],
      "source": [
        "ks_test(real_data, synthetic_random, 'Age')"
      ],
      "id": "u6f98s_HUoCv"
    },
    {
      "cell_type": "code",
      "execution_count": null,
      "metadata": {
        "colab": {
          "base_uri": "https://localhost:8080/"
        },
        "id": "X-C2V7yuUoCw",
        "outputId": "587fad19-b734-4cef-e4b8-dd862ce5b4f9"
      },
      "outputs": [
        {
          "output_type": "execute_result",
          "data": {
            "text/plain": [
              "0.40628947368421053"
            ]
          },
          "metadata": {},
          "execution_count": 124
        }
      ],
      "source": [
        "ks_test(real_data, synthetic_independent, 'Age')"
      ],
      "id": "X-C2V7yuUoCw"
    },
    {
      "cell_type": "code",
      "execution_count": null,
      "metadata": {
        "colab": {
          "base_uri": "https://localhost:8080/"
        },
        "id": "WyZQiz3dUoCw",
        "outputId": "417b2b58-0d05-4ff9-bf4d-7f1c6e9005b2"
      },
      "outputs": [
        {
          "output_type": "execute_result",
          "data": {
            "text/plain": [
              "0.36206578947368423"
            ]
          },
          "metadata": {},
          "execution_count": 125
        }
      ],
      "source": [
        "ks_test(real_data, synthetic_correlated, 'Age')"
      ],
      "id": "WyZQiz3dUoCw"
    },
    {
      "cell_type": "markdown",
      "metadata": {
        "id": "ECTHAm3Nxxwa"
      },
      "source": [
        "What do you notice about the Kolmogorov–Smirnov test statistic in the synthetic_random versus the synthetic_independent and synthetic_correlated modes?"
      ],
      "id": "ECTHAm3Nxxwa"
    },
    {
      "cell_type": "markdown",
      "metadata": {
        "id": "AddQUh-4x8zH"
      },
      "source": [
        "**Write your observations in this text cell:** According to the K-S test, there may be a significant difference between the distributions of the two datasets if the Kolmogorov-Smirnov test statistic's value is high. Here, we observe that the value is extremely high for synthetic random mode data, although it is about the same for independent and correlated data. The independent mode dataset that was generated, not the correlated data, has the lowest value. This indicates that there was little association between the attributes in the actual dataset (no connection between the columns). Hence, the dataset produced utilizing attribute independence produced better outcomes. It is important to note that the age property was used to calculate these results. For accurate comparisons across various modes, we must also compare other column distributions ( random, independent and correlated ).\n",
        "\n",
        "The effectiveness of models trained on these artificial datasets and models trained on real datasets can be contrasted. We can evaluate the precision, recall, and other metrics."
      ],
      "id": "AddQUh-4x8zH"
    },
    {
      "cell_type": "markdown",
      "metadata": {
        "id": "GowfFP1HUoCw"
      },
      "source": [
        "### KL-divergence\n",
        "\n",
        "The KL-divergence is an alternative way to measure the difference between two distributions. For two distributions P and Q, the KL-divergence is defined as \n",
        "\n",
        "$$D = \\sum_x P(x) \\log (\\frac{P(x)}{Q(X)})$$\n",
        "\n",
        "This metric works on discrete/categorical variables.\n"
      ],
      "id": "GowfFP1HUoCw"
    },
    {
      "cell_type": "code",
      "execution_count": null,
      "metadata": {
        "id": "0Dq8rBDaUoCw"
      },
      "outputs": [],
      "source": [
        "from scipy.stats import entropy"
      ],
      "id": "0Dq8rBDaUoCw"
    },
    {
      "cell_type": "code",
      "execution_count": null,
      "metadata": {
        "id": "u13fVdqLUoCw"
      },
      "outputs": [],
      "source": [
        "def get_distribution_of_categorical_attribute(attribute: pd.Series, indicies=None):\n",
        "    distribution = attribute.dropna().value_counts()\n",
        "    if indicies is not None:\n",
        "        for idx in set(indicies) - set(distribution.index):\n",
        "            distribution.loc[idx] = 0\n",
        "    distribution.sort_index(inplace=True)\n",
        "    return distribution/sum(distribution)\n",
        "\n",
        "def kl_test(df_in: pd.DataFrame, df_out: pd.DataFrame, attr: str):\n",
        "    \"\"\"\n",
        "    df_in: the sensitive dataset\n",
        "    df_out: the synthetic dataset\n",
        "    attr: the attribute that will be calculated for KL-divergence.\n",
        "    \"\"\"\n",
        "    distribution_in = get_distribution_of_categorical_attribute(df_in[attr])\n",
        "    distribution_out = get_distribution_of_categorical_attribute(df_out[attr], distribution_in.index)\n",
        "    return entropy(distribution_out, distribution_in)"
      ],
      "id": "u13fVdqLUoCw"
    },
    {
      "cell_type": "code",
      "execution_count": null,
      "metadata": {
        "colab": {
          "base_uri": "https://localhost:8080/"
        },
        "id": "KUyOzLeTUoCw",
        "outputId": "d380502d-d5e8-4820-d9c4-a7b58a2f8583"
      },
      "outputs": [
        {
          "output_type": "execute_result",
          "data": {
            "text/plain": [
              "0.6775753372834721"
            ]
          },
          "metadata": {},
          "execution_count": 130
        }
      ],
      "source": [
        "kl_test(real_data, synthetic_random, 'CDR')"
      ],
      "id": "KUyOzLeTUoCw"
    },
    {
      "cell_type": "code",
      "execution_count": null,
      "metadata": {
        "colab": {
          "base_uri": "https://localhost:8080/"
        },
        "id": "dBQfTe81UoCx",
        "outputId": "1f5a9e6a-7bd3-4f48-f902-d17556125fab"
      },
      "outputs": [
        {
          "output_type": "execute_result",
          "data": {
            "text/plain": [
              "0.5383929013675659"
            ]
          },
          "metadata": {},
          "execution_count": 129
        }
      ],
      "source": [
        "kl_test(real_data, synthetic_independent, 'CDR')"
      ],
      "id": "dBQfTe81UoCx"
    },
    {
      "cell_type": "code",
      "execution_count": null,
      "metadata": {
        "colab": {
          "base_uri": "https://localhost:8080/"
        },
        "id": "N5eXmFRsUoCx",
        "outputId": "ff6fbe58-8db1-42e7-d85c-728c34c4711f"
      },
      "outputs": [
        {
          "output_type": "execute_result",
          "data": {
            "text/plain": [
              "1.0117168697957206"
            ]
          },
          "metadata": {},
          "execution_count": 131
        }
      ],
      "source": [
        "kl_test(real_data, synthetic_correlated, 'CDR')"
      ],
      "id": "N5eXmFRsUoCx"
    },
    {
      "cell_type": "markdown",
      "metadata": {
        "id": "K6iyQW-SUoCx"
      },
      "source": [
        "### Boxplot"
      ],
      "id": "K6iyQW-SUoCx"
    },
    {
      "cell_type": "markdown",
      "metadata": {
        "id": "0qRjI-CmyFdd"
      },
      "source": [
        "It is often useful to the compare distributions of a continuous variable using a boxplot. For example, we plot the distribution of age by income status in the real data and in the synthetic_correlated data below:"
      ],
      "id": "0qRjI-CmyFdd"
    },
    {
      "cell_type": "code",
      "execution_count": null,
      "metadata": {
        "id": "iHL2v9nFUoCx"
      },
      "outputs": [],
      "source": [
        "import seaborn as sns"
      ],
      "id": "iHL2v9nFUoCx"
    },
    {
      "cell_type": "code",
      "execution_count": null,
      "metadata": {
        "colab": {
          "base_uri": "https://localhost:8080/",
          "height": 206
        },
        "id": "p4LejBwzUoCx",
        "outputId": "58b2b1f4-a8fe-43e3-b1f7-615b0572a331"
      },
      "outputs": [
        {
          "output_type": "execute_result",
          "data": {
            "text/plain": [
              "  M/F Hand  Age  Educ  SES  MMSE  CDR  eTIV   nWBV    ASF\n",
              "0   F    R   74   2.0  3.0  29.0  0.0  1344  0.743  1.306\n",
              "1   F    R   55   4.0  1.0  29.0  0.0  1147  0.810  1.531\n",
              "2   F    R   73   4.0  3.0  27.0  0.5  1454  0.708  1.207\n",
              "3   M    R   74   5.0  2.0  30.0  0.0  1636  0.689  1.073\n",
              "4   F    R   52   3.0  2.0  30.0  0.0  1321  0.827  1.329"
            ],
            "text/html": [
              "\n",
              "  <div id=\"df-2905625b-b371-4cf4-a593-6b6cbab591b9\">\n",
              "    <div class=\"colab-df-container\">\n",
              "      <div>\n",
              "<style scoped>\n",
              "    .dataframe tbody tr th:only-of-type {\n",
              "        vertical-align: middle;\n",
              "    }\n",
              "\n",
              "    .dataframe tbody tr th {\n",
              "        vertical-align: top;\n",
              "    }\n",
              "\n",
              "    .dataframe thead th {\n",
              "        text-align: right;\n",
              "    }\n",
              "</style>\n",
              "<table border=\"1\" class=\"dataframe\">\n",
              "  <thead>\n",
              "    <tr style=\"text-align: right;\">\n",
              "      <th></th>\n",
              "      <th>M/F</th>\n",
              "      <th>Hand</th>\n",
              "      <th>Age</th>\n",
              "      <th>Educ</th>\n",
              "      <th>SES</th>\n",
              "      <th>MMSE</th>\n",
              "      <th>CDR</th>\n",
              "      <th>eTIV</th>\n",
              "      <th>nWBV</th>\n",
              "      <th>ASF</th>\n",
              "    </tr>\n",
              "  </thead>\n",
              "  <tbody>\n",
              "    <tr>\n",
              "      <th>0</th>\n",
              "      <td>F</td>\n",
              "      <td>R</td>\n",
              "      <td>74</td>\n",
              "      <td>2.0</td>\n",
              "      <td>3.0</td>\n",
              "      <td>29.0</td>\n",
              "      <td>0.0</td>\n",
              "      <td>1344</td>\n",
              "      <td>0.743</td>\n",
              "      <td>1.306</td>\n",
              "    </tr>\n",
              "    <tr>\n",
              "      <th>1</th>\n",
              "      <td>F</td>\n",
              "      <td>R</td>\n",
              "      <td>55</td>\n",
              "      <td>4.0</td>\n",
              "      <td>1.0</td>\n",
              "      <td>29.0</td>\n",
              "      <td>0.0</td>\n",
              "      <td>1147</td>\n",
              "      <td>0.810</td>\n",
              "      <td>1.531</td>\n",
              "    </tr>\n",
              "    <tr>\n",
              "      <th>2</th>\n",
              "      <td>F</td>\n",
              "      <td>R</td>\n",
              "      <td>73</td>\n",
              "      <td>4.0</td>\n",
              "      <td>3.0</td>\n",
              "      <td>27.0</td>\n",
              "      <td>0.5</td>\n",
              "      <td>1454</td>\n",
              "      <td>0.708</td>\n",
              "      <td>1.207</td>\n",
              "    </tr>\n",
              "    <tr>\n",
              "      <th>3</th>\n",
              "      <td>M</td>\n",
              "      <td>R</td>\n",
              "      <td>74</td>\n",
              "      <td>5.0</td>\n",
              "      <td>2.0</td>\n",
              "      <td>30.0</td>\n",
              "      <td>0.0</td>\n",
              "      <td>1636</td>\n",
              "      <td>0.689</td>\n",
              "      <td>1.073</td>\n",
              "    </tr>\n",
              "    <tr>\n",
              "      <th>4</th>\n",
              "      <td>F</td>\n",
              "      <td>R</td>\n",
              "      <td>52</td>\n",
              "      <td>3.0</td>\n",
              "      <td>2.0</td>\n",
              "      <td>30.0</td>\n",
              "      <td>0.0</td>\n",
              "      <td>1321</td>\n",
              "      <td>0.827</td>\n",
              "      <td>1.329</td>\n",
              "    </tr>\n",
              "  </tbody>\n",
              "</table>\n",
              "</div>\n",
              "      <button class=\"colab-df-convert\" onclick=\"convertToInteractive('df-2905625b-b371-4cf4-a593-6b6cbab591b9')\"\n",
              "              title=\"Convert this dataframe to an interactive table.\"\n",
              "              style=\"display:none;\">\n",
              "        \n",
              "  <svg xmlns=\"http://www.w3.org/2000/svg\" height=\"24px\"viewBox=\"0 0 24 24\"\n",
              "       width=\"24px\">\n",
              "    <path d=\"M0 0h24v24H0V0z\" fill=\"none\"/>\n",
              "    <path d=\"M18.56 5.44l.94 2.06.94-2.06 2.06-.94-2.06-.94-.94-2.06-.94 2.06-2.06.94zm-11 1L8.5 8.5l.94-2.06 2.06-.94-2.06-.94L8.5 2.5l-.94 2.06-2.06.94zm10 10l.94 2.06.94-2.06 2.06-.94-2.06-.94-.94-2.06-.94 2.06-2.06.94z\"/><path d=\"M17.41 7.96l-1.37-1.37c-.4-.4-.92-.59-1.43-.59-.52 0-1.04.2-1.43.59L10.3 9.45l-7.72 7.72c-.78.78-.78 2.05 0 2.83L4 21.41c.39.39.9.59 1.41.59.51 0 1.02-.2 1.41-.59l7.78-7.78 2.81-2.81c.8-.78.8-2.07 0-2.86zM5.41 20L4 18.59l7.72-7.72 1.47 1.35L5.41 20z\"/>\n",
              "  </svg>\n",
              "      </button>\n",
              "      \n",
              "  <style>\n",
              "    .colab-df-container {\n",
              "      display:flex;\n",
              "      flex-wrap:wrap;\n",
              "      gap: 12px;\n",
              "    }\n",
              "\n",
              "    .colab-df-convert {\n",
              "      background-color: #E8F0FE;\n",
              "      border: none;\n",
              "      border-radius: 50%;\n",
              "      cursor: pointer;\n",
              "      display: none;\n",
              "      fill: #1967D2;\n",
              "      height: 32px;\n",
              "      padding: 0 0 0 0;\n",
              "      width: 32px;\n",
              "    }\n",
              "\n",
              "    .colab-df-convert:hover {\n",
              "      background-color: #E2EBFA;\n",
              "      box-shadow: 0px 1px 2px rgba(60, 64, 67, 0.3), 0px 1px 3px 1px rgba(60, 64, 67, 0.15);\n",
              "      fill: #174EA6;\n",
              "    }\n",
              "\n",
              "    [theme=dark] .colab-df-convert {\n",
              "      background-color: #3B4455;\n",
              "      fill: #D2E3FC;\n",
              "    }\n",
              "\n",
              "    [theme=dark] .colab-df-convert:hover {\n",
              "      background-color: #434B5C;\n",
              "      box-shadow: 0px 1px 3px 1px rgba(0, 0, 0, 0.15);\n",
              "      filter: drop-shadow(0px 1px 2px rgba(0, 0, 0, 0.3));\n",
              "      fill: #FFFFFF;\n",
              "    }\n",
              "  </style>\n",
              "\n",
              "      <script>\n",
              "        const buttonEl =\n",
              "          document.querySelector('#df-2905625b-b371-4cf4-a593-6b6cbab591b9 button.colab-df-convert');\n",
              "        buttonEl.style.display =\n",
              "          google.colab.kernel.accessAllowed ? 'block' : 'none';\n",
              "\n",
              "        async function convertToInteractive(key) {\n",
              "          const element = document.querySelector('#df-2905625b-b371-4cf4-a593-6b6cbab591b9');\n",
              "          const dataTable =\n",
              "            await google.colab.kernel.invokeFunction('convertToInteractive',\n",
              "                                                     [key], {});\n",
              "          if (!dataTable) return;\n",
              "\n",
              "          const docLinkHtml = 'Like what you see? Visit the ' +\n",
              "            '<a target=\"_blank\" href=https://colab.research.google.com/notebooks/data_table.ipynb>data table notebook</a>'\n",
              "            + ' to learn more about interactive tables.';\n",
              "          element.innerHTML = '';\n",
              "          dataTable['output_type'] = 'display_data';\n",
              "          await google.colab.output.renderOutput(dataTable, element);\n",
              "          const docLink = document.createElement('div');\n",
              "          docLink.innerHTML = docLinkHtml;\n",
              "          element.appendChild(docLink);\n",
              "        }\n",
              "      </script>\n",
              "    </div>\n",
              "  </div>\n",
              "  "
            ]
          },
          "metadata": {},
          "execution_count": 133
        }
      ],
      "source": [
        "real_data.head()"
      ],
      "id": "p4LejBwzUoCx"
    },
    {
      "cell_type": "code",
      "execution_count": null,
      "metadata": {
        "colab": {
          "base_uri": "https://localhost:8080/",
          "height": 453
        },
        "id": "zqtgzGJgUoCx",
        "outputId": "f499ecaf-c7bb-4d15-92e6-606ea763b22b"
      },
      "outputs": [
        {
          "output_type": "display_data",
          "data": {
            "text/plain": [
              "<Figure size 640x480 with 1 Axes>"
            ],
            "image/png": "[encoded data removed]"
          },
          "metadata": {}
        }
      ],
      "source": [
        "plt.figure(dpi=100)\n",
        "sns.boxplot(x='SES', y='Age', data=real_data, linewidth=0.5, fliersize=2);"
      ],
      "id": "zqtgzGJgUoCx"
    },
    {
      "cell_type": "code",
      "execution_count": null,
      "metadata": {
        "colab": {
          "base_uri": "https://localhost:8080/",
          "height": 453
        },
        "id": "prxdaPchyaJA",
        "outputId": "3601873e-73ec-4e79-d248-ed5c7db4e644"
      },
      "outputs": [
        {
          "output_type": "display_data",
          "data": {
            "text/plain": [
              "<Figure size 640x480 with 1 Axes>"
            ],
            "image/png": "[encoded data removed]"
          },
          "metadata": {}
        }
      ],
      "source": [
        "plt.figure(dpi=100)\n",
        "sns.boxplot(x='SES', y='Age', data=synthetic_correlated, linewidth=0.5, fliersize=2);"
      ],
      "id": "prxdaPchyaJA"
    }
  ],
  "metadata": {
    "kernelspec": {
      "display_name": "Python 3",
      "language": "python",
      "name": "python3"
    },
    "language_info": {
      "codemirror_mode": {
        "name": "ipython",
        "version": 3
      },
      "file_extension": ".py",
      "mimetype": "text/x-python",
      "name": "python",
      "nbconvert_exporter": "python",
      "pygments_lexer": "ipython3",
      "version": "3.7.10"
    },
    "papermill": {
      "default_parameters": {},
      "duration": 1644.297117,
      "end_time": "2021-09-14T06:12:09.670256",
      "environment_variables": {},
      "exception": null,
      "input_path": "__notebook__.ipynb",
      "output_path": "__notebook__.ipynb",
      "parameters": {},
      "start_time": "2021-09-14T05:44:45.373139",
      "version": "2.3.3"
    },
    "colab": {
      "provenance": [],
      "include_colab_link": true
    },
    "gpuClass": "standard"
  },
  "nbformat": 4,
  "nbformat_minor": 5
}