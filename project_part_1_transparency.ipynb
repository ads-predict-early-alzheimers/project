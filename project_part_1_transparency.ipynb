{
  "cells": [
    {
      "cell_type": "markdown",
      "metadata": {
        "id": "view-in-github",
        "colab_type": "text"
      },
      "source": [
        "<a href=\"https://colab.research.google.com/github/ads-predict-early-alzheimers/project/blob/main/project_part_1_transparency.ipynb\" target=\"_parent\"><img src=\"https://colab.research.google.com/assets/colab-badge.svg\" alt=\"Open In Colab\"/></a>"
      ]
    },
    {
      "cell_type": "markdown",
      "id": "1fa8d745",
      "metadata": {
        "papermill": {
          "duration": 0.033537,
          "end_time": "2021-09-14T05:44:51.594987",
          "exception": false,
          "start_time": "2021-09-14T05:44:51.561450",
          "status": "completed"
        },
        "tags": [],
        "id": "1fa8d745"
      },
      "source": [
        "# Alzheimer's prediction project_part_1_transparency"
      ]
    },
    {
      "cell_type": "markdown",
      "id": "5c22fb1d",
      "metadata": {
        "papermill": {
          "duration": 0.030315,
          "end_time": "2021-09-14T05:44:51.656322",
          "exception": false,
          "start_time": "2021-09-14T05:44:51.626007",
          "status": "completed"
        },
        "tags": [],
        "id": "5c22fb1d"
      },
      "source": [
        "## What is Alzheimer's disease (AD)?"
      ]
    },
    {
      "cell_type": "markdown",
      "id": "22a31593",
      "metadata": {
        "papermill": {
          "duration": 0.03061,
          "end_time": "2021-09-14T05:44:51.778743",
          "exception": false,
          "start_time": "2021-09-14T05:44:51.748133",
          "status": "completed"
        },
        "tags": [],
        "id": "22a31593"
      },
      "source": [
        "Alzheimer's disease (AD) is a neurodegenerative disease that usually starts slowly and progressively worsens.It is the cause of 60–70% of cases of dementia.The most common early symptom is difficulty in remembering recent events. As the disease advances, symptoms can include problems with language, disorientation (including easily getting lost), mood swings, loss of motivation, self-neglect, and behavioral issues. As a person's condition declines, they often withdraw from family and society.Gradually, bodily functions are lost, ultimately leading to death. Although the speed of progression can vary, the typical life expectancy following diagnosis is three to nine years."
      ]
    },
    {
      "cell_type": "markdown",
      "id": "68737b89",
      "metadata": {
        "papermill": {
          "duration": 0.031837,
          "end_time": "2021-09-14T05:44:51.841039",
          "exception": false,
          "start_time": "2021-09-14T05:44:51.809202",
          "status": "completed"
        },
        "tags": [],
        "id": "68737b89"
      },
      "source": [
        "## What is Dementia?"
      ]
    },
    {
      "cell_type": "markdown",
      "id": "2faad3f8",
      "metadata": {
        "papermill": {
          "duration": 0.030772,
          "end_time": "2021-09-14T05:44:51.902781",
          "exception": false,
          "start_time": "2021-09-14T05:44:51.872009",
          "status": "completed"
        },
        "tags": [],
        "id": "2faad3f8"
      },
      "source": [
        "Dementia is a general term for loss of memory, language, problem-solving and other thinking abilities that are severe enough to interfere with daily life. Alzheimer's is the most common cause of dementia, a general term for memory loss and other cognitive abilities serious enough to interfere with daily life. Alzheimer's disease accounts for 60-80% of dementia cases."
      ]
    },
    {
      "cell_type": "markdown",
      "id": "48cea35d",
      "metadata": {
        "papermill": {
          "duration": 0.031995,
          "end_time": "2021-09-14T05:44:51.965690",
          "exception": false,
          "start_time": "2021-09-14T05:44:51.933695",
          "status": "completed"
        },
        "tags": [],
        "id": "48cea35d"
      },
      "source": [
        "### Our problem statement\n",
        "\n",
        "Estimating the CDR (scale of Dementia) using relevant features in the MRI dataset.\n",
        "\n",
        "The CDR is based on a scale of 0–3: no dementia (CDR = 0), questionable dementia (CDR = 0.5), MCI (CDR = 1), moderate cognitive impairment (CDR = 2), and severe cognitive impairment (CDR = 3)."
      ]
    },
    {
      "cell_type": "code",
      "execution_count": 1,
      "id": "818a272f",
      "metadata": {
        "execution": {
          "iopub.execute_input": "2021-09-14T05:44:52.033902Z",
          "iopub.status.busy": "2021-09-14T05:44:52.032343Z",
          "iopub.status.idle": "2021-09-14T05:44:57.391960Z",
          "shell.execute_reply": "2021-09-14T05:44:57.390941Z",
          "shell.execute_reply.started": "2021-09-14T04:46:45.345700Z"
        },
        "papermill": {
          "duration": 5.394891,
          "end_time": "2021-09-14T05:44:57.392132",
          "exception": false,
          "start_time": "2021-09-14T05:44:51.997241",
          "status": "completed"
        },
        "tags": [],
        "id": "818a272f"
      },
      "outputs": [],
      "source": [
        "import tensorflow.compat.v1 as tf\n",
        "from sklearn.metrics import confusion_matrix\n",
        "import numpy as np\n",
        "from scipy.io import loadmat\n",
        "import os\n",
        "from pywt import wavedec\n",
        "from functools import reduce\n",
        "from scipy import signal\n",
        "from scipy.stats import entropy\n",
        "from scipy.fft import fft, ifft\n",
        "import pandas as pd\n",
        "from sklearn.model_selection import train_test_split, StratifiedKFold\n",
        "from sklearn.model_selection import RandomizedSearchCV\n",
        "from sklearn.preprocessing import StandardScaler\n",
        "from tensorflow import keras as K\n",
        "import matplotlib.pyplot as plt\n",
        "import scipy\n",
        "from sklearn import metrics\n",
        "from sklearn.ensemble import RandomForestClassifier\n",
        "from sklearn.neighbors import KNeighborsClassifier\n",
        "from sklearn.svm import SVC\n",
        "from sklearn.metrics import accuracy_score\n",
        "from sklearn.model_selection import KFold,cross_validate\n",
        "from tensorflow.keras.layers import Dense, Activation, Flatten, concatenate, Input, Dropout, LSTM, Bidirectional,BatchNormalization,PReLU,ReLU,Reshape\n",
        "from sklearn.metrics import classification_report\n",
        "from tensorflow.keras.models import Sequential, Model, load_model\n",
        "import matplotlib.pyplot as plt;\n",
        "from tensorflow.keras.callbacks import EarlyStopping, ModelCheckpoint\n",
        "from sklearn.decomposition import PCA\n",
        "from sklearn.model_selection import cross_val_score\n",
        "from tensorflow.keras.layers import Conv1D,Conv2D,Add\n",
        "from tensorflow.keras.layers import MaxPool1D, MaxPooling2D\n",
        "import seaborn as sns"
      ]
    },
    {
      "cell_type": "markdown",
      "id": "08e6feab",
      "metadata": {
        "papermill": {
          "duration": 0.031059,
          "end_time": "2021-09-14T05:44:57.454928",
          "exception": false,
          "start_time": "2021-09-14T05:44:57.423869",
          "status": "completed"
        },
        "tags": [],
        "id": "08e6feab"
      },
      "source": [
        "## Reading the Cross-sectional and Longitudinal MRI datasets."
      ]
    },
    {
      "cell_type": "markdown",
      "id": "c70c7d7e",
      "metadata": {
        "papermill": {
          "duration": 0.030921,
          "end_time": "2021-09-14T05:44:57.517010",
          "exception": false,
          "start_time": "2021-09-14T05:44:57.486089",
          "status": "completed"
        },
        "tags": [],
        "id": "c70c7d7e"
      },
      "source": [
        "We describe the attributes in the dataset with data_cross.info() and data_long.info()"
      ]
    },
    {
      "cell_type": "code",
      "source": [
        "import requests\n",
        "import pandas as pd\n",
        "import io\n",
        "\n",
        "url = 'https://raw.githubusercontent.com/ads-predict-early-alzheimers/project/main/oasis_cross-sectional.csv'\n",
        "response = requests.get(url)\n",
        "assert response.status_code == 200, f\"Failed to download the CSV file: {response.text}\"\n",
        "\n",
        "cross_content = response.content.decode('utf-8')\n",
        "data_cross = pd.read_csv(io.StringIO(cross_content))\n",
        "\n",
        "# Now, you have the CSV data in a pandas DataFrame called `data`\n"
      ],
      "metadata": {
        "id": "5h8OeydKOkYl"
      },
      "id": "5h8OeydKOkYl",
      "execution_count": 2,
      "outputs": []
    },
    {
      "cell_type": "code",
      "source": [
        "import requests\n",
        "import pandas as pd\n",
        "\n",
        "url = 'https://raw.githubusercontent.com/ads-predict-early-alzheimers/project/main/oasis_longitudinal.csv'\n",
        "response = requests.get(url)\n",
        "assert response.status_code == 200, f\"Failed to download the CSV file: {response.text}\"\n",
        "\n",
        "long_content = response.content.decode('utf-8')\n",
        "data_long = pd.read_csv(io.StringIO(long_content))\n",
        "\n",
        "# Now, you have the CSV data in a pandas DataFrame called `data`\n"
      ],
      "metadata": {
        "id": "-86Sql0gOvY6"
      },
      "id": "-86Sql0gOvY6",
      "execution_count": 3,
      "outputs": []
    },
    {
      "cell_type": "code",
      "execution_count": 4,
      "id": "08669ffb",
      "metadata": {
        "execution": {
          "iopub.execute_input": "2021-09-14T05:44:57.583603Z",
          "iopub.status.busy": "2021-09-14T05:44:57.583070Z",
          "iopub.status.idle": "2021-09-14T05:44:57.647700Z",
          "shell.execute_reply": "2021-09-14T05:44:57.647213Z",
          "shell.execute_reply.started": "2021-09-14T04:47:34.443905Z"
        },
        "papermill": {
          "duration": 0.100018,
          "end_time": "2021-09-14T05:44:57.647822",
          "exception": false,
          "start_time": "2021-09-14T05:44:57.547804",
          "status": "completed"
        },
        "tags": [],
        "colab": {
          "base_uri": "https://localhost:8080/"
        },
        "id": "08669ffb",
        "outputId": "dc707338-d68e-4226-bddd-be1f7059ae1c"
      },
      "outputs": [
        {
          "output_type": "stream",
          "name": "stdout",
          "text": [
            "<class 'pandas.core.frame.DataFrame'>\n",
            "RangeIndex: 436 entries, 0 to 435\n",
            "Data columns (total 12 columns):\n",
            " #   Column  Non-Null Count  Dtype  \n",
            "---  ------  --------------  -----  \n",
            " 0   ID      436 non-null    object \n",
            " 1   M/F     436 non-null    object \n",
            " 2   Hand    436 non-null    object \n",
            " 3   Age     436 non-null    int64  \n",
            " 4   Educ    235 non-null    float64\n",
            " 5   SES     216 non-null    float64\n",
            " 6   MMSE    235 non-null    float64\n",
            " 7   CDR     235 non-null    float64\n",
            " 8   eTIV    436 non-null    int64  \n",
            " 9   nWBV    436 non-null    float64\n",
            " 10  ASF     436 non-null    float64\n",
            " 11  Delay   20 non-null     float64\n",
            "dtypes: float64(7), int64(2), object(3)\n",
            "memory usage: 41.0+ KB\n",
            "None\n",
            "<class 'pandas.core.frame.DataFrame'>\n",
            "RangeIndex: 373 entries, 0 to 372\n",
            "Data columns (total 15 columns):\n",
            " #   Column      Non-Null Count  Dtype  \n",
            "---  ------      --------------  -----  \n",
            " 0   Subject ID  373 non-null    object \n",
            " 1   MRI ID      373 non-null    object \n",
            " 2   Group       373 non-null    object \n",
            " 3   Visit       373 non-null    int64  \n",
            " 4   MR Delay    373 non-null    int64  \n",
            " 5   M/F         373 non-null    object \n",
            " 6   Hand        373 non-null    object \n",
            " 7   Age         373 non-null    int64  \n",
            " 8   EDUC        373 non-null    int64  \n",
            " 9   SES         354 non-null    float64\n",
            " 10  MMSE        371 non-null    float64\n",
            " 11  CDR         373 non-null    float64\n",
            " 12  eTIV        373 non-null    int64  \n",
            " 13  nWBV        373 non-null    float64\n",
            " 14  ASF         373 non-null    float64\n",
            "dtypes: float64(5), int64(5), object(5)\n",
            "memory usage: 43.8+ KB\n",
            "None\n"
          ]
        }
      ],
      "source": [
        "print(data_cross.info())\n",
        "print(data_long.info())"
      ]
    },
    {
      "cell_type": "markdown",
      "id": "9fa65249",
      "metadata": {
        "papermill": {
          "duration": 0.031398,
          "end_time": "2021-09-14T05:44:57.711204",
          "exception": false,
          "start_time": "2021-09-14T05:44:57.679806",
          "status": "completed"
        },
        "tags": [],
        "id": "9fa65249"
      },
      "source": [
        "## Checking for null values."
      ]
    },
    {
      "cell_type": "code",
      "execution_count": 5,
      "id": "03810d1a",
      "metadata": {
        "execution": {
          "iopub.execute_input": "2021-09-14T05:44:57.789377Z",
          "iopub.status.busy": "2021-09-14T05:44:57.788812Z",
          "iopub.status.idle": "2021-09-14T05:44:57.794900Z",
          "shell.execute_reply": "2021-09-14T05:44:57.795626Z",
          "shell.execute_reply.started": "2021-09-14T04:47:53.506796Z"
        },
        "papermill": {
          "duration": 0.050996,
          "end_time": "2021-09-14T05:44:57.795813",
          "exception": false,
          "start_time": "2021-09-14T05:44:57.744817",
          "status": "completed"
        },
        "tags": [],
        "colab": {
          "base_uri": "https://localhost:8080/"
        },
        "id": "03810d1a",
        "outputId": "02faf39a-2da5-45a8-bf11-4889247ce3bd"
      },
      "outputs": [
        {
          "output_type": "stream",
          "name": "stdout",
          "text": [
            "ID         0\n",
            "M/F        0\n",
            "Hand       0\n",
            "Age        0\n",
            "Educ     201\n",
            "SES      220\n",
            "MMSE     201\n",
            "CDR      201\n",
            "eTIV       0\n",
            "nWBV       0\n",
            "ASF        0\n",
            "Delay    416\n",
            "dtype: int64\n",
            "\n",
            "\n"
          ]
        },
        {
          "output_type": "execute_result",
          "data": {
            "text/plain": [
              "Subject ID     0\n",
              "MRI ID         0\n",
              "Group          0\n",
              "Visit          0\n",
              "MR Delay       0\n",
              "M/F            0\n",
              "Hand           0\n",
              "Age            0\n",
              "EDUC           0\n",
              "SES           19\n",
              "MMSE           2\n",
              "CDR            0\n",
              "eTIV           0\n",
              "nWBV           0\n",
              "ASF            0\n",
              "dtype: int64"
            ]
          },
          "metadata": {},
          "execution_count": 5
        }
      ],
      "source": [
        "print(data_cross.isna().sum())\n",
        "print(\"\\n\")\n",
        "data_long.isna().sum()"
      ]
    },
    {
      "cell_type": "markdown",
      "id": "d7499f2d",
      "metadata": {
        "papermill": {
          "duration": 0.032526,
          "end_time": "2021-09-14T05:44:57.861078",
          "exception": false,
          "start_time": "2021-09-14T05:44:57.828552",
          "status": "completed"
        },
        "tags": [],
        "id": "d7499f2d"
      },
      "source": [
        "Since we will be predicting on the variable \"CDR\", we drop all the rows with undefined or null values"
      ]
    },
    {
      "cell_type": "code",
      "execution_count": 6,
      "id": "1ada0509",
      "metadata": {
        "execution": {
          "iopub.execute_input": "2021-09-14T05:44:57.929223Z",
          "iopub.status.busy": "2021-09-14T05:44:57.928398Z",
          "iopub.status.idle": "2021-09-14T05:44:57.947562Z",
          "shell.execute_reply": "2021-09-14T05:44:57.946875Z",
          "shell.execute_reply.started": "2021-09-14T04:47:59.047891Z"
        },
        "papermill": {
          "duration": 0.054146,
          "end_time": "2021-09-14T05:44:57.947671",
          "exception": false,
          "start_time": "2021-09-14T05:44:57.893525",
          "status": "completed"
        },
        "tags": [],
        "id": "1ada0509"
      },
      "outputs": [],
      "source": [
        "data_cross.dropna(subset=['CDR'],inplace=True)"
      ]
    },
    {
      "cell_type": "markdown",
      "id": "bc99760e",
      "metadata": {
        "papermill": {
          "duration": 0.031634,
          "end_time": "2021-09-14T05:44:58.011945",
          "exception": false,
          "start_time": "2021-09-14T05:44:57.980311",
          "status": "completed"
        },
        "tags": [],
        "id": "bc99760e"
      },
      "source": [
        "## Removing unnecessary columns in both datasets.\n",
        "The unique columns would be of no use in estimating the dependent variable \"CDR\""
      ]
    },
    {
      "cell_type": "code",
      "execution_count": 7,
      "id": "4d05e68b",
      "metadata": {
        "execution": {
          "iopub.execute_input": "2021-09-14T05:44:58.082844Z",
          "iopub.status.busy": "2021-09-14T05:44:58.082092Z",
          "iopub.status.idle": "2021-09-14T05:44:58.084453Z",
          "shell.execute_reply": "2021-09-14T05:44:58.084047Z",
          "shell.execute_reply.started": "2021-09-14T04:48:01.899876Z"
        },
        "papermill": {
          "duration": 0.040916,
          "end_time": "2021-09-14T05:44:58.084559",
          "exception": false,
          "start_time": "2021-09-14T05:44:58.043643",
          "status": "completed"
        },
        "tags": [],
        "id": "4d05e68b"
      },
      "outputs": [],
      "source": [
        "data_cross.drop(columns=['ID','Delay'],inplace=True)\n",
        "data_long = data_long.rename(columns={'EDUC':'Educ'})\n",
        "data_long.drop(columns=['Subject ID','MRI ID','Group','Visit','MR Delay'],inplace=True)"
      ]
    },
    {
      "cell_type": "markdown",
      "id": "4713badb",
      "metadata": {
        "papermill": {
          "duration": 0.031568,
          "end_time": "2021-09-14T05:44:58.147543",
          "exception": false,
          "start_time": "2021-09-14T05:44:58.115975",
          "status": "completed"
        },
        "tags": [],
        "id": "4713badb"
      },
      "source": [
        "## Appending both the datasets."
      ]
    },
    {
      "cell_type": "code",
      "execution_count": 8,
      "id": "9c252bff",
      "metadata": {
        "execution": {
          "iopub.execute_input": "2021-09-14T05:44:58.218543Z",
          "iopub.status.busy": "2021-09-14T05:44:58.217901Z",
          "iopub.status.idle": "2021-09-14T05:44:58.235044Z",
          "shell.execute_reply": "2021-09-14T05:44:58.235531Z",
          "shell.execute_reply.started": "2021-09-14T04:48:05.441062Z"
        },
        "papermill": {
          "duration": 0.05629,
          "end_time": "2021-09-14T05:44:58.235669",
          "exception": false,
          "start_time": "2021-09-14T05:44:58.179379",
          "status": "completed"
        },
        "tags": [],
        "colab": {
          "base_uri": "https://localhost:8080/",
          "height": 206
        },
        "id": "9c252bff",
        "outputId": "4c0969e6-8868-4ed4-ff4b-f43afb6bce89"
      },
      "outputs": [
        {
          "output_type": "execute_result",
          "data": {
            "text/plain": [
              "  M/F Hand  Age  Educ  SES  MMSE  CDR  eTIV   nWBV    ASF\n",
              "0   F    R   74   2.0  3.0  29.0  0.0  1344  0.743  1.306\n",
              "1   F    R   55   4.0  1.0  29.0  0.0  1147  0.810  1.531\n",
              "2   F    R   73   4.0  3.0  27.0  0.5  1454  0.708  1.207\n",
              "8   M    R   74   5.0  2.0  30.0  0.0  1636  0.689  1.073\n",
              "9   F    R   52   3.0  2.0  30.0  0.0  1321  0.827  1.329"
            ],
            "text/html": [
              "\n",
              "  <div id=\"df-db6a9342-3567-421f-92f2-b2d81a290f88\">\n",
              "    <div class=\"colab-df-container\">\n",
              "      <div>\n",
              "<style scoped>\n",
              "    .dataframe tbody tr th:only-of-type {\n",
              "        vertical-align: middle;\n",
              "    }\n",
              "\n",
              "    .dataframe tbody tr th {\n",
              "        vertical-align: top;\n",
              "    }\n",
              "\n",
              "    .dataframe thead th {\n",
              "        text-align: right;\n",
              "    }\n",
              "</style>\n",
              "<table border=\"1\" class=\"dataframe\">\n",
              "  <thead>\n",
              "    <tr style=\"text-align: right;\">\n",
              "      <th></th>\n",
              "      <th>M/F</th>\n",
              "      <th>Hand</th>\n",
              "      <th>Age</th>\n",
              "      <th>Educ</th>\n",
              "      <th>SES</th>\n",
              "      <th>MMSE</th>\n",
              "      <th>CDR</th>\n",
              "      <th>eTIV</th>\n",
              "      <th>nWBV</th>\n",
              "      <th>ASF</th>\n",
              "    </tr>\n",
              "  </thead>\n",
              "  <tbody>\n",
              "    <tr>\n",
              "      <th>0</th>\n",
              "      <td>F</td>\n",
              "      <td>R</td>\n",
              "      <td>74</td>\n",
              "      <td>2.0</td>\n",
              "      <td>3.0</td>\n",
              "      <td>29.0</td>\n",
              "      <td>0.0</td>\n",
              "      <td>1344</td>\n",
              "      <td>0.743</td>\n",
              "      <td>1.306</td>\n",
              "    </tr>\n",
              "    <tr>\n",
              "      <th>1</th>\n",
              "      <td>F</td>\n",
              "      <td>R</td>\n",
              "      <td>55</td>\n",
              "      <td>4.0</td>\n",
              "      <td>1.0</td>\n",
              "      <td>29.0</td>\n",
              "      <td>0.0</td>\n",
              "      <td>1147</td>\n",
              "      <td>0.810</td>\n",
              "      <td>1.531</td>\n",
              "    </tr>\n",
              "    <tr>\n",
              "      <th>2</th>\n",
              "      <td>F</td>\n",
              "      <td>R</td>\n",
              "      <td>73</td>\n",
              "      <td>4.0</td>\n",
              "      <td>3.0</td>\n",
              "      <td>27.0</td>\n",
              "      <td>0.5</td>\n",
              "      <td>1454</td>\n",
              "      <td>0.708</td>\n",
              "      <td>1.207</td>\n",
              "    </tr>\n",
              "    <tr>\n",
              "      <th>8</th>\n",
              "      <td>M</td>\n",
              "      <td>R</td>\n",
              "      <td>74</td>\n",
              "      <td>5.0</td>\n",
              "      <td>2.0</td>\n",
              "      <td>30.0</td>\n",
              "      <td>0.0</td>\n",
              "      <td>1636</td>\n",
              "      <td>0.689</td>\n",
              "      <td>1.073</td>\n",
              "    </tr>\n",
              "    <tr>\n",
              "      <th>9</th>\n",
              "      <td>F</td>\n",
              "      <td>R</td>\n",
              "      <td>52</td>\n",
              "      <td>3.0</td>\n",
              "      <td>2.0</td>\n",
              "      <td>30.0</td>\n",
              "      <td>0.0</td>\n",
              "      <td>1321</td>\n",
              "      <td>0.827</td>\n",
              "      <td>1.329</td>\n",
              "    </tr>\n",
              "  </tbody>\n",
              "</table>\n",
              "</div>\n",
              "      <button class=\"colab-df-convert\" onclick=\"convertToInteractive('df-db6a9342-3567-421f-92f2-b2d81a290f88')\"\n",
              "              title=\"Convert this dataframe to an interactive table.\"\n",
              "              style=\"display:none;\">\n",
              "        \n",
              "  <svg xmlns=\"http://www.w3.org/2000/svg\" height=\"24px\"viewBox=\"0 0 24 24\"\n",
              "       width=\"24px\">\n",
              "    <path d=\"M0 0h24v24H0V0z\" fill=\"none\"/>\n",
              "    <path d=\"M18.56 5.44l.94 2.06.94-2.06 2.06-.94-2.06-.94-.94-2.06-.94 2.06-2.06.94zm-11 1L8.5 8.5l.94-2.06 2.06-.94-2.06-.94L8.5 2.5l-.94 2.06-2.06.94zm10 10l.94 2.06.94-2.06 2.06-.94-2.06-.94-.94-2.06-.94 2.06-2.06.94z\"/><path d=\"M17.41 7.96l-1.37-1.37c-.4-.4-.92-.59-1.43-.59-.52 0-1.04.2-1.43.59L10.3 9.45l-7.72 7.72c-.78.78-.78 2.05 0 2.83L4 21.41c.39.39.9.59 1.41.59.51 0 1.02-.2 1.41-.59l7.78-7.78 2.81-2.81c.8-.78.8-2.07 0-2.86zM5.41 20L4 18.59l7.72-7.72 1.47 1.35L5.41 20z\"/>\n",
              "  </svg>\n",
              "      </button>\n",
              "      \n",
              "  <style>\n",
              "    .colab-df-container {\n",
              "      display:flex;\n",
              "      flex-wrap:wrap;\n",
              "      gap: 12px;\n",
              "    }\n",
              "\n",
              "    .colab-df-convert {\n",
              "      background-color: #E8F0FE;\n",
              "      border: none;\n",
              "      border-radius: 50%;\n",
              "      cursor: pointer;\n",
              "      display: none;\n",
              "      fill: #1967D2;\n",
              "      height: 32px;\n",
              "      padding: 0 0 0 0;\n",
              "      width: 32px;\n",
              "    }\n",
              "\n",
              "    .colab-df-convert:hover {\n",
              "      background-color: #E2EBFA;\n",
              "      box-shadow: 0px 1px 2px rgba(60, 64, 67, 0.3), 0px 1px 3px 1px rgba(60, 64, 67, 0.15);\n",
              "      fill: #174EA6;\n",
              "    }\n",
              "\n",
              "    [theme=dark] .colab-df-convert {\n",
              "      background-color: #3B4455;\n",
              "      fill: #D2E3FC;\n",
              "    }\n",
              "\n",
              "    [theme=dark] .colab-df-convert:hover {\n",
              "      background-color: #434B5C;\n",
              "      box-shadow: 0px 1px 3px 1px rgba(0, 0, 0, 0.15);\n",
              "      filter: drop-shadow(0px 1px 2px rgba(0, 0, 0, 0.3));\n",
              "      fill: #FFFFFF;\n",
              "    }\n",
              "  </style>\n",
              "\n",
              "      <script>\n",
              "        const buttonEl =\n",
              "          document.querySelector('#df-db6a9342-3567-421f-92f2-b2d81a290f88 button.colab-df-convert');\n",
              "        buttonEl.style.display =\n",
              "          google.colab.kernel.accessAllowed ? 'block' : 'none';\n",
              "\n",
              "        async function convertToInteractive(key) {\n",
              "          const element = document.querySelector('#df-db6a9342-3567-421f-92f2-b2d81a290f88');\n",
              "          const dataTable =\n",
              "            await google.colab.kernel.invokeFunction('convertToInteractive',\n",
              "                                                     [key], {});\n",
              "          if (!dataTable) return;\n",
              "\n",
              "          const docLinkHtml = 'Like what you see? Visit the ' +\n",
              "            '<a target=\"_blank\" href=https://colab.research.google.com/notebooks/data_table.ipynb>data table notebook</a>'\n",
              "            + ' to learn more about interactive tables.';\n",
              "          element.innerHTML = '';\n",
              "          dataTable['output_type'] = 'display_data';\n",
              "          await google.colab.output.renderOutput(dataTable, element);\n",
              "          const docLink = document.createElement('div');\n",
              "          docLink.innerHTML = docLinkHtml;\n",
              "          element.appendChild(docLink);\n",
              "        }\n",
              "      </script>\n",
              "    </div>\n",
              "  </div>\n",
              "  "
            ]
          },
          "metadata": {},
          "execution_count": 8
        }
      ],
      "source": [
        "data = pd.concat([data_cross,data_long])\n",
        "data.head()"
      ]
    },
    {
      "cell_type": "code",
      "execution_count": 9,
      "id": "fc078c78",
      "metadata": {
        "execution": {
          "iopub.execute_input": "2021-09-14T05:44:58.305462Z",
          "iopub.status.busy": "2021-09-14T05:44:58.304678Z",
          "iopub.status.idle": "2021-09-14T05:44:58.336320Z",
          "shell.execute_reply": "2021-09-14T05:44:58.336681Z",
          "shell.execute_reply.started": "2021-09-14T04:48:30.333850Z"
        },
        "papermill": {
          "duration": 0.068125,
          "end_time": "2021-09-14T05:44:58.336814",
          "exception": false,
          "start_time": "2021-09-14T05:44:58.268689",
          "status": "completed"
        },
        "tags": [],
        "colab": {
          "base_uri": "https://localhost:8080/",
          "height": 300
        },
        "id": "fc078c78",
        "outputId": "0a1d5f53-70ca-426a-95c5-e4995fb7a449"
      },
      "outputs": [
        {
          "output_type": "execute_result",
          "data": {
            "text/plain": [
              "              Age        Educ        SES        MMSE         CDR         eTIV  \\\n",
              "count  608.000000  608.000000  570.00000  606.000000  608.000000   608.000000   \n",
              "mean    75.208882   10.184211    2.47193   27.234323    0.288651  1477.062500   \n",
              "std      9.865026    6.058388    1.12805    3.687980    0.377697   170.653795   \n",
              "min     33.000000    1.000000    1.00000    4.000000    0.000000  1106.000000   \n",
              "25%     70.000000    4.000000    2.00000   26.000000    0.000000  1352.500000   \n",
              "50%     76.000000   12.000000    2.00000   29.000000    0.000000  1460.000000   \n",
              "75%     82.000000   16.000000    3.00000   30.000000    0.500000  1569.000000   \n",
              "max     98.000000   23.000000    5.00000   30.000000    2.000000  2004.000000   \n",
              "\n",
              "            nWBV         ASF  \n",
              "count  608.00000  608.000000  \n",
              "mean     0.73713    1.203597  \n",
              "std      0.04267    0.135091  \n",
              "min      0.64400    0.876000  \n",
              "25%      0.70400    1.118000  \n",
              "50%      0.73600    1.202000  \n",
              "75%      0.76625    1.297500  \n",
              "max      0.84700    1.587000  "
            ],
            "text/html": [
              "\n",
              "  <div id=\"df-81046ba4-9b8b-4025-9911-a37bd957e24c\">\n",
              "    <div class=\"colab-df-container\">\n",
              "      <div>\n",
              "<style scoped>\n",
              "    .dataframe tbody tr th:only-of-type {\n",
              "        vertical-align: middle;\n",
              "    }\n",
              "\n",
              "    .dataframe tbody tr th {\n",
              "        vertical-align: top;\n",
              "    }\n",
              "\n",
              "    .dataframe thead th {\n",
              "        text-align: right;\n",
              "    }\n",
              "</style>\n",
              "<table border=\"1\" class=\"dataframe\">\n",
              "  <thead>\n",
              "    <tr style=\"text-align: right;\">\n",
              "      <th></th>\n",
              "      <th>Age</th>\n",
              "      <th>Educ</th>\n",
              "      <th>SES</th>\n",
              "      <th>MMSE</th>\n",
              "      <th>CDR</th>\n",
              "      <th>eTIV</th>\n",
              "      <th>nWBV</th>\n",
              "      <th>ASF</th>\n",
              "    </tr>\n",
              "  </thead>\n",
              "  <tbody>\n",
              "    <tr>\n",
              "      <th>count</th>\n",
              "      <td>608.000000</td>\n",
              "      <td>608.000000</td>\n",
              "      <td>570.00000</td>\n",
              "      <td>606.000000</td>\n",
              "      <td>608.000000</td>\n",
              "      <td>608.000000</td>\n",
              "      <td>608.00000</td>\n",
              "      <td>608.000000</td>\n",
              "    </tr>\n",
              "    <tr>\n",
              "      <th>mean</th>\n",
              "      <td>75.208882</td>\n",
              "      <td>10.184211</td>\n",
              "      <td>2.47193</td>\n",
              "      <td>27.234323</td>\n",
              "      <td>0.288651</td>\n",
              "      <td>1477.062500</td>\n",
              "      <td>0.73713</td>\n",
              "      <td>1.203597</td>\n",
              "    </tr>\n",
              "    <tr>\n",
              "      <th>std</th>\n",
              "      <td>9.865026</td>\n",
              "      <td>6.058388</td>\n",
              "      <td>1.12805</td>\n",
              "      <td>3.687980</td>\n",
              "      <td>0.377697</td>\n",
              "      <td>170.653795</td>\n",
              "      <td>0.04267</td>\n",
              "      <td>0.135091</td>\n",
              "    </tr>\n",
              "    <tr>\n",
              "      <th>min</th>\n",
              "      <td>33.000000</td>\n",
              "      <td>1.000000</td>\n",
              "      <td>1.00000</td>\n",
              "      <td>4.000000</td>\n",
              "      <td>0.000000</td>\n",
              "      <td>1106.000000</td>\n",
              "      <td>0.64400</td>\n",
              "      <td>0.876000</td>\n",
              "    </tr>\n",
              "    <tr>\n",
              "      <th>25%</th>\n",
              "      <td>70.000000</td>\n",
              "      <td>4.000000</td>\n",
              "      <td>2.00000</td>\n",
              "      <td>26.000000</td>\n",
              "      <td>0.000000</td>\n",
              "      <td>1352.500000</td>\n",
              "      <td>0.70400</td>\n",
              "      <td>1.118000</td>\n",
              "    </tr>\n",
              "    <tr>\n",
              "      <th>50%</th>\n",
              "      <td>76.000000</td>\n",
              "      <td>12.000000</td>\n",
              "      <td>2.00000</td>\n",
              "      <td>29.000000</td>\n",
              "      <td>0.000000</td>\n",
              "      <td>1460.000000</td>\n",
              "      <td>0.73600</td>\n",
              "      <td>1.202000</td>\n",
              "    </tr>\n",
              "    <tr>\n",
              "      <th>75%</th>\n",
              "      <td>82.000000</td>\n",
              "      <td>16.000000</td>\n",
              "      <td>3.00000</td>\n",
              "      <td>30.000000</td>\n",
              "      <td>0.500000</td>\n",
              "      <td>1569.000000</td>\n",
              "      <td>0.76625</td>\n",
              "      <td>1.297500</td>\n",
              "    </tr>\n",
              "    <tr>\n",
              "      <th>max</th>\n",
              "      <td>98.000000</td>\n",
              "      <td>23.000000</td>\n",
              "      <td>5.00000</td>\n",
              "      <td>30.000000</td>\n",
              "      <td>2.000000</td>\n",
              "      <td>2004.000000</td>\n",
              "      <td>0.84700</td>\n",
              "      <td>1.587000</td>\n",
              "    </tr>\n",
              "  </tbody>\n",
              "</table>\n",
              "</div>\n",
              "      <button class=\"colab-df-convert\" onclick=\"convertToInteractive('df-81046ba4-9b8b-4025-9911-a37bd957e24c')\"\n",
              "              title=\"Convert this dataframe to an interactive table.\"\n",
              "              style=\"display:none;\">\n",
              "        \n",
              "  <svg xmlns=\"http://www.w3.org/2000/svg\" height=\"24px\"viewBox=\"0 0 24 24\"\n",
              "       width=\"24px\">\n",
              "    <path d=\"M0 0h24v24H0V0z\" fill=\"none\"/>\n",
              "    <path d=\"M18.56 5.44l.94 2.06.94-2.06 2.06-.94-2.06-.94-.94-2.06-.94 2.06-2.06.94zm-11 1L8.5 8.5l.94-2.06 2.06-.94-2.06-.94L8.5 2.5l-.94 2.06-2.06.94zm10 10l.94 2.06.94-2.06 2.06-.94-2.06-.94-.94-2.06-.94 2.06-2.06.94z\"/><path d=\"M17.41 7.96l-1.37-1.37c-.4-.4-.92-.59-1.43-.59-.52 0-1.04.2-1.43.59L10.3 9.45l-7.72 7.72c-.78.78-.78 2.05 0 2.83L4 21.41c.39.39.9.59 1.41.59.51 0 1.02-.2 1.41-.59l7.78-7.78 2.81-2.81c.8-.78.8-2.07 0-2.86zM5.41 20L4 18.59l7.72-7.72 1.47 1.35L5.41 20z\"/>\n",
              "  </svg>\n",
              "      </button>\n",
              "      \n",
              "  <style>\n",
              "    .colab-df-container {\n",
              "      display:flex;\n",
              "      flex-wrap:wrap;\n",
              "      gap: 12px;\n",
              "    }\n",
              "\n",
              "    .colab-df-convert {\n",
              "      background-color: #E8F0FE;\n",
              "      border: none;\n",
              "      border-radius: 50%;\n",
              "      cursor: pointer;\n",
              "      display: none;\n",
              "      fill: #1967D2;\n",
              "      height: 32px;\n",
              "      padding: 0 0 0 0;\n",
              "      width: 32px;\n",
              "    }\n",
              "\n",
              "    .colab-df-convert:hover {\n",
              "      background-color: #E2EBFA;\n",
              "      box-shadow: 0px 1px 2px rgba(60, 64, 67, 0.3), 0px 1px 3px 1px rgba(60, 64, 67, 0.15);\n",
              "      fill: #174EA6;\n",
              "    }\n",
              "\n",
              "    [theme=dark] .colab-df-convert {\n",
              "      background-color: #3B4455;\n",
              "      fill: #D2E3FC;\n",
              "    }\n",
              "\n",
              "    [theme=dark] .colab-df-convert:hover {\n",
              "      background-color: #434B5C;\n",
              "      box-shadow: 0px 1px 3px 1px rgba(0, 0, 0, 0.15);\n",
              "      filter: drop-shadow(0px 1px 2px rgba(0, 0, 0, 0.3));\n",
              "      fill: #FFFFFF;\n",
              "    }\n",
              "  </style>\n",
              "\n",
              "      <script>\n",
              "        const buttonEl =\n",
              "          document.querySelector('#df-81046ba4-9b8b-4025-9911-a37bd957e24c button.colab-df-convert');\n",
              "        buttonEl.style.display =\n",
              "          google.colab.kernel.accessAllowed ? 'block' : 'none';\n",
              "\n",
              "        async function convertToInteractive(key) {\n",
              "          const element = document.querySelector('#df-81046ba4-9b8b-4025-9911-a37bd957e24c');\n",
              "          const dataTable =\n",
              "            await google.colab.kernel.invokeFunction('convertToInteractive',\n",
              "                                                     [key], {});\n",
              "          if (!dataTable) return;\n",
              "\n",
              "          const docLinkHtml = 'Like what you see? Visit the ' +\n",
              "            '<a target=\"_blank\" href=https://colab.research.google.com/notebooks/data_table.ipynb>data table notebook</a>'\n",
              "            + ' to learn more about interactive tables.';\n",
              "          element.innerHTML = '';\n",
              "          dataTable['output_type'] = 'display_data';\n",
              "          await google.colab.output.renderOutput(dataTable, element);\n",
              "          const docLink = document.createElement('div');\n",
              "          docLink.innerHTML = docLinkHtml;\n",
              "          element.appendChild(docLink);\n",
              "        }\n",
              "      </script>\n",
              "    </div>\n",
              "  </div>\n",
              "  "
            ]
          },
          "metadata": {},
          "execution_count": 9
        }
      ],
      "source": [
        "data.describe()"
      ]
    },
    {
      "cell_type": "markdown",
      "source": [
        "DATA EDA TO UNDERSTAND BASIC STASTICS AND DISTRIBUTIONS OF THE DATASET. \n",
        "\n",
        "This is the first step in the data analysis process to get some knowledge about the dataset before we start performing data preprocessing. We can find certain patterns and distributions of the dataset which can further help us in training the model on this dataset in future. \n",
        "\n",
        "\n",
        "a. Describe the data used by this ADS. How was this data collected or selected?\n",
        "\n",
        "b. For each input feature, describe its datatype, give information on missing values and on the value distribution. Show pairwise correlations between features if appropriate. Run any other reasonable profiling of the input that you find interesting and appropriate.\n",
        "\n",
        "c. What is the output of the system (e.g., is it a class label, a score, a probability, or some other type of output), and how do we interpret it? "
      ],
      "metadata": {
        "id": "hAAUj2sTUx6W"
      },
      "id": "hAAUj2sTUx6W"
    },
    {
      "cell_type": "markdown",
      "source": [
        "Lets make a function which gives us a basic description of the dataset. This function would provide us with the following info about each numeric feature in data.\n",
        "\n",
        "1. Mean, Median, Min and Max value. Also we will show the box-plot for the feature. Boxplots shows the distribution of the feature\n",
        "2. Datatypes.\n",
        "3. Number of missing values.\n",
        "\n",
        "Also we will be showing the pairwise correlations between features of the data. \n"
      ],
      "metadata": {
        "id": "VlfUJKLJXtFS"
      },
      "id": "VlfUJKLJXtFS"
    },
    {
      "cell_type": "code",
      "source": [
        "import matplotlib.pyplot as plt\n",
        "\n",
        "def mydescriber(data):\n",
        "  #fig, ax = plt.subplots(2,4,figsize=(30,12))\n",
        "  column_names = ['Age','Educ','SES','MMSE','CDR','eTIV','nWBV','ASF']\n",
        "  print(column_names)\n",
        "  for n, f in enumerate(column_names):\n",
        "    print(\"Feature Name : \",f)\n",
        "    if(pd.api.types.is_numeric_dtype(data[f]) == True):\n",
        "      print(\"Mean : \",data[f].mean())\n",
        "      print(\"Median : \",data[f].median())\n",
        "      print(\"Min Value : \",data[f].min())\n",
        "      print(\"Max Value : \",data[f].max())\n",
        "      #plt.boxplot(data[f],whis=[5, 95])\n",
        "      #ax[int(np.floor(n/4)),n%4].set_title(f)"
      ],
      "metadata": {
        "id": "fAHRuWh_UxQI"
      },
      "id": "fAHRuWh_UxQI",
      "execution_count": 10,
      "outputs": []
    },
    {
      "cell_type": "code",
      "source": [
        "import sklearn.model_selection\n",
        "import sklearn.metrics\n",
        "import sklearn.datasets\n",
        "import sklearn.ensemble\n",
        "import sklearn.preprocessing\n",
        "from sklearn.compose import ColumnTransformer\n",
        "from sklearn.preprocessing import OneHotEncoder\n",
        "from sklearn.linear_model import LogisticRegression\n",
        "from sklearn.preprocessing import StandardScaler\n",
        "from sklearn.metrics import accuracy_score\n",
        "import numpy as np\n",
        "from IPython.display import Markdown, display\n",
        "import matplotlib.pyplot as plt\n",
        "import warnings\n",
        "import lime\n",
        "import lime.lime_tabular\n",
        "from lime import submodular_pick\n",
        "import xgboost\n",
        "from xgboost import plot_importance\n",
        "import json\n",
        "from collections import OrderedDict\n",
        "\n",
        "import pandas as pd"
      ],
      "metadata": {
        "id": "grw_vDDtekFG"
      },
      "id": "grw_vDDtekFG",
      "execution_count": 11,
      "outputs": []
    },
    {
      "cell_type": "code",
      "source": [
        "feature_names = ['M/F', 'Hand', 'Age', 'Educ', 'SES', 'MMSE', 'eTIV', 'nWBV', 'ASF']"
      ],
      "metadata": {
        "id": "VED_s2BSfAek"
      },
      "id": "VED_s2BSfAek",
      "execution_count": 12,
      "outputs": []
    },
    {
      "cell_type": "code",
      "source": [
        "# Mark labels and encode them using sklearn\n",
        "labels = data['CDR']\n",
        "le= sklearn.preprocessing.LabelEncoder()\n",
        "le.fit(labels)\n",
        "labels = le.transform(labels)\n",
        "class_names = le.classes_\n",
        "data = data.drop('CDR',axis=1)\n",
        "le_label_mapping = dict(zip(le.classes_, le.transform(le.classes_)))\n",
        "print(\"Class names: \", class_names)\n",
        "print(\"Label mapping: \", le_label_mapping)"
      ],
      "metadata": {
        "colab": {
          "base_uri": "https://localhost:8080/"
        },
        "id": "4DCpvLIDeade",
        "outputId": "629dc7ae-8a9c-40bb-ebe6-4f99a35331ad"
      },
      "id": "4DCpvLIDeade",
      "execution_count": 13,
      "outputs": [
        {
          "output_type": "stream",
          "name": "stdout",
          "text": [
            "Class names:  [0.  0.5 1.  2. ]\n",
            "Label mapping:  {0.0: 0, 0.5: 1, 1.0: 2, 2.0: 3}\n"
          ]
        }
      ]
    },
    {
      "cell_type": "code",
      "source": [
        "# Check if there are categorical varibles that we need to make dummies for\n",
        "print(data.dtypes)\n",
        "# Get a list of which variables are categorical\n",
        "# we record the index of these columns since it is a required input format later in LIME\n",
        "categorical_features  = [i for i in range(len(data.dtypes)) if data.dtypes[i]=='object']\n",
        "print(\"Indices of categorical features: \", categorical_features)"
      ],
      "metadata": {
        "colab": {
          "base_uri": "https://localhost:8080/"
        },
        "id": "NTA8k4fJfIPL",
        "outputId": "d0a71357-367b-45eb-f407-9d84ffddc6f8"
      },
      "id": "NTA8k4fJfIPL",
      "execution_count": 14,
      "outputs": [
        {
          "output_type": "stream",
          "name": "stdout",
          "text": [
            "M/F      object\n",
            "Hand     object\n",
            "Age       int64\n",
            "Educ    float64\n",
            "SES     float64\n",
            "MMSE    float64\n",
            "eTIV      int64\n",
            "nWBV    float64\n",
            "ASF     float64\n",
            "dtype: object\n",
            "Indices of categorical features:  [0, 1]\n"
          ]
        }
      ]
    },
    {
      "cell_type": "code",
      "source": [
        "categorical_names = {}\n",
        "for feature in categorical_features:\n",
        "    print(\"Feature: \", feature)\n",
        "    # Use label encoder to map categories to numbers\n",
        "    le = sklearn.preprocessing.LabelEncoder()\n",
        "    le.fit(data.iloc[:, feature])\n",
        "    # Replace the categories with corresponding numbers in the original data\n",
        "    data.iloc[:, feature] = le.transform(data.iloc[:, feature])\n",
        "    # Store and print the mappings for reference later\n",
        "    categorical_names[feature] = le.classes_\n",
        "    print(categorical_names[feature])\n",
        "    print(\"==================================================\")"
      ],
      "metadata": {
        "colab": {
          "base_uri": "https://localhost:8080/"
        },
        "id": "boPrXc04fLXc",
        "outputId": "82c39437-1f92-4781-9e17-e8cd20ac2bc5"
      },
      "id": "boPrXc04fLXc",
      "execution_count": 15,
      "outputs": [
        {
          "output_type": "stream",
          "name": "stdout",
          "text": [
            "Feature:  0\n",
            "['F' 'M']\n",
            "==================================================\n",
            "Feature:  1\n",
            "['R']\n",
            "==================================================\n"
          ]
        },
        {
          "output_type": "stream",
          "name": "stderr",
          "text": [
            "<ipython-input-15-b2a445afd202>:8: DeprecationWarning: In a future version, `df.iloc[:, i] = newvals` will attempt to set the values inplace instead of always setting a new array. To retain the old behavior, use either `df[df.columns[i]] = newvals` or, if columns are non-unique, `df.isetitem(i, newvals)`\n",
            "  data.iloc[:, feature] = le.transform(data.iloc[:, feature])\n",
            "<ipython-input-15-b2a445afd202>:8: DeprecationWarning: In a future version, `df.iloc[:, i] = newvals` will attempt to set the values inplace instead of always setting a new array. To retain the old behavior, use either `df[df.columns[i]] = newvals` or, if columns are non-unique, `df.isetitem(i, newvals)`\n",
            "  data.iloc[:, feature] = le.transform(data.iloc[:, feature])\n"
          ]
        }
      ]
    },
    {
      "cell_type": "code",
      "source": [
        "# We can (and will) use this encoder function to transform the categorical columns into dummies-- \n",
        "# but we can't do that to the original dataset if we want to use LIME\n",
        "\n",
        "encoder = ColumnTransformer(transformers=[('get_dummies', \n",
        "                                           OneHotEncoder(), \n",
        "                                           categorical_features)], remainder='passthrough')\n",
        "encoder = encoder.fit(data)"
      ],
      "metadata": {
        "id": "WYVZ6rGcfScm"
      },
      "id": "WYVZ6rGcfScm",
      "execution_count": 16,
      "outputs": []
    },
    {
      "cell_type": "markdown",
      "id": "963f1fdd",
      "metadata": {
        "papermill": {
          "duration": 0.201546,
          "end_time": "2021-09-14T05:45:26.244415",
          "exception": false,
          "start_time": "2021-09-14T05:45:26.042869",
          "status": "completed"
        },
        "tags": [],
        "id": "963f1fdd"
      },
      "source": [
        "## Imputing columns using SimpleImputer.\n",
        "We fill in the missing values in the \"SES\" columns with the most occuring data element.\n",
        "Similarly, we fill the missing values in the \"MMSE\" column with the median of that column."
      ]
    },
    {
      "cell_type": "code",
      "execution_count": 17,
      "id": "1d4c231e",
      "metadata": {
        "execution": {
          "iopub.execute_input": "2021-09-14T05:45:26.642132Z",
          "iopub.status.busy": "2021-09-14T05:45:26.641215Z",
          "iopub.status.idle": "2021-09-14T05:45:26.665492Z",
          "shell.execute_reply": "2021-09-14T05:45:26.665047Z",
          "shell.execute_reply.started": "2021-09-14T04:56:16.635399Z"
        },
        "papermill": {
          "duration": 0.225191,
          "end_time": "2021-09-14T05:45:26.665618",
          "exception": false,
          "start_time": "2021-09-14T05:45:26.440427",
          "status": "completed"
        },
        "tags": [],
        "id": "1d4c231e"
      },
      "outputs": [],
      "source": [
        "from sklearn.impute  import SimpleImputer\n",
        "imputer = SimpleImputer ( missing_values = np.nan,strategy='most_frequent')\n",
        "\n",
        "imputer.fit(data[['SES']])\n",
        "data[['SES']] = imputer.fit_transform(data[['SES']])\n",
        "\n",
        "# We perform it with the median\n",
        "imputer = SimpleImputer ( missing_values = np.nan,strategy='median')\n",
        "\n",
        "imputer.fit(data[['MMSE']])\n",
        "data[['MMSE']] = imputer.fit_transform(data[['MMSE']])"
      ]
    },
    {
      "cell_type": "code",
      "execution_count": 18,
      "id": "6dc706a7",
      "metadata": {
        "execution": {
          "iopub.execute_input": "2021-09-14T05:45:27.082001Z",
          "iopub.status.busy": "2021-09-14T05:45:27.081326Z",
          "iopub.status.idle": "2021-09-14T05:45:27.084071Z",
          "shell.execute_reply": "2021-09-14T05:45:27.084496Z",
          "shell.execute_reply.started": "2021-09-14T04:56:17.616936Z"
        },
        "papermill": {
          "duration": 0.225383,
          "end_time": "2021-09-14T05:45:27.084634",
          "exception": false,
          "start_time": "2021-09-14T05:45:26.859251",
          "status": "completed"
        },
        "tags": [],
        "colab": {
          "base_uri": "https://localhost:8080/",
          "height": 424
        },
        "id": "6dc706a7",
        "outputId": "4bd5cf1b-6119-4ae3-a301-41a0ea4afe6f"
      },
      "outputs": [
        {
          "output_type": "execute_result",
          "data": {
            "text/plain": [
              "     M/F  Hand  Age  Educ  SES  MMSE  eTIV   nWBV    ASF\n",
              "0      0     0   74   2.0  3.0  29.0  1344  0.743  1.306\n",
              "1      0     0   55   4.0  1.0  29.0  1147  0.810  1.531\n",
              "2      0     0   73   4.0  3.0  27.0  1454  0.708  1.207\n",
              "8      1     0   74   5.0  2.0  30.0  1636  0.689  1.073\n",
              "9      0     0   52   3.0  2.0  30.0  1321  0.827  1.329\n",
              "..   ...   ...  ...   ...  ...   ...   ...    ...    ...\n",
              "368    1     0   82  16.0  1.0  28.0  1693  0.694  1.037\n",
              "369    1     0   86  16.0  1.0  26.0  1688  0.675  1.040\n",
              "370    0     0   61  13.0  2.0  30.0  1319  0.801  1.331\n",
              "371    0     0   63  13.0  2.0  30.0  1327  0.796  1.323\n",
              "372    0     0   65  13.0  2.0  30.0  1333  0.801  1.317\n",
              "\n",
              "[608 rows x 9 columns]"
            ],
            "text/html": [
              "\n",
              "  <div id=\"df-b565c380-c92c-41aa-bea5-d1d23b32b976\">\n",
              "    <div class=\"colab-df-container\">\n",
              "      <div>\n",
              "<style scoped>\n",
              "    .dataframe tbody tr th:only-of-type {\n",
              "        vertical-align: middle;\n",
              "    }\n",
              "\n",
              "    .dataframe tbody tr th {\n",
              "        vertical-align: top;\n",
              "    }\n",
              "\n",
              "    .dataframe thead th {\n",
              "        text-align: right;\n",
              "    }\n",
              "</style>\n",
              "<table border=\"1\" class=\"dataframe\">\n",
              "  <thead>\n",
              "    <tr style=\"text-align: right;\">\n",
              "      <th></th>\n",
              "      <th>M/F</th>\n",
              "      <th>Hand</th>\n",
              "      <th>Age</th>\n",
              "      <th>Educ</th>\n",
              "      <th>SES</th>\n",
              "      <th>MMSE</th>\n",
              "      <th>eTIV</th>\n",
              "      <th>nWBV</th>\n",
              "      <th>ASF</th>\n",
              "    </tr>\n",
              "  </thead>\n",
              "  <tbody>\n",
              "    <tr>\n",
              "      <th>0</th>\n",
              "      <td>0</td>\n",
              "      <td>0</td>\n",
              "      <td>74</td>\n",
              "      <td>2.0</td>\n",
              "      <td>3.0</td>\n",
              "      <td>29.0</td>\n",
              "      <td>1344</td>\n",
              "      <td>0.743</td>\n",
              "      <td>1.306</td>\n",
              "    </tr>\n",
              "    <tr>\n",
              "      <th>1</th>\n",
              "      <td>0</td>\n",
              "      <td>0</td>\n",
              "      <td>55</td>\n",
              "      <td>4.0</td>\n",
              "      <td>1.0</td>\n",
              "      <td>29.0</td>\n",
              "      <td>1147</td>\n",
              "      <td>0.810</td>\n",
              "      <td>1.531</td>\n",
              "    </tr>\n",
              "    <tr>\n",
              "      <th>2</th>\n",
              "      <td>0</td>\n",
              "      <td>0</td>\n",
              "      <td>73</td>\n",
              "      <td>4.0</td>\n",
              "      <td>3.0</td>\n",
              "      <td>27.0</td>\n",
              "      <td>1454</td>\n",
              "      <td>0.708</td>\n",
              "      <td>1.207</td>\n",
              "    </tr>\n",
              "    <tr>\n",
              "      <th>8</th>\n",
              "      <td>1</td>\n",
              "      <td>0</td>\n",
              "      <td>74</td>\n",
              "      <td>5.0</td>\n",
              "      <td>2.0</td>\n",
              "      <td>30.0</td>\n",
              "      <td>1636</td>\n",
              "      <td>0.689</td>\n",
              "      <td>1.073</td>\n",
              "    </tr>\n",
              "    <tr>\n",
              "      <th>9</th>\n",
              "      <td>0</td>\n",
              "      <td>0</td>\n",
              "      <td>52</td>\n",
              "      <td>3.0</td>\n",
              "      <td>2.0</td>\n",
              "      <td>30.0</td>\n",
              "      <td>1321</td>\n",
              "      <td>0.827</td>\n",
              "      <td>1.329</td>\n",
              "    </tr>\n",
              "    <tr>\n",
              "      <th>...</th>\n",
              "      <td>...</td>\n",
              "      <td>...</td>\n",
              "      <td>...</td>\n",
              "      <td>...</td>\n",
              "      <td>...</td>\n",
              "      <td>...</td>\n",
              "      <td>...</td>\n",
              "      <td>...</td>\n",
              "      <td>...</td>\n",
              "    </tr>\n",
              "    <tr>\n",
              "      <th>368</th>\n",
              "      <td>1</td>\n",
              "      <td>0</td>\n",
              "      <td>82</td>\n",
              "      <td>16.0</td>\n",
              "      <td>1.0</td>\n",
              "      <td>28.0</td>\n",
              "      <td>1693</td>\n",
              "      <td>0.694</td>\n",
              "      <td>1.037</td>\n",
              "    </tr>\n",
              "    <tr>\n",
              "      <th>369</th>\n",
              "      <td>1</td>\n",
              "      <td>0</td>\n",
              "      <td>86</td>\n",
              "      <td>16.0</td>\n",
              "      <td>1.0</td>\n",
              "      <td>26.0</td>\n",
              "      <td>1688</td>\n",
              "      <td>0.675</td>\n",
              "      <td>1.040</td>\n",
              "    </tr>\n",
              "    <tr>\n",
              "      <th>370</th>\n",
              "      <td>0</td>\n",
              "      <td>0</td>\n",
              "      <td>61</td>\n",
              "      <td>13.0</td>\n",
              "      <td>2.0</td>\n",
              "      <td>30.0</td>\n",
              "      <td>1319</td>\n",
              "      <td>0.801</td>\n",
              "      <td>1.331</td>\n",
              "    </tr>\n",
              "    <tr>\n",
              "      <th>371</th>\n",
              "      <td>0</td>\n",
              "      <td>0</td>\n",
              "      <td>63</td>\n",
              "      <td>13.0</td>\n",
              "      <td>2.0</td>\n",
              "      <td>30.0</td>\n",
              "      <td>1327</td>\n",
              "      <td>0.796</td>\n",
              "      <td>1.323</td>\n",
              "    </tr>\n",
              "    <tr>\n",
              "      <th>372</th>\n",
              "      <td>0</td>\n",
              "      <td>0</td>\n",
              "      <td>65</td>\n",
              "      <td>13.0</td>\n",
              "      <td>2.0</td>\n",
              "      <td>30.0</td>\n",
              "      <td>1333</td>\n",
              "      <td>0.801</td>\n",
              "      <td>1.317</td>\n",
              "    </tr>\n",
              "  </tbody>\n",
              "</table>\n",
              "<p>608 rows × 9 columns</p>\n",
              "</div>\n",
              "      <button class=\"colab-df-convert\" onclick=\"convertToInteractive('df-b565c380-c92c-41aa-bea5-d1d23b32b976')\"\n",
              "              title=\"Convert this dataframe to an interactive table.\"\n",
              "              style=\"display:none;\">\n",
              "        \n",
              "  <svg xmlns=\"http://www.w3.org/2000/svg\" height=\"24px\"viewBox=\"0 0 24 24\"\n",
              "       width=\"24px\">\n",
              "    <path d=\"M0 0h24v24H0V0z\" fill=\"none\"/>\n",
              "    <path d=\"M18.56 5.44l.94 2.06.94-2.06 2.06-.94-2.06-.94-.94-2.06-.94 2.06-2.06.94zm-11 1L8.5 8.5l.94-2.06 2.06-.94-2.06-.94L8.5 2.5l-.94 2.06-2.06.94zm10 10l.94 2.06.94-2.06 2.06-.94-2.06-.94-.94-2.06-.94 2.06-2.06.94z\"/><path d=\"M17.41 7.96l-1.37-1.37c-.4-.4-.92-.59-1.43-.59-.52 0-1.04.2-1.43.59L10.3 9.45l-7.72 7.72c-.78.78-.78 2.05 0 2.83L4 21.41c.39.39.9.59 1.41.59.51 0 1.02-.2 1.41-.59l7.78-7.78 2.81-2.81c.8-.78.8-2.07 0-2.86zM5.41 20L4 18.59l7.72-7.72 1.47 1.35L5.41 20z\"/>\n",
              "  </svg>\n",
              "      </button>\n",
              "      \n",
              "  <style>\n",
              "    .colab-df-container {\n",
              "      display:flex;\n",
              "      flex-wrap:wrap;\n",
              "      gap: 12px;\n",
              "    }\n",
              "\n",
              "    .colab-df-convert {\n",
              "      background-color: #E8F0FE;\n",
              "      border: none;\n",
              "      border-radius: 50%;\n",
              "      cursor: pointer;\n",
              "      display: none;\n",
              "      fill: #1967D2;\n",
              "      height: 32px;\n",
              "      padding: 0 0 0 0;\n",
              "      width: 32px;\n",
              "    }\n",
              "\n",
              "    .colab-df-convert:hover {\n",
              "      background-color: #E2EBFA;\n",
              "      box-shadow: 0px 1px 2px rgba(60, 64, 67, 0.3), 0px 1px 3px 1px rgba(60, 64, 67, 0.15);\n",
              "      fill: #174EA6;\n",
              "    }\n",
              "\n",
              "    [theme=dark] .colab-df-convert {\n",
              "      background-color: #3B4455;\n",
              "      fill: #D2E3FC;\n",
              "    }\n",
              "\n",
              "    [theme=dark] .colab-df-convert:hover {\n",
              "      background-color: #434B5C;\n",
              "      box-shadow: 0px 1px 3px 1px rgba(0, 0, 0, 0.15);\n",
              "      filter: drop-shadow(0px 1px 2px rgba(0, 0, 0, 0.3));\n",
              "      fill: #FFFFFF;\n",
              "    }\n",
              "  </style>\n",
              "\n",
              "      <script>\n",
              "        const buttonEl =\n",
              "          document.querySelector('#df-b565c380-c92c-41aa-bea5-d1d23b32b976 button.colab-df-convert');\n",
              "        buttonEl.style.display =\n",
              "          google.colab.kernel.accessAllowed ? 'block' : 'none';\n",
              "\n",
              "        async function convertToInteractive(key) {\n",
              "          const element = document.querySelector('#df-b565c380-c92c-41aa-bea5-d1d23b32b976');\n",
              "          const dataTable =\n",
              "            await google.colab.kernel.invokeFunction('convertToInteractive',\n",
              "                                                     [key], {});\n",
              "          if (!dataTable) return;\n",
              "\n",
              "          const docLinkHtml = 'Like what you see? Visit the ' +\n",
              "            '<a target=\"_blank\" href=https://colab.research.google.com/notebooks/data_table.ipynb>data table notebook</a>'\n",
              "            + ' to learn more about interactive tables.';\n",
              "          element.innerHTML = '';\n",
              "          dataTable['output_type'] = 'display_data';\n",
              "          await google.colab.output.renderOutput(dataTable, element);\n",
              "          const docLink = document.createElement('div');\n",
              "          docLink.innerHTML = docLinkHtml;\n",
              "          element.appendChild(docLink);\n",
              "        }\n",
              "      </script>\n",
              "    </div>\n",
              "  </div>\n",
              "  "
            ]
          },
          "metadata": {},
          "execution_count": 18
        }
      ],
      "source": [
        "data"
      ]
    },
    {
      "cell_type": "code",
      "source": [
        "for i, col_type in enumerate(data.dtypes):\n",
        "    if col_type == \"object\":\n",
        "        print(\"\\nVariable {} takes the values: {}\".format(\n",
        "            data.columns[i],\n",
        "            data[data.columns[i]].unique()))"
      ],
      "metadata": {
        "id": "cW0HDLYdWmbC"
      },
      "id": "cW0HDLYdWmbC",
      "execution_count": 19,
      "outputs": []
    },
    {
      "cell_type": "markdown",
      "id": "c8a3cd55",
      "metadata": {
        "papermill": {
          "duration": 0.195193,
          "end_time": "2021-09-14T05:45:27.473698",
          "exception": false,
          "start_time": "2021-09-14T05:45:27.278505",
          "status": "completed"
        },
        "tags": [],
        "id": "c8a3cd55"
      },
      "source": [
        "## Encoding the Target variable using LabelEncoder."
      ]
    },
    {
      "cell_type": "code",
      "execution_count": 20,
      "id": "435c3afb",
      "metadata": {
        "execution": {
          "iopub.execute_input": "2021-09-14T05:45:27.874626Z",
          "iopub.status.busy": "2021-09-14T05:45:27.870962Z",
          "iopub.status.idle": "2021-09-14T05:45:27.876687Z",
          "shell.execute_reply": "2021-09-14T05:45:27.877051Z",
          "shell.execute_reply.started": "2021-09-14T04:56:21.635345Z"
        },
        "papermill": {
          "duration": 0.206771,
          "end_time": "2021-09-14T05:45:27.877202",
          "exception": false,
          "start_time": "2021-09-14T05:45:27.670431",
          "status": "completed"
        },
        "tags": [],
        "id": "435c3afb"
      },
      "outputs": [],
      "source": [
        "#from sklearn import preprocessing\n",
        "#le = preprocessing.LabelEncoder()\n",
        "#data['CDR'] = le.fit_transform(data['CDR'].values)"
      ]
    },
    {
      "cell_type": "markdown",
      "id": "0efdf2c3",
      "metadata": {
        "papermill": {
          "duration": 0.193788,
          "end_time": "2021-09-14T05:45:28.273332",
          "exception": false,
          "start_time": "2021-09-14T05:45:28.079544",
          "status": "completed"
        },
        "tags": [],
        "id": "0efdf2c3"
      },
      "source": [
        "Converting categorical variables to numeric using OneHot encoding."
      ]
    },
    {
      "cell_type": "code",
      "execution_count": 21,
      "id": "2ce65612",
      "metadata": {
        "execution": {
          "iopub.execute_input": "2021-09-14T05:45:28.723149Z",
          "iopub.status.busy": "2021-09-14T05:45:28.722287Z",
          "iopub.status.idle": "2021-09-14T05:45:28.731944Z",
          "shell.execute_reply": "2021-09-14T05:45:28.733033Z",
          "shell.execute_reply.started": "2021-09-14T04:56:25.900001Z"
        },
        "papermill": {
          "duration": 0.262642,
          "end_time": "2021-09-14T05:45:28.733363",
          "exception": false,
          "start_time": "2021-09-14T05:45:28.470721",
          "status": "completed"
        },
        "tags": [],
        "id": "2ce65612"
      },
      "outputs": [],
      "source": [
        "#data = pd.get_dummies(data)"
      ]
    },
    {
      "cell_type": "markdown",
      "id": "a4fa1566",
      "metadata": {
        "papermill": {
          "duration": 0.252695,
          "end_time": "2021-09-14T05:45:29.325423",
          "exception": false,
          "start_time": "2021-09-14T05:45:29.072728",
          "status": "completed"
        },
        "tags": [],
        "id": "a4fa1566"
      },
      "source": [
        "## Plotting the distribution of classes on a barplot."
      ]
    },
    {
      "cell_type": "code",
      "execution_count": 22,
      "id": "6eef90e2",
      "metadata": {
        "execution": {
          "iopub.execute_input": "2021-09-14T05:45:29.739939Z",
          "iopub.status.busy": "2021-09-14T05:45:29.728291Z",
          "iopub.status.idle": "2021-09-14T05:45:29.933336Z",
          "shell.execute_reply": "2021-09-14T05:45:29.934077Z",
          "shell.execute_reply.started": "2021-09-14T04:56:29.577511Z"
        },
        "papermill": {
          "duration": 0.414104,
          "end_time": "2021-09-14T05:45:29.934275",
          "exception": false,
          "start_time": "2021-09-14T05:45:29.520171",
          "status": "completed"
        },
        "tags": [],
        "id": "6eef90e2"
      },
      "outputs": [],
      "source": [
        "#plt.bar(data['CDR'].unique(),data['CDR'].value_counts())"
      ]
    },
    {
      "cell_type": "markdown",
      "id": "b8a928f4",
      "metadata": {
        "papermill": {
          "duration": 0.196081,
          "end_time": "2021-09-14T05:45:30.331398",
          "exception": false,
          "start_time": "2021-09-14T05:45:30.135317",
          "status": "completed"
        },
        "tags": [],
        "id": "b8a928f4"
      },
      "source": [
        "Neglecting the last class due to negligible size in the combined dataset."
      ]
    },
    {
      "cell_type": "code",
      "execution_count": 23,
      "id": "aa6da32c",
      "metadata": {
        "execution": {
          "iopub.execute_input": "2021-09-14T05:45:30.741064Z",
          "iopub.status.busy": "2021-09-14T05:45:30.740028Z",
          "iopub.status.idle": "2021-09-14T05:45:30.744045Z",
          "shell.execute_reply": "2021-09-14T05:45:30.744554Z",
          "shell.execute_reply.started": "2021-09-14T04:56:34.407485Z"
        },
        "papermill": {
          "duration": 0.218429,
          "end_time": "2021-09-14T05:45:30.744976",
          "exception": false,
          "start_time": "2021-09-14T05:45:30.526547",
          "status": "completed"
        },
        "tags": [],
        "id": "aa6da32c"
      },
      "outputs": [],
      "source": [
        "#data = data.drop(data[data['CDR']==3].index)\n",
        "#data.info()"
      ]
    },
    {
      "cell_type": "code",
      "execution_count": 24,
      "id": "44ccf807",
      "metadata": {
        "execution": {
          "iopub.execute_input": "2021-09-14T05:45:31.162050Z",
          "iopub.status.busy": "2021-09-14T05:45:31.160241Z",
          "iopub.status.idle": "2021-09-14T05:45:31.164017Z",
          "shell.execute_reply": "2021-09-14T05:45:31.164487Z",
          "shell.execute_reply.started": "2021-09-14T04:56:37.822220Z"
        },
        "papermill": {
          "duration": 0.207263,
          "end_time": "2021-09-14T05:45:31.164623",
          "exception": false,
          "start_time": "2021-09-14T05:45:30.957360",
          "status": "completed"
        },
        "tags": [],
        "id": "44ccf807"
      },
      "outputs": [],
      "source": [
        "y = labels\n",
        "x = data"
      ]
    },
    {
      "cell_type": "markdown",
      "id": "43015228",
      "metadata": {
        "papermill": {
          "duration": 0.19482,
          "end_time": "2021-09-14T05:45:31.559912",
          "exception": false,
          "start_time": "2021-09-14T05:45:31.365092",
          "status": "completed"
        },
        "tags": [],
        "id": "43015228"
      },
      "source": [
        "## Normalizing the data.\n",
        "We observe that different columns have different ranges of values. We use Z-score normalization in this case."
      ]
    },
    {
      "cell_type": "markdown",
      "id": "4e0f4313",
      "metadata": {
        "papermill": {
          "duration": 0.196826,
          "end_time": "2021-09-14T05:45:32.362260",
          "exception": false,
          "start_time": "2021-09-14T05:45:32.165434",
          "status": "completed"
        },
        "tags": [],
        "id": "4e0f4313"
      },
      "source": [
        "## Dividing dataset into train and test sets."
      ]
    },
    {
      "cell_type": "code",
      "execution_count": 25,
      "id": "30ec57f9",
      "metadata": {
        "execution": {
          "iopub.execute_input": "2021-09-14T05:45:32.763762Z",
          "iopub.status.busy": "2021-09-14T05:45:32.763159Z",
          "iopub.status.idle": "2021-09-14T05:45:32.768197Z",
          "shell.execute_reply": "2021-09-14T05:45:32.767747Z",
          "shell.execute_reply.started": "2021-09-14T04:56:43.165583Z"
        },
        "papermill": {
          "duration": 0.208904,
          "end_time": "2021-09-14T05:45:32.768324",
          "exception": false,
          "start_time": "2021-09-14T05:45:32.559420",
          "status": "completed"
        },
        "tags": [],
        "id": "30ec57f9"
      },
      "outputs": [],
      "source": [
        "X_train, X_test, y_train, y_test = train_test_split(x, y, random_state = 42,test_size=0.3)"
      ]
    },
    {
      "cell_type": "markdown",
      "id": "8730cfc9",
      "metadata": {
        "papermill": {
          "duration": 0.285164,
          "end_time": "2021-09-14T05:45:33.249107",
          "exception": false,
          "start_time": "2021-09-14T05:45:32.963943",
          "status": "completed"
        },
        "tags": [],
        "id": "8730cfc9"
      },
      "source": [
        "## Defining Models."
      ]
    },
    {
      "cell_type": "markdown",
      "id": "b317a31f",
      "metadata": {
        "papermill": {
          "duration": 0.356424,
          "end_time": "2021-09-14T05:45:33.955917",
          "exception": false,
          "start_time": "2021-09-14T05:45:33.599493",
          "status": "completed"
        },
        "tags": [],
        "id": "b317a31f"
      },
      "source": [
        "\n",
        "\n",
        "```\n",
        "# This is formatted as code\n",
        "```\n",
        "\n",
        "### 1. We will try hyperparameter tuning using cross-validation for XGBClassifier."
      ]
    },
    {
      "cell_type": "code",
      "execution_count": 26,
      "id": "070b3a7d",
      "metadata": {
        "execution": {
          "iopub.execute_input": "2021-09-14T05:45:34.494060Z",
          "iopub.status.busy": "2021-09-14T05:45:34.493339Z",
          "iopub.status.idle": "2021-09-14T06:09:25.309866Z",
          "shell.execute_reply": "2021-09-14T06:09:25.309036Z",
          "shell.execute_reply.started": "2021-09-14T04:57:22.970625Z"
        },
        "papermill": {
          "duration": 1431.031544,
          "end_time": "2021-09-14T06:09:25.310012",
          "exception": false,
          "start_time": "2021-09-14T05:45:34.278468",
          "status": "completed"
        },
        "tags": [],
        "id": "070b3a7d",
        "colab": {
          "base_uri": "https://localhost:8080/"
        },
        "outputId": "c4dd877f-6bc3-47cd-817c-8d09767eb32c"
      },
      "outputs": [
        {
          "output_type": "stream",
          "name": "stderr",
          "text": [
            "/usr/local/lib/python3.10/dist-packages/sklearn/model_selection/_split.py:700: UserWarning: The least populated class in y has only 4 members, which is less than n_splits=5.\n",
            "  warnings.warn(\n"
          ]
        },
        {
          "output_type": "execute_result",
          "data": {
            "text/plain": [
              "{'n_estimators': 798, 'max_depth': 10, 'learning_rate': 0.9}"
            ]
          },
          "metadata": {},
          "execution_count": 26
        }
      ],
      "source": [
        "from xgboost import XGBClassifier\n",
        "FOLDS = 5\n",
        "\n",
        "parametros_xgb = {\n",
        "    \"learning_rate\": [0.01, 0.025, 0.005,0.5, 0.075, 0.1, 0.15, 0.2,0.3,0.8,0.9],\n",
        "    \"max_depth\":[3,5,8,10,15,20,25,30,40,50],\n",
        "    \"n_estimators\":range(1,1000)\n",
        "    }\n",
        "\n",
        "model_xgb= XGBClassifier(eval_metric='mlogloss')\n",
        "\n",
        "\n",
        "xgb_random = RandomizedSearchCV(estimator = model_xgb, param_distributions = parametros_xgb, n_iter = 100, cv = FOLDS, \n",
        "                               verbose=0, random_state=42,n_jobs = -1, scoring='accuracy')\n",
        "xgb_random.fit(X_train, y_train)\n",
        "\n",
        "xgb_random.best_params_"
      ]
    },
    {
      "cell_type": "code",
      "execution_count": 27,
      "id": "6e117f21",
      "metadata": {
        "execution": {
          "iopub.execute_input": "2021-09-14T06:09:25.719323Z",
          "iopub.status.busy": "2021-09-14T06:09:25.712392Z",
          "iopub.status.idle": "2021-09-14T06:09:26.270996Z",
          "shell.execute_reply": "2021-09-14T06:09:26.271817Z",
          "shell.execute_reply.started": "2021-09-14T05:27:00.550496Z"
        },
        "papermill": {
          "duration": 0.765071,
          "end_time": "2021-09-14T06:09:26.272002",
          "exception": false,
          "start_time": "2021-09-14T06:09:25.506931",
          "status": "completed"
        },
        "tags": [],
        "id": "6e117f21",
        "colab": {
          "base_uri": "https://localhost:8080/"
        },
        "outputId": "3e58ebfe-a46b-4994-9b4d-a62b6a383e13"
      },
      "outputs": [
        {
          "output_type": "execute_result",
          "data": {
            "text/plain": [
              "0.7814207650273224"
            ]
          },
          "metadata": {},
          "execution_count": 27
        }
      ],
      "source": [
        "model_xgb = xgb_random.best_estimator_\n",
        "model_xgb.fit(X_train,y_train)\n",
        "model_xgb.score(X_test,y_test)"
      ]
    },
    {
      "cell_type": "markdown",
      "id": "eebd0ea3",
      "metadata": {
        "papermill": {
          "duration": 0.214898,
          "end_time": "2021-09-14T06:09:26.687259",
          "exception": false,
          "start_time": "2021-09-14T06:09:26.472361",
          "status": "completed"
        },
        "tags": [],
        "id": "eebd0ea3"
      },
      "source": [
        "### 2. Trying hyperparameter tuning of GradientBoostingClassifier."
      ]
    },
    {
      "cell_type": "code",
      "execution_count": 28,
      "id": "14d1359a",
      "metadata": {
        "execution": {
          "iopub.execute_input": "2021-09-14T06:09:27.095245Z",
          "iopub.status.busy": "2021-09-14T06:09:27.094362Z",
          "iopub.status.idle": "2021-09-14T06:11:59.309875Z",
          "shell.execute_reply": "2021-09-14T06:11:59.310656Z",
          "shell.execute_reply.started": "2021-09-14T05:27:00.806939Z"
        },
        "papermill": {
          "duration": 152.425113,
          "end_time": "2021-09-14T06:11:59.310867",
          "exception": false,
          "start_time": "2021-09-14T06:09:26.885754",
          "status": "completed"
        },
        "tags": [],
        "id": "14d1359a",
        "colab": {
          "base_uri": "https://localhost:8080/"
        },
        "outputId": "0f9da5fc-8e65-4e83-b776-056af627c903"
      },
      "outputs": [
        {
          "output_type": "stream",
          "name": "stderr",
          "text": [
            "/usr/local/lib/python3.10/dist-packages/sklearn/model_selection/_split.py:700: UserWarning: The least populated class in y has only 4 members, which is less than n_splits=10.\n",
            "  warnings.warn(\n",
            "/usr/local/lib/python3.10/dist-packages/sklearn/ensemble/_gb.py:280: FutureWarning: The loss parameter name 'deviance' was deprecated in v1.1 and will be removed in version 1.3. Use the new parameter name 'log_loss' which is equivalent.\n",
            "  warnings.warn(\n"
          ]
        },
        {
          "output_type": "execute_result",
          "data": {
            "text/plain": [
              "{'subsample': 0.618,\n",
              " 'n_estimators': 84,\n",
              " 'min_samples_split': 0.1,\n",
              " 'min_samples_leaf': 10,\n",
              " 'max_features': 'sqrt',\n",
              " 'max_depth': 20,\n",
              " 'loss': 'deviance',\n",
              " 'learning_rate': 0.3,\n",
              " 'criterion': 'squared_error'}"
            ]
          },
          "metadata": {},
          "execution_count": 28
        }
      ],
      "source": [
        "from sklearn.ensemble import GradientBoostingClassifier\n",
        "FOLDS =10\n",
        "\n",
        "parametros_gb = {\n",
        "    \"loss\":[\"deviance\"],\n",
        "    \"learning_rate\": [0.01, 0.025, 0.005,0.5, 0.075, 0.1, 0.15, 0.2,0.3,0.8,0.9],\n",
        "    \"min_samples_split\": [0.01, 0.025, 0.005,0.4,0.5, 0.075, 0.1, 0.15, 0.2,0.3,0.8,0.9],\n",
        "    \"min_samples_leaf\": [1,2,3,5,8,10,15,20,40,50,55,60,65,70,80,85,90,100],\n",
        "    \"max_depth\":[3,5,8,10,15,20,25,30,40,50],\n",
        "    \"max_features\":[\"log2\",\"sqrt\"],\n",
        "    \"criterion\": [\"friedman_mse\",  \"squared_error\"],\n",
        "    \"subsample\":[0.5, 0.618, 0.8, 0.85, 0.9, 0.95, 1.0],\n",
        "    \"n_estimators\":range(1,100)\n",
        "    }\n",
        "\n",
        "model_gb= GradientBoostingClassifier()\n",
        "\n",
        "\n",
        "gb_random = RandomizedSearchCV(estimator = model_gb, param_distributions = parametros_gb, n_iter = 100, cv = FOLDS, \n",
        "                               verbose=0, random_state=42,n_jobs = -1, scoring='accuracy')\n",
        "gb_random.fit(X_train, y_train)\n",
        "\n",
        "gb_random.best_params_"
      ]
    },
    {
      "cell_type": "code",
      "execution_count": 29,
      "id": "0831b693",
      "metadata": {
        "execution": {
          "iopub.execute_input": "2021-09-14T06:11:59.713966Z",
          "iopub.status.busy": "2021-09-14T06:11:59.713009Z",
          "iopub.status.idle": "2021-09-14T06:11:59.717236Z",
          "shell.execute_reply": "2021-09-14T06:11:59.716795Z",
          "shell.execute_reply.started": "2021-09-14T05:30:06.395729Z"
        },
        "papermill": {
          "duration": 0.210848,
          "end_time": "2021-09-14T06:11:59.717352",
          "exception": false,
          "start_time": "2021-09-14T06:11:59.506504",
          "status": "completed"
        },
        "tags": [],
        "id": "0831b693",
        "colab": {
          "base_uri": "https://localhost:8080/"
        },
        "outputId": "929a46a5-9c22-442e-dcad-892370ba6682"
      },
      "outputs": [
        {
          "output_type": "stream",
          "name": "stdout",
          "text": [
            "0.7540983606557377\n"
          ]
        }
      ],
      "source": [
        "model_gb = gb_random.best_estimator_\n",
        "print(model_gb.score(X_test,y_test))"
      ]
    },
    {
      "cell_type": "markdown",
      "id": "a5c39463",
      "metadata": {
        "papermill": {
          "duration": 0.198999,
          "end_time": "2021-09-14T06:12:00.116544",
          "exception": false,
          "start_time": "2021-09-14T06:11:59.917545",
          "status": "completed"
        },
        "tags": [],
        "id": "a5c39463"
      },
      "source": [
        "GradientBoosting model performs better than XGboost, Hence we try 10-fold cross validation on GradientBoostingClassifier model to improve accuracy."
      ]
    },
    {
      "cell_type": "code",
      "execution_count": 30,
      "id": "2c15354c",
      "metadata": {
        "execution": {
          "iopub.execute_input": "2021-09-14T06:12:00.520286Z",
          "iopub.status.busy": "2021-09-14T06:12:00.519443Z",
          "iopub.status.idle": "2021-09-14T06:12:04.963689Z",
          "shell.execute_reply": "2021-09-14T06:12:04.962519Z",
          "shell.execute_reply.started": "2021-09-14T05:42:16.797171Z"
        },
        "papermill": {
          "duration": 4.648814,
          "end_time": "2021-09-14T06:12:04.963822",
          "exception": false,
          "start_time": "2021-09-14T06:12:00.315008",
          "status": "completed"
        },
        "tags": [],
        "id": "2c15354c",
        "colab": {
          "base_uri": "https://localhost:8080/"
        },
        "outputId": "6171e86d-65be-466e-e7a6-b23a3355ae0a"
      },
      "outputs": [
        {
          "output_type": "stream",
          "name": "stderr",
          "text": [
            "/usr/local/lib/python3.10/dist-packages/sklearn/model_selection/_split.py:700: UserWarning: The least populated class in y has only 5 members, which is less than n_splits=10.\n",
            "  warnings.warn(\n",
            "/usr/local/lib/python3.10/dist-packages/sklearn/ensemble/_gb.py:280: FutureWarning: The loss parameter name 'deviance' was deprecated in v1.1 and will be removed in version 1.3. Use the new parameter name 'log_loss' which is equivalent.\n",
            "  warnings.warn(\n",
            "/usr/local/lib/python3.10/dist-packages/sklearn/ensemble/_gb.py:280: FutureWarning: The loss parameter name 'deviance' was deprecated in v1.1 and will be removed in version 1.3. Use the new parameter name 'log_loss' which is equivalent.\n",
            "  warnings.warn(\n",
            "/usr/local/lib/python3.10/dist-packages/sklearn/ensemble/_gb.py:280: FutureWarning: The loss parameter name 'deviance' was deprecated in v1.1 and will be removed in version 1.3. Use the new parameter name 'log_loss' which is equivalent.\n",
            "  warnings.warn(\n",
            "/usr/local/lib/python3.10/dist-packages/sklearn/ensemble/_gb.py:280: FutureWarning: The loss parameter name 'deviance' was deprecated in v1.1 and will be removed in version 1.3. Use the new parameter name 'log_loss' which is equivalent.\n",
            "  warnings.warn(\n",
            "/usr/local/lib/python3.10/dist-packages/sklearn/ensemble/_gb.py:280: FutureWarning: The loss parameter name 'deviance' was deprecated in v1.1 and will be removed in version 1.3. Use the new parameter name 'log_loss' which is equivalent.\n",
            "  warnings.warn(\n",
            "/usr/local/lib/python3.10/dist-packages/sklearn/ensemble/_gb.py:280: FutureWarning: The loss parameter name 'deviance' was deprecated in v1.1 and will be removed in version 1.3. Use the new parameter name 'log_loss' which is equivalent.\n",
            "  warnings.warn(\n",
            "/usr/local/lib/python3.10/dist-packages/sklearn/ensemble/_gb.py:280: FutureWarning: The loss parameter name 'deviance' was deprecated in v1.1 and will be removed in version 1.3. Use the new parameter name 'log_loss' which is equivalent.\n",
            "  warnings.warn(\n",
            "/usr/local/lib/python3.10/dist-packages/sklearn/ensemble/_gb.py:280: FutureWarning: The loss parameter name 'deviance' was deprecated in v1.1 and will be removed in version 1.3. Use the new parameter name 'log_loss' which is equivalent.\n",
            "  warnings.warn(\n",
            "/usr/local/lib/python3.10/dist-packages/sklearn/ensemble/_gb.py:280: FutureWarning: The loss parameter name 'deviance' was deprecated in v1.1 and will be removed in version 1.3. Use the new parameter name 'log_loss' which is equivalent.\n",
            "  warnings.warn(\n",
            "/usr/local/lib/python3.10/dist-packages/sklearn/ensemble/_gb.py:280: FutureWarning: The loss parameter name 'deviance' was deprecated in v1.1 and will be removed in version 1.3. Use the new parameter name 'log_loss' which is equivalent.\n",
            "  warnings.warn(\n"
          ]
        },
        {
          "output_type": "execute_result",
          "data": {
            "text/plain": [
              "0.7909836065573771"
            ]
          },
          "metadata": {},
          "execution_count": 30
        }
      ],
      "source": [
        "cross_val_score(model_gb, x, y, cv=10, scoring='accuracy').mean()"
      ]
    },
    {
      "cell_type": "markdown",
      "id": "1d38f50d",
      "metadata": {
        "papermill": {
          "duration": 0.203227,
          "end_time": "2021-09-14T06:12:05.365930",
          "exception": false,
          "start_time": "2021-09-14T06:12:05.162703",
          "status": "completed"
        },
        "tags": [],
        "id": "1d38f50d"
      },
      "source": [
        "### Making predictions using the best estimator and plotting the confusion matrix along with classification report."
      ]
    },
    {
      "cell_type": "code",
      "execution_count": 31,
      "id": "acee9ecd",
      "metadata": {
        "execution": {
          "iopub.execute_input": "2021-09-14T06:12:05.771542Z",
          "iopub.status.busy": "2021-09-14T06:12:05.770959Z",
          "iopub.status.idle": "2021-09-14T06:12:05.934640Z",
          "shell.execute_reply": "2021-09-14T06:12:05.935091Z",
          "shell.execute_reply.started": "2021-09-14T05:30:26.213710Z"
        },
        "papermill": {
          "duration": 0.372479,
          "end_time": "2021-09-14T06:12:05.935249",
          "exception": false,
          "start_time": "2021-09-14T06:12:05.562770",
          "status": "completed"
        },
        "tags": [],
        "id": "acee9ecd",
        "colab": {
          "base_uri": "https://localhost:8080/",
          "height": 1000
        },
        "outputId": "dbba03e0-8407-4343-a348-d37bf0d7d3f5"
      },
      "outputs": [
        {
          "output_type": "stream",
          "name": "stderr",
          "text": [
            "/usr/local/lib/python3.10/dist-packages/sklearn/metrics/_classification.py:1344: UndefinedMetricWarning: Precision and F-score are ill-defined and being set to 0.0 in labels with no predicted samples. Use `zero_division` parameter to control this behavior.\n",
            "  _warn_prf(average, modifier, msg_start, len(result))\n",
            "/usr/local/lib/python3.10/dist-packages/sklearn/metrics/_classification.py:1344: UndefinedMetricWarning: Precision and F-score are ill-defined and being set to 0.0 in labels with no predicted samples. Use `zero_division` parameter to control this behavior.\n",
            "  _warn_prf(average, modifier, msg_start, len(result))\n",
            "/usr/local/lib/python3.10/dist-packages/sklearn/metrics/_classification.py:1344: UndefinedMetricWarning: Precision and F-score are ill-defined and being set to 0.0 in labels with no predicted samples. Use `zero_division` parameter to control this behavior.\n",
            "  _warn_prf(average, modifier, msg_start, len(result))\n"
          ]
        },
        {
          "output_type": "display_data",
          "data": {
            "text/plain": [
              "<Figure size 800x800 with 1 Axes>"
            ],
            "image/png": "[encoded data removed]"
          },
          "metadata": {}
        },
        {
          "output_type": "stream",
          "name": "stdout",
          "text": [
            "Classification Report:\n",
            "----------------------\n",
            "               precision    recall  f1-score   support\n",
            "\n",
            "           0       0.79      0.90      0.84        99\n",
            "           1       0.65      0.57      0.61        58\n",
            "           2       0.84      0.64      0.73        25\n",
            "           3       0.00      0.00      0.00         1\n",
            "\n",
            "    accuracy                           0.75       183\n",
            "   macro avg       0.57      0.53      0.54       183\n",
            "weighted avg       0.75      0.75      0.75       183\n",
            "\n"
          ]
        }
      ],
      "source": [
        "y_pred = model_gb.predict(X_test)\n",
        "\n",
        "cm = confusion_matrix(y_test, y_pred)\n",
        "clr = classification_report(y_test, y_pred)\n",
        "\n",
        "plt.figure(figsize=(8, 8))\n",
        "sns.heatmap(cm, annot=True, vmin=0, fmt='g', cbar=False, cmap='Blues')\n",
        "plt.xlabel(\"Predicted\")\n",
        "plt.ylabel(\"Actual\")\n",
        "plt.title(\"Confusion Matrix\")\n",
        "plt.show()\n",
        "\n",
        "print(\"Classification Report:\\n----------------------\\n\", clr)\n"
      ]
    },
    {
      "cell_type": "code",
      "source": [
        "explainer = lime.lime_tabular.LimeTabularExplainer(X_train.values, \n",
        "                                                   feature_names=feature_names,\n",
        "                                                   class_names=class_names,\n",
        "                                                   categorical_features=categorical_features, \n",
        "                                                   categorical_names=categorical_names)"
      ],
      "metadata": {
        "id": "PM6XxhSwgEEX"
      },
      "id": "PM6XxhSwgEEX",
      "execution_count": 32,
      "outputs": []
    },
    {
      "cell_type": "code",
      "source": [
        "predict_fn = lambda x: model_xgb.predict_proba(encoder.transform(x)).astype(float)"
      ],
      "metadata": {
        "id": "FQjM--oXgNkO"
      },
      "id": "FQjM--oXgNkO",
      "execution_count": 36,
      "outputs": []
    },
    {
      "cell_type": "code",
      "source": [
        "i = 0\n",
        "print('Predicted class: ', y_pred[i])\n",
        "print('Actual class: ', y_test[i])\n",
        "# Get explanation\n",
        "exp = explainer.explain_instance((X_test.values[i]), predict_fn, num_features=9)"
      ],
      "metadata": {
        "colab": {
          "base_uri": "https://localhost:8080/",
          "height": 463
        },
        "id": "cePGzfWUgQMs",
        "outputId": "85d25d77-aa34-4f2b-cbf4-4cc75eebab09"
      },
      "id": "cePGzfWUgQMs",
      "execution_count": 40,
      "outputs": [
        {
          "output_type": "stream",
          "name": "stdout",
          "text": [
            "Predicted class:  1\n",
            "Actual class:  0\n"
          ]
        },
        {
          "output_type": "stream",
          "name": "stderr",
          "text": [
            "/usr/local/lib/python3.10/dist-packages/sklearn/base.py:439: UserWarning: X does not have valid feature names, but OneHotEncoder was fitted with feature names\n",
            "  warnings.warn(\n"
          ]
        },
        {
          "output_type": "error",
          "ename": "ValueError",
          "evalue": "ignored",
          "traceback": [
            "\u001b[0;31m---------------------------------------------------------------------------\u001b[0m",
            "\u001b[0;31mValueError\u001b[0m                                Traceback (most recent call last)",
            "\u001b[0;32m<ipython-input-40-dad6d01f4df5>\u001b[0m in \u001b[0;36m<cell line: 5>\u001b[0;34m()\u001b[0m\n\u001b[1;32m      3\u001b[0m \u001b[0mprint\u001b[0m\u001b[0;34m(\u001b[0m\u001b[0;34m'Actual class: '\u001b[0m\u001b[0;34m,\u001b[0m \u001b[0my_test\u001b[0m\u001b[0;34m[\u001b[0m\u001b[0mi\u001b[0m\u001b[0;34m]\u001b[0m\u001b[0;34m)\u001b[0m\u001b[0;34m\u001b[0m\u001b[0;34m\u001b[0m\u001b[0m\n\u001b[1;32m      4\u001b[0m \u001b[0;31m# Get explanation\u001b[0m\u001b[0;34m\u001b[0m\u001b[0;34m\u001b[0m\u001b[0m\n\u001b[0;32m----> 5\u001b[0;31m \u001b[0mexp\u001b[0m \u001b[0;34m=\u001b[0m \u001b[0mexplainer\u001b[0m\u001b[0;34m.\u001b[0m\u001b[0mexplain_instance\u001b[0m\u001b[0;34m(\u001b[0m\u001b[0;34m(\u001b[0m\u001b[0mX_test\u001b[0m\u001b[0;34m.\u001b[0m\u001b[0mvalues\u001b[0m\u001b[0;34m[\u001b[0m\u001b[0mi\u001b[0m\u001b[0;34m]\u001b[0m\u001b[0;34m)\u001b[0m\u001b[0;34m,\u001b[0m \u001b[0mpredict_fn\u001b[0m\u001b[0;34m,\u001b[0m \u001b[0mnum_features\u001b[0m\u001b[0;34m=\u001b[0m\u001b[0;36m9\u001b[0m\u001b[0;34m)\u001b[0m\u001b[0;34m\u001b[0m\u001b[0;34m\u001b[0m\u001b[0m\n\u001b[0m",
            "\u001b[0;32m/usr/local/lib/python3.10/dist-packages/lime/lime_tabular.py\u001b[0m in \u001b[0;36mexplain_instance\u001b[0;34m(self, data_row, predict_fn, labels, top_labels, num_features, num_samples, distance_metric, model_regressor)\u001b[0m\n\u001b[1;32m    353\u001b[0m         ).ravel()\n\u001b[1;32m    354\u001b[0m \u001b[0;34m\u001b[0m\u001b[0m\n\u001b[0;32m--> 355\u001b[0;31m         \u001b[0myss\u001b[0m \u001b[0;34m=\u001b[0m \u001b[0mpredict_fn\u001b[0m\u001b[0;34m(\u001b[0m\u001b[0minverse\u001b[0m\u001b[0;34m)\u001b[0m\u001b[0;34m\u001b[0m\u001b[0;34m\u001b[0m\u001b[0m\n\u001b[0m\u001b[1;32m    356\u001b[0m \u001b[0;34m\u001b[0m\u001b[0m\n\u001b[1;32m    357\u001b[0m         \u001b[0;31m# for classification, the model needs to provide a list of tuples - classes\u001b[0m\u001b[0;34m\u001b[0m\u001b[0;34m\u001b[0m\u001b[0m\n",
            "\u001b[0;32m<ipython-input-36-d42d421ef33d>\u001b[0m in \u001b[0;36m<lambda>\u001b[0;34m(x)\u001b[0m\n\u001b[0;32m----> 1\u001b[0;31m \u001b[0mpredict_fn\u001b[0m \u001b[0;34m=\u001b[0m \u001b[0;32mlambda\u001b[0m \u001b[0mx\u001b[0m\u001b[0;34m:\u001b[0m \u001b[0mmodel_xgb\u001b[0m\u001b[0;34m.\u001b[0m\u001b[0mpredict_proba\u001b[0m\u001b[0;34m(\u001b[0m\u001b[0mencoder\u001b[0m\u001b[0;34m.\u001b[0m\u001b[0mtransform\u001b[0m\u001b[0;34m(\u001b[0m\u001b[0mx\u001b[0m\u001b[0;34m)\u001b[0m\u001b[0;34m)\u001b[0m\u001b[0;34m.\u001b[0m\u001b[0mastype\u001b[0m\u001b[0;34m(\u001b[0m\u001b[0mfloat\u001b[0m\u001b[0;34m)\u001b[0m\u001b[0;34m\u001b[0m\u001b[0;34m\u001b[0m\u001b[0m\n\u001b[0m",
            "\u001b[0;32m/usr/local/lib/python3.10/dist-packages/xgboost/sklearn.py\u001b[0m in \u001b[0;36mpredict_proba\u001b[0;34m(self, X, ntree_limit, validate_features, base_margin, iteration_range)\u001b[0m\n\u001b[1;32m   1604\u001b[0m             \u001b[0mclass_prob\u001b[0m \u001b[0;34m=\u001b[0m \u001b[0msoftmax\u001b[0m\u001b[0;34m(\u001b[0m\u001b[0mraw_predt\u001b[0m\u001b[0;34m,\u001b[0m \u001b[0maxis\u001b[0m\u001b[0;34m=\u001b[0m\u001b[0;36m1\u001b[0m\u001b[0;34m)\u001b[0m\u001b[0;34m\u001b[0m\u001b[0;34m\u001b[0m\u001b[0m\n\u001b[1;32m   1605\u001b[0m             \u001b[0;32mreturn\u001b[0m \u001b[0mclass_prob\u001b[0m\u001b[0;34m\u001b[0m\u001b[0;34m\u001b[0m\u001b[0m\n\u001b[0;32m-> 1606\u001b[0;31m         class_probs = super().predict(\n\u001b[0m\u001b[1;32m   1607\u001b[0m             \u001b[0mX\u001b[0m\u001b[0;34m=\u001b[0m\u001b[0mX\u001b[0m\u001b[0;34m,\u001b[0m\u001b[0;34m\u001b[0m\u001b[0;34m\u001b[0m\u001b[0m\n\u001b[1;32m   1608\u001b[0m             \u001b[0mntree_limit\u001b[0m\u001b[0;34m=\u001b[0m\u001b[0mntree_limit\u001b[0m\u001b[0;34m,\u001b[0m\u001b[0;34m\u001b[0m\u001b[0;34m\u001b[0m\u001b[0m\n",
            "\u001b[0;32m/usr/local/lib/python3.10/dist-packages/xgboost/sklearn.py\u001b[0m in \u001b[0;36mpredict\u001b[0;34m(self, X, output_margin, ntree_limit, validate_features, base_margin, iteration_range)\u001b[0m\n\u001b[1;32m   1112\u001b[0m             \u001b[0;32mif\u001b[0m \u001b[0mself\u001b[0m\u001b[0;34m.\u001b[0m\u001b[0m_can_use_inplace_predict\u001b[0m\u001b[0;34m(\u001b[0m\u001b[0;34m)\u001b[0m\u001b[0;34m:\u001b[0m\u001b[0;34m\u001b[0m\u001b[0;34m\u001b[0m\u001b[0m\n\u001b[1;32m   1113\u001b[0m                 \u001b[0;32mtry\u001b[0m\u001b[0;34m:\u001b[0m\u001b[0;34m\u001b[0m\u001b[0;34m\u001b[0m\u001b[0m\n\u001b[0;32m-> 1114\u001b[0;31m                     predts = self.get_booster().inplace_predict(\n\u001b[0m\u001b[1;32m   1115\u001b[0m                         \u001b[0mdata\u001b[0m\u001b[0;34m=\u001b[0m\u001b[0mX\u001b[0m\u001b[0;34m,\u001b[0m\u001b[0;34m\u001b[0m\u001b[0;34m\u001b[0m\u001b[0m\n\u001b[1;32m   1116\u001b[0m                         \u001b[0miteration_range\u001b[0m\u001b[0;34m=\u001b[0m\u001b[0miteration_range\u001b[0m\u001b[0;34m,\u001b[0m\u001b[0;34m\u001b[0m\u001b[0;34m\u001b[0m\u001b[0m\n",
            "\u001b[0;32m/usr/local/lib/python3.10/dist-packages/xgboost/core.py\u001b[0m in \u001b[0;36minplace_predict\u001b[0;34m(self, data, iteration_range, predict_type, missing, validate_features, base_margin, strict_shape)\u001b[0m\n\u001b[1;32m   2267\u001b[0m                 )\n\u001b[1;32m   2268\u001b[0m             \u001b[0;32mif\u001b[0m \u001b[0mlen\u001b[0m\u001b[0;34m(\u001b[0m\u001b[0mdata\u001b[0m\u001b[0;34m.\u001b[0m\u001b[0mshape\u001b[0m\u001b[0;34m)\u001b[0m \u001b[0;34m!=\u001b[0m \u001b[0;36m1\u001b[0m \u001b[0;32mand\u001b[0m \u001b[0mself\u001b[0m\u001b[0;34m.\u001b[0m\u001b[0mnum_features\u001b[0m\u001b[0;34m(\u001b[0m\u001b[0;34m)\u001b[0m \u001b[0;34m!=\u001b[0m \u001b[0mdata\u001b[0m\u001b[0;34m.\u001b[0m\u001b[0mshape\u001b[0m\u001b[0;34m[\u001b[0m\u001b[0;36m1\u001b[0m\u001b[0;34m]\u001b[0m\u001b[0;34m:\u001b[0m\u001b[0;34m\u001b[0m\u001b[0;34m\u001b[0m\u001b[0m\n\u001b[0;32m-> 2269\u001b[0;31m                 raise ValueError(\n\u001b[0m\u001b[1;32m   2270\u001b[0m                     \u001b[0;34mf\"Feature shape mismatch, expected: {self.num_features()}, \"\u001b[0m\u001b[0;34m\u001b[0m\u001b[0;34m\u001b[0m\u001b[0m\n\u001b[1;32m   2271\u001b[0m                     \u001b[0;34mf\"got {data.shape[1]}\"\u001b[0m\u001b[0;34m\u001b[0m\u001b[0;34m\u001b[0m\u001b[0m\n",
            "\u001b[0;31mValueError\u001b[0m: Feature shape mismatch, expected: 9, got 10"
          ]
        }
      ]
    },
    {
      "cell_type": "code",
      "source": [
        "exp.as_list()"
      ],
      "metadata": {
        "colab": {
          "base_uri": "https://localhost:8080/",
          "height": 169
        },
        "id": "LWsQHC39gZgC",
        "outputId": "a2990400-05e1-4165-fbc0-73db6715d37e"
      },
      "id": "LWsQHC39gZgC",
      "execution_count": 34,
      "outputs": [
        {
          "output_type": "error",
          "ename": "NameError",
          "evalue": "ignored",
          "traceback": [
            "\u001b[0;31m---------------------------------------------------------------------------\u001b[0m",
            "\u001b[0;31mNameError\u001b[0m                                 Traceback (most recent call last)",
            "\u001b[0;32m<ipython-input-34-f4afb126eeef>\u001b[0m in \u001b[0;36m<cell line: 1>\u001b[0;34m()\u001b[0m\n\u001b[0;32m----> 1\u001b[0;31m \u001b[0mexp\u001b[0m\u001b[0;34m.\u001b[0m\u001b[0mas_list\u001b[0m\u001b[0;34m(\u001b[0m\u001b[0;34m)\u001b[0m\u001b[0;34m\u001b[0m\u001b[0;34m\u001b[0m\u001b[0m\n\u001b[0m",
            "\u001b[0;31mNameError\u001b[0m: name 'exp' is not defined"
          ]
        }
      ]
    },
    {
      "cell_type": "code",
      "source": [
        "# Visualize the explanation \n",
        "%matplotlib inline\n",
        "\n",
        "# fig = exp.as_pyplot_figure() \n",
        "#   can serve the same purpose but with the version installed, \n",
        "#   it's hard to control the details of the plot, such as the figure size \n",
        "fig = plt.figure(figsize=(4, 4))\n",
        "vals = [x[1] for x in exp.as_list(label=1)]\n",
        "names = [x[0] for x in exp.as_list(label=1)]\n",
        "vals.reverse()\n",
        "names.reverse()\n",
        "colors = ['green' if x > 0 else 'red' for x in vals]\n",
        "pos = np.arange(len(exp.as_list(label=1))) + .5\n",
        "plt.barh(pos, vals, align='center', color=colors)\n",
        "plt.yticks(pos, names)\n",
        "if exp.mode == \"classification\":\n",
        "    title = 'Local explanation for class %s' % exp.class_names[0]\n",
        "else:\n",
        "    title = 'Local explanation'\n",
        "plt.title(title)"
      ],
      "metadata": {
        "id": "Bs40gP3Lgcjm"
      },
      "id": "Bs40gP3Lgcjm",
      "execution_count": null,
      "outputs": []
    }
  ],
  "metadata": {
    "kernelspec": {
      "display_name": "Python 3",
      "language": "python",
      "name": "python3"
    },
    "language_info": {
      "codemirror_mode": {
        "name": "ipython",
        "version": 3
      },
      "file_extension": ".py",
      "mimetype": "text/x-python",
      "name": "python",
      "nbconvert_exporter": "python",
      "pygments_lexer": "ipython3",
      "version": "3.7.10"
    },
    "papermill": {
      "default_parameters": {},
      "duration": 1644.297117,
      "end_time": "2021-09-14T06:12:09.670256",
      "environment_variables": {},
      "exception": null,
      "input_path": "__notebook__.ipynb",
      "output_path": "__notebook__.ipynb",
      "parameters": {},
      "start_time": "2021-09-14T05:44:45.373139",
      "version": "2.3.3"
    },
    "colab": {
      "provenance": [],
      "include_colab_link": true
    },
    "gpuClass": "standard"
  },
  "nbformat": 4,
  "nbformat_minor": 5
}